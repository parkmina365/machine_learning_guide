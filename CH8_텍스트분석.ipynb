{
  "nbformat": 4,
  "nbformat_minor": 0,
  "metadata": {
    "orig_nbformat": 4,
    "language_info": {
      "name": "python",
      "version": "3.8.10",
      "mimetype": "text/x-python",
      "codemirror_mode": {
        "name": "ipython",
        "version": 3
      },
      "pygments_lexer": "ipython3",
      "nbconvert_exporter": "python",
      "file_extension": ".py"
    },
    "kernelspec": {
      "name": "python3",
      "display_name": "Python 3.8.10 64-bit ('cakd3': conda)"
    },
    "interpreter": {
      "hash": "b54ea5334ac7e30e14c15345e162e7c7584df602af4968ddc075c99bdced931e"
    },
    "colab": {
      "name": "CH8_텍스트분석.ipynb",
      "provenance": [],
      "include_colab_link": true
    }
  },
  "cells": [
    {
      "cell_type": "markdown",
      "metadata": {
        "id": "view-in-github",
        "colab_type": "text"
      },
      "source": [
        "<a href=\"https://colab.research.google.com/github/parkmina365/machine_learning_guide/blob/main/CH8_%ED%85%8D%EC%8A%A4%ED%8A%B8%EB%B6%84%EC%84%9D.ipynb\" target=\"_parent\"><img src=\"https://colab.research.google.com/assets/colab-badge.svg\" alt=\"Open In Colab\"/></a>"
      ]
    },
    {
      "cell_type": "markdown",
      "metadata": {
        "id": "lL2XBcr8beIi"
      },
      "source": [
        "# 8. 텍스트 분석(Text Analytics)\n",
        "- NLP? 텍스트 분석?\n",
        "   - NLP: 머신이 인간의 언어를 이해하고 해석하는 데 더 중점. 예) 기계 번역, 질의응답 시스템 \n",
        "   - 텍스트마이닝: 비정형 텍스트에서 의미 있는 정보를 추출하는 것에 좀 더 중점\n",
        "     - NLP 기술이 발전함에 따라 텍스트 분석도 정교하게 발전. 둘의 발전 근간에는 머신러닝이 존재\n",
        "- 텍스트 분석은 머신러닝, 언어이해, 통계 등을 활용해 모델을 수립하고 정보를 추출해 비즈니스 인텔리전스나 예측 분석 등의 분석작업을 주로 수행\n",
        "- 텍스트 분석의 기술 영역:\n",
        "  - 텍스트 분류(Text Classification, Categorization): 문서가 특정 분류 또는 카테고리에 속하는 것을 예측하는 기법을 통칭. 지도학습 \n",
        "  - 감성 분석(Sentiment Analysis): 텍스트에서 나타나는 감정/판단/믿음/의견/기분 등 주관적인 요소를 분석하는 기법을 총칭. SNS 감정분석, 영화나 제품에 대한 긍정 또는 리뷰, 여론조사 의견 분석등에서 활용. 지도학습과 비지도학습\n",
        "  - 텍스트 요약(Summarization): 텍스트 내에서 중요한 주제나 중심 사상을 추출하는 기법. 토픽 모델링이 대표적\n",
        "  - 텍스트 군집화(Clustering)와 유사도 측정: 비슷한 유형의 문서에 대해 군집화를 수행하는 기법. 텍스트 분류를 비지도학습으로 수행하는 방법의 일환으로 사용 가능. 유사도 측정은 문서들간의 유사도를 측정해 비슷한 문서끼리 모으는 방법"
      ]
    },
    {
      "cell_type": "markdown",
      "metadata": {
        "id": "_Jkxm-38beIp"
      },
      "source": [
        "## 1. 텍스트 분석 이해\n",
        "- 텍스트 분석은 비정형 데이터인 텍스트를 분석하는 것. 기존에 학습한 ML모델은 정형 데이터 기반으로 모델 수립하고 예측했음\n",
        "- 텍스트를 머신러닝에 활용하기 위해서는 비정형 텍스트를 어떻게 피쳐형태로 추출하고 피쳐에 의미있는 값을 부여하는지가 중요함\n",
        "- 피쳐 벡터화(Feature Vectorization), 피쳐 추출(Feature Extraction):\n",
        "  - 텍스트를 word 기반 다수의 피쳐로 추출하고 이 피쳐에 단어 빈도수 등의 숫자 값을 부여하여 텍스트를 단어의 조합인 벡터값으로 표현하는것\n",
        "  - BOW(Bag of Words), Word2Vec(임베딩 방식: 공간에 문장을 투영시킴) 등\n",
        "\n",
        "- 텍스트 분석 수행 프로세스\n",
        "  1. 텍스트 사전 준비작업(전처리): 대/소문자 변경, 특수문자 삭제 등의 클렌징 작업, 단어(Word)등의 토큰화 작업, 의미없는 단어(Stop Word)제거 작업, 어근 추출(Stemming/Lemmatization) 등의 텍스트 정규화 작업을 수행하는것을 통칭\n",
        "  2. 피쳐 벡터화/추출: 가공된 텍스트에서 피쳐를 추출하고 벡터 값을 할당. BOW, Word2Vec. BOW는 Count 기반, TF-IDF기반 벡터화가 있음\n",
        "  3. ML 모델 수립 및 학습/예측/평가\n",
        "\n",
        "- 파이썬 NLP, 텍스트분석 패키지\n",
        "  1. NLTK(Natural Language ToolKit for Python): 가장 대표적인 NLP 패키지. 수행성능, 정확도, 신기술, 엔터프라이즈한 기능 지원 등에서 부족. 실제 대량 데이터 기반에는 제대로 활용 못함\n",
        "  2. Gensim: 토픽 모델링 분야에서 가장 두각을 나타내는 패키지. Word2Vec 구현 등 다양한 신기능도 제공\n",
        "  3. SpaCy: 뛰어난 수행 성능으로 최근 가장 주목 받는 NLP 패키지\n",
        "  4. sklearn: 머신러닝 위주의 라이브러리라 어근처리 등의 NLP 패키지에 특화된 라이브러리는 가지고 있지 않음. 텍스트를 일정 수준으로 가공하고 머신러닝 알고지름에 텍스트 데이터를 피쳐로 처리하기 위한 기능을 제공하여 텍스트 분석 기능을 수행 할 수 있음"
      ]
    },
    {
      "cell_type": "markdown",
      "metadata": {
        "id": "I3LMP8SXbeIr"
      },
      "source": [
        "## 2. 텍스트 사전 준비 작업(텍스트 전처리): 텍스트 정규화\n",
        "- 텍스트 토큰화\n",
        "  - nltk.sent_tokenize(문장 토큰화): 문장의 마침표, 개행문자(\\n) 등 문장의 마지막을 뜻하는 기호에 따라 분리. 정규 표현식에 따른 문장 토큰화도 가능. 각 문장이 가지는 시맨틱적인 의미가 중요한 요소로 사용될 때 이용\n",
        "  - nltk.word_tokenize(단어 토큰화): 문장을 단어로 토큰화 함. 공백, 콤마, 마침표, 개행문자 등으로 단어를 분리. 정규 표현식에 따른 단어 토큰화도 가능. BOW 처럼 단어와 순서가 중요하지 않은 경우 문장 토큰화 없이 단어 토큰화만 사용해도 됨\n",
        "  - n-gram: 연속된 n개의 단어를 하나의 토큰화 단위로 분리해 내는 것. 문장을 단어별로 토큰화 할 경우 문맥적인 의미가 무시 되는데 이를 해결하고자 도입\n",
        "- stopwords 제거: 분석에 큰 의미가 없는 단어. 문장을 구성하는 필수 문법 요소이나 문맥적으로는 큰 의미가 없는 단어가 해당. 영어에서는 정관사, 대명사, 조동사 등. 빈번하게 텍스트에 나타나므로 제거하지 않으면 중요한 단어로 인지되는 문제점이 있기에 제거가 필요함. 언어별로 목록화 되어있음\n",
        "- Stem, Lemmatize\n",
        "  - Stem: 단어의 원형을 찾음\n",
        "  - Lemmatize: 단어의 원형을 찾으나 품사까지 고려하여 좀 더 정교함\n",
        "- Cleansing: 텍스트 분석에 방해가 되는 불필요한 문자, 기호 등을 사전에 제거하는 작업. 예)HTML, XML 태그나 특정 기호등 사전제거\n",
        "- 필터링, 철자 수정"
      ]
    },
    {
      "cell_type": "markdown",
      "metadata": {
        "id": "6AnqC2PvbeIs"
      },
      "source": [
        "### 1. sent_tokenize, word_tokenize"
      ]
    },
    {
      "cell_type": "code",
      "metadata": {
        "id": "vDhoRqWZbeIt",
        "outputId": "49751fff-193e-4943-fac0-462838fa00ce"
      },
      "source": [
        "import nltk\n",
        "from nltk import sent_tokenize  # 문장 토큰화\n",
        "nltk.download('punkt') # 마침표, 개행 문자 등의 데이터 세트 다운로드\n",
        "text_sample = 'The Matrix is everywhere its all around us, here even in this room. \\\n",
        "               You can see it out your window or on your television. \\\n",
        "               You feel it when you go to work, or go to church or pay your taxes.'\n",
        "sentences = sent_tokenize(text=text_sample)  # 전체 문장을 문장단위로 잘라서 리스트에 넣어줌\n",
        "print(type(sentences), len(sentences))\n",
        "print(sentences)"
      ],
      "execution_count": null,
      "outputs": [
        {
          "output_type": "stream",
          "name": "stdout",
          "text": [
            "<class 'list'> 3\n",
            "['The Matrix is everywhere its all around us, here even in this room.', 'You can see it out your window or on your television.', 'You feel it when you go to work, or go to church or pay your taxes.']\n"
          ]
        },
        {
          "output_type": "stream",
          "name": "stderr",
          "text": [
            "[nltk_data] Downloading package punkt to\n",
            "[nltk_data]     C:\\Users\\MINA\\AppData\\Roaming\\nltk_data...\n",
            "[nltk_data]   Package punkt is already up-to-date!\n"
          ]
        }
      ]
    },
    {
      "cell_type": "code",
      "metadata": {
        "id": "oJgb9IMDbeIw",
        "outputId": "321a839c-5d1c-4dc4-c092-e380906a4808"
      },
      "source": [
        "from nltk import word_tokenize  # 단어 토큰화\n",
        "sentence = sentences[0]\n",
        "words = word_tokenize(sentence)\n",
        "print(words)"
      ],
      "execution_count": null,
      "outputs": [
        {
          "output_type": "stream",
          "name": "stdout",
          "text": [
            "['The', 'Matrix', 'is', 'everywhere', 'its', 'all', 'around', 'us', ',', 'here', 'even', 'in', 'this', 'room', '.']\n"
          ]
        }
      ]
    },
    {
      "cell_type": "code",
      "metadata": {
        "id": "hkeGqszGbeIx",
        "outputId": "e4cca6e9-796c-4744-e078-f7a3a4342fcf"
      },
      "source": [
        "# 사용자 함수 생성하여 문장별로 단어 토큰화 하기\n",
        "def tokenize_text(text):\n",
        "    sentences = sent_tokenize(text)\n",
        "    word_tokens = [word_tokenize(sentence) for sentence in sentences]\n",
        "    return word_tokens\n",
        "word_tokens = tokenize_text(text_sample)\n",
        "print(type(word_tokens), len(word_tokens))\n",
        "print(word_tokens)"
      ],
      "execution_count": null,
      "outputs": [
        {
          "output_type": "stream",
          "name": "stdout",
          "text": [
            "<class 'list'> 3\n",
            "[['The', 'Matrix', 'is', 'everywhere', 'its', 'all', 'around', 'us', ',', 'here', 'even', 'in', 'this', 'room', '.'], ['You', 'can', 'see', 'it', 'out', 'your', 'window', 'or', 'on', 'your', 'television', '.'], ['You', 'feel', 'it', 'when', 'you', 'go', 'to', 'work', ',', 'or', 'go', 'to', 'church', 'or', 'pay', 'your', 'taxes', '.']]\n"
          ]
        }
      ]
    },
    {
      "cell_type": "markdown",
      "metadata": {
        "id": "LUWJjM6AbeIx"
      },
      "source": [
        "### 2. corpus.stopwords"
      ]
    },
    {
      "cell_type": "code",
      "metadata": {
        "id": "iMuIO8_ebeIy",
        "outputId": "1bd05419-195a-486b-8573-a5ea8daabc4a"
      },
      "source": [
        "nltk.download('stopwords') # 불용어 다운로드"
      ],
      "execution_count": null,
      "outputs": [
        {
          "output_type": "stream",
          "name": "stderr",
          "text": [
            "[nltk_data] Downloading package stopwords to\n",
            "[nltk_data]     C:\\Users\\MINA\\AppData\\Roaming\\nltk_data...\n",
            "[nltk_data]   Unzipping corpora\\stopwords.zip.\n"
          ]
        },
        {
          "output_type": "execute_result",
          "data": {
            "text/plain": [
              "True"
            ]
          },
          "metadata": {},
          "execution_count": 20
        }
      ]
    },
    {
      "cell_type": "code",
      "metadata": {
        "id": "GPz8dLo5beIy",
        "outputId": "b1f2bd94-56c7-4e92-98db-a583a88b6cf2"
      },
      "source": [
        "print(len(nltk.corpus.stopwords.words('english')))\n",
        "print(nltk.corpus.stopwords.words('english')[:20])"
      ],
      "execution_count": null,
      "outputs": [
        {
          "output_type": "stream",
          "name": "stdout",
          "text": [
            "179\n",
            "['i', 'me', 'my', 'myself', 'we', 'our', 'ours', 'ourselves', 'you', \"you're\", \"you've\", \"you'll\", \"you'd\", 'your', 'yours', 'yourself', 'yourselves', 'he', 'him', 'his']\n"
          ]
        }
      ]
    },
    {
      "cell_type": "code",
      "metadata": {
        "id": "DmtpI-6kbeIz",
        "outputId": "8e9732de-b50b-4fbd-dcec-5112a8003c7e"
      },
      "source": [
        "# 불용어 제거\n",
        "stopwords = nltk.corpus.stopwords.words('english')\n",
        "all_tokens = []\n",
        "for sentence in word_tokens:\n",
        "    filtered_words=[]\n",
        "    for word in sentence:\n",
        "        word = word.lower()\n",
        "        if word not in stopwords:\n",
        "            filtered_words.append(word)\n",
        "    all_tokens.append(filtered_words)\n",
        "print(all_tokens)"
      ],
      "execution_count": null,
      "outputs": [
        {
          "output_type": "stream",
          "name": "stdout",
          "text": [
            "[['matrix', 'everywhere', 'around', 'us', ',', 'even', 'room', '.'], ['see', 'window', 'television', '.'], ['feel', 'go', 'work', ',', 'go', 'church', 'pay', 'taxes', '.']]\n"
          ]
        }
      ]
    },
    {
      "cell_type": "markdown",
      "metadata": {
        "id": "8sS1YRvIbeIz"
      },
      "source": [
        "### 3. stemmer & lemmatizer\n",
        "- stem.LancasterStemmer\n",
        "- stem.WordNetLemmatizer"
      ]
    },
    {
      "cell_type": "code",
      "metadata": {
        "id": "BPuQ0UhVbeI0",
        "outputId": "7b881ee6-b6f2-440f-eca3-c4a6b110db74"
      },
      "source": [
        "# stem\n",
        "from nltk.stem import LancasterStemmer\n",
        "stemmer = LancasterStemmer()\n",
        "print(stemmer.stem('working'), stemmer.stem('works'), stemmer.stem('worked'))\n",
        "print(stemmer.stem('amusing'), stemmer.stem('amuse'), stemmer.stem('amused'))\n",
        "print(stemmer.stem('happier'), stemmer.stem('happiest'))\n",
        "print(stemmer.stem('fancier'), stemmer.stem('fanciest'))"
      ],
      "execution_count": null,
      "outputs": [
        {
          "output_type": "stream",
          "name": "stdout",
          "text": [
            "work work work\n",
            "amus amus amus\n",
            "happy happiest\n",
            "fant fanciest\n"
          ]
        }
      ]
    },
    {
      "cell_type": "code",
      "metadata": {
        "id": "OuWNzDU9beI0",
        "outputId": "bd161217-7432-407f-9a97-1c097d691c8a"
      },
      "source": [
        "# Lemmatize\n",
        "from nltk.stem import WordNetLemmatizer\n",
        "nltk.download('wordnet')\n",
        "\n",
        "lemma = WordNetLemmatizer()\n",
        "print(lemma.lemmatize('amusing','v'), lemma.lemmatize('amuse','v'),lemma.lemmatize('amused','v'))\n",
        "print(lemma.lemmatize('happier','a'), lemma.lemmatize('happiest','a'))\n",
        "print(lemma.lemmatize('fancier','a'), lemma.lemmatize('fanciest','a'))"
      ],
      "execution_count": null,
      "outputs": [
        {
          "output_type": "stream",
          "name": "stderr",
          "text": [
            "[nltk_data] Downloading package wordnet to\n",
            "[nltk_data]     C:\\Users\\MINA\\AppData\\Roaming\\nltk_data...\n",
            "[nltk_data]   Package wordnet is already up-to-date!\n"
          ]
        },
        {
          "output_type": "stream",
          "name": "stdout",
          "text": [
            "amuse amuse amuse\n",
            "happy happy\n",
            "fancy fancy\n"
          ]
        }
      ]
    },
    {
      "cell_type": "markdown",
      "metadata": {
        "id": "hDRmzJmQbeI0"
      },
      "source": [
        "## 3. Bag of Words(BOW)\n",
        "- 문서가 가지는 모든 단어를 문맥이나 순서를 무시하고 일괄적으로 단어에 대해 빈도 값을 부여해 피쳐 값을 추출하는 모델\n",
        "- 문서 내 모든 단어를 한꺼번에 봉투(Bag)에 넣은 뒤에 흔들어서 섞는다는 의미. Bag of Words(BOW)\n",
        "- 장점: 쉽고 빠른 구축. 단어의 발생 횟수에 기반하나 문서의 특징을 잘 나타낼 수 있는 모델이므로 여러 분야에서 활용도가 높음\n",
        "- 단점:\\\n",
        "문맥 의미(Semantic Context) 반영 부족: 단어의 순서를 고려하지 않아 문장 내에서 단어의 문맥적 의미가 무시됨. 보완하기 위해 n_gram 기법 활용할 수 있으나 제한적인 부분에 그침\\\n",
        "희소 행렬 문제: BOW로 피쳐 벡터화를 수행하면 희소 행렬(Sparse Matrix) 형태의 데이터 세트가 만들어지기 쉬움. 희소행렬은 ML 알고리즘의 수행시간과 예측성능을 떨어뜨리기에 밀집 행렬(Dense Matrix)로 바꿔주는 기법 등이 필요\n",
        "\n",
        "- BOW 피쳐 벡터화: 텍스트를 특정 의미를 가지는 숫자형 값인 벡터값으로 변환하는 것. 각 문서의 텍스트를 단어로 추출해 피쳐로 할당하고, 각 단어의 발생 빈도와 같은 값을 이 피쳐에 값으로 부여해 단어 피쳐의 발생 빈도 값으로 구성된 단어를 만드는 기법. 기존 텍스트를 또 다른 형태의 피쳐의 조합으로 변경하는 것이기에 넓은 의미의 피쳐 추출에 포함함. 모든 문서에서 모든 단어를 칼럼 형태로 나열하고 각 문서에서 해당 단어의 횟수나 정규화된 빈도를 값으로 부여하는 데이터 세트 모델로 변경하는 것\n",
        "  - 카운트 기반의 벡터화: 각 문서에서 해당 단어가 나타나는 횟수를 부여하는 것. 카운트 값이 \n",
        "  - TF-IDF 기반의 벡터화(Term Frequency - Inverse Document Frequecy): \n",
        "\n",
        "- 희소 행렬(COO 형식)\n",
        "\n",
        "\n",
        "- 희소 행렬(COO 형식)\n"
      ]
    },
    {
      "cell_type": "markdown",
      "metadata": {
        "id": "_ApuF4G_beI1"
      },
      "source": [
        "- 희소 행렬 변환(COO 형식):\\\n",
        "0이 아닌 데이터만 별도의 데이터 배열에 저장하고, 그 데이터가 가리키는 행과 열의 위치를 별도의 배열로 저장하는 방식"
      ]
    },
    {
      "cell_type": "code",
      "metadata": {
        "id": "__-097JAbeI1",
        "outputId": "47501973-2c10-497c-bf92-840a12bcf457"
      },
      "source": [
        "# COO\n",
        "import numpy as np\n",
        "from scipy import sparse\n",
        "dense = np.array([[3,0,1], [0,2,0]])\n",
        "\n",
        "# 0이 아닌 데이터 추출\n",
        "data = np.array([3,1,2])\n",
        "\n",
        "# 행, 열 위치를 각각 배열로 생성\n",
        "row_pos = np.array([0,0,1])\n",
        "col_pos = np.array([0,2,1])\n",
        "\n",
        "# COO 형식으로 희소 행렬 생성\n",
        "sparse_coo = sparse.coo_matrix((data, (row_pos, col_pos)))\n",
        "sparse_coo.toarray()"
      ],
      "execution_count": null,
      "outputs": [
        {
          "output_type": "execute_result",
          "data": {
            "text/plain": [
              "array([[3, 0, 1],\n",
              "       [0, 2, 0]])"
            ]
          },
          "metadata": {},
          "execution_count": 46
        }
      ]
    },
    {
      "cell_type": "markdown",
      "metadata": {
        "id": "q5IZvf-sbeI1"
      },
      "source": [
        "- 희소 행렬 변환(CSR 형식):\\\n",
        "COO 형식이 행과 열의 위치를 나타내기 위해 반복적인 위치 데이터를 사용해야 하는 문제점을 해결"
      ]
    },
    {
      "cell_type": "code",
      "metadata": {
        "id": "nBIbzHk-beI2",
        "outputId": "952d096e-fcdf-4cb4-a99c-f95e61abd0e0"
      },
      "source": [
        "dense = np.array([[0,0,1,0,0,5],[1,4,0,3,2,5],[0,6,0,3,0,0],[2,0,0,0,0,0],[0,0,0,7,0,8],[1,0,0,0,0,0]])\n",
        "display(dense)\n",
        "\n",
        "# COO 방식\n",
        "data2 = np.array([1,5,1,4,3,2,5,6,3,2,7,8,1])\n",
        "row_pos = np.array([0,0,1,1,1,1,1,2,2,3,4,4,5])\n",
        "col_pos = np.array([2,5,0,1,3,4,5,1,3,0,3,5,0])\n",
        "sparse_coo1 = sparse.coo_matrix((data2, (row_pos, col_pos)))\n",
        "sparse_coo1.toarray()"
      ],
      "execution_count": null,
      "outputs": [
        {
          "output_type": "display_data",
          "data": {
            "text/plain": [
              "array([[0, 0, 1, 0, 0, 5],\n",
              "       [1, 4, 0, 3, 2, 5],\n",
              "       [0, 6, 0, 3, 0, 0],\n",
              "       [2, 0, 0, 0, 0, 0],\n",
              "       [0, 0, 0, 7, 0, 8],\n",
              "       [1, 0, 0, 0, 0, 0]])"
            ]
          },
          "metadata": {}
        },
        {
          "output_type": "execute_result",
          "data": {
            "text/plain": [
              "array([[0, 0, 1, 0, 0, 5],\n",
              "       [1, 4, 0, 3, 2, 5],\n",
              "       [0, 6, 0, 3, 0, 0],\n",
              "       [2, 0, 0, 0, 0, 0],\n",
              "       [0, 0, 0, 7, 0, 8],\n",
              "       [1, 0, 0, 0, 0, 0]])"
            ]
          },
          "metadata": {},
          "execution_count": 57
        }
      ]
    },
    {
      "cell_type": "code",
      "metadata": {
        "id": "KfA0SPpjbeI2",
        "outputId": "4e4536d8-cf40-44db-e171-12adeb0e7f17"
      },
      "source": [
        "# CSR 방식\n",
        "# col position은 그대로. row position을 인덱스로 처리\n",
        "row_pos_ind = np.array([0,2,7,9,10,12,13])  # 행 위치 배열의 고유값 시작 인덱스 배열 + 총 항목수 배열\n",
        "sparse_csr = sparse.csr_matrix((data2, col_pos, row_pos_ind))\n",
        "sparse_csr.toarray()"
      ],
      "execution_count": null,
      "outputs": [
        {
          "output_type": "execute_result",
          "data": {
            "text/plain": [
              "array([[0, 0, 1, 0, 0, 5],\n",
              "       [1, 4, 0, 3, 2, 5],\n",
              "       [0, 6, 0, 3, 0, 0],\n",
              "       [2, 0, 0, 0, 0, 0],\n",
              "       [0, 0, 0, 7, 0, 8],\n",
              "       [1, 0, 0, 0, 0, 0]])"
            ]
          },
          "metadata": {},
          "execution_count": 60
        }
      ]
    },
    {
      "cell_type": "markdown",
      "metadata": {
        "id": "aFQKeqcrbeI2"
      },
      "source": [
        "## 4. 텍스트 분류 실습: 20 뉴스그룹 분류"
      ]
    },
    {
      "cell_type": "code",
      "metadata": {
        "id": "ee3Ou0ZPbeI2",
        "outputId": "627be3f5-2347-40c1-b58f-861337709fe8"
      },
      "source": [
        "from sklearn.datasets import fetch_20newsgroups\n",
        "news_data = fetch_20newsgroups(subset='all', random_state=156)\n",
        "news_data.keys()"
      ],
      "execution_count": null,
      "outputs": [
        {
          "output_type": "execute_result",
          "data": {
            "text/plain": [
              "dict_keys(['data', 'filenames', 'target_names', 'target', 'DESCR'])"
            ]
          },
          "metadata": {},
          "execution_count": 62
        }
      ]
    },
    {
      "cell_type": "code",
      "metadata": {
        "id": "e6i2OegMbeI3",
        "outputId": "fc614203-552b-469e-8de8-ed4ceeed1e4f"
      },
      "source": [
        "import pandas as pd\n",
        "# pd.Series(news_data.target.value_counts().sort_index()) # target이 고르게 분포됨\n",
        "# pd.DataFrame(news_data.target, columns=news_data.target_names)\n",
        "pd.Series(news_data.target).value_counts().sort_index()"
      ],
      "execution_count": null,
      "outputs": [
        {
          "output_type": "execute_result",
          "data": {
            "text/plain": [
              "0     799\n",
              "1     973\n",
              "2     985\n",
              "3     982\n",
              "4     963\n",
              "5     988\n",
              "6     975\n",
              "7     990\n",
              "8     996\n",
              "9     994\n",
              "10    999\n",
              "11    991\n",
              "12    984\n",
              "13    990\n",
              "14    987\n",
              "15    997\n",
              "16    910\n",
              "17    940\n",
              "18    775\n",
              "19    628\n",
              "dtype: int64"
            ]
          },
          "metadata": {},
          "execution_count": 85
        }
      ]
    },
    {
      "cell_type": "code",
      "metadata": {
        "id": "Og2hRJYAbeI3",
        "outputId": "a3868acc-31f2-4be3-e768-eb8f1bbf7d33"
      },
      "source": [
        "target = pd.DataFrame(pd.Series(news_data.target).value_counts().sort_index())\n",
        "target.index = news_data.target_names\n",
        "target"
      ],
      "execution_count": null,
      "outputs": [
        {
          "output_type": "execute_result",
          "data": {
            "text/html": [
              "<div>\n",
              "<style scoped>\n",
              "    .dataframe tbody tr th:only-of-type {\n",
              "        vertical-align: middle;\n",
              "    }\n",
              "\n",
              "    .dataframe tbody tr th {\n",
              "        vertical-align: top;\n",
              "    }\n",
              "\n",
              "    .dataframe thead th {\n",
              "        text-align: right;\n",
              "    }\n",
              "</style>\n",
              "<table border=\"1\" class=\"dataframe\">\n",
              "  <thead>\n",
              "    <tr style=\"text-align: right;\">\n",
              "      <th></th>\n",
              "      <th>0</th>\n",
              "    </tr>\n",
              "  </thead>\n",
              "  <tbody>\n",
              "    <tr>\n",
              "      <th>alt.atheism</th>\n",
              "      <td>799</td>\n",
              "    </tr>\n",
              "    <tr>\n",
              "      <th>comp.graphics</th>\n",
              "      <td>973</td>\n",
              "    </tr>\n",
              "    <tr>\n",
              "      <th>comp.os.ms-windows.misc</th>\n",
              "      <td>985</td>\n",
              "    </tr>\n",
              "    <tr>\n",
              "      <th>comp.sys.ibm.pc.hardware</th>\n",
              "      <td>982</td>\n",
              "    </tr>\n",
              "    <tr>\n",
              "      <th>comp.sys.mac.hardware</th>\n",
              "      <td>963</td>\n",
              "    </tr>\n",
              "    <tr>\n",
              "      <th>comp.windows.x</th>\n",
              "      <td>988</td>\n",
              "    </tr>\n",
              "    <tr>\n",
              "      <th>misc.forsale</th>\n",
              "      <td>975</td>\n",
              "    </tr>\n",
              "    <tr>\n",
              "      <th>rec.autos</th>\n",
              "      <td>990</td>\n",
              "    </tr>\n",
              "    <tr>\n",
              "      <th>rec.motorcycles</th>\n",
              "      <td>996</td>\n",
              "    </tr>\n",
              "    <tr>\n",
              "      <th>rec.sport.baseball</th>\n",
              "      <td>994</td>\n",
              "    </tr>\n",
              "    <tr>\n",
              "      <th>rec.sport.hockey</th>\n",
              "      <td>999</td>\n",
              "    </tr>\n",
              "    <tr>\n",
              "      <th>sci.crypt</th>\n",
              "      <td>991</td>\n",
              "    </tr>\n",
              "    <tr>\n",
              "      <th>sci.electronics</th>\n",
              "      <td>984</td>\n",
              "    </tr>\n",
              "    <tr>\n",
              "      <th>sci.med</th>\n",
              "      <td>990</td>\n",
              "    </tr>\n",
              "    <tr>\n",
              "      <th>sci.space</th>\n",
              "      <td>987</td>\n",
              "    </tr>\n",
              "    <tr>\n",
              "      <th>soc.religion.christian</th>\n",
              "      <td>997</td>\n",
              "    </tr>\n",
              "    <tr>\n",
              "      <th>talk.politics.guns</th>\n",
              "      <td>910</td>\n",
              "    </tr>\n",
              "    <tr>\n",
              "      <th>talk.politics.mideast</th>\n",
              "      <td>940</td>\n",
              "    </tr>\n",
              "    <tr>\n",
              "      <th>talk.politics.misc</th>\n",
              "      <td>775</td>\n",
              "    </tr>\n",
              "    <tr>\n",
              "      <th>talk.religion.misc</th>\n",
              "      <td>628</td>\n",
              "    </tr>\n",
              "  </tbody>\n",
              "</table>\n",
              "</div>"
            ],
            "text/plain": [
              "                            0\n",
              "alt.atheism               799\n",
              "comp.graphics             973\n",
              "comp.os.ms-windows.misc   985\n",
              "comp.sys.ibm.pc.hardware  982\n",
              "comp.sys.mac.hardware     963\n",
              "comp.windows.x            988\n",
              "misc.forsale              975\n",
              "rec.autos                 990\n",
              "rec.motorcycles           996\n",
              "rec.sport.baseball        994\n",
              "rec.sport.hockey          999\n",
              "sci.crypt                 991\n",
              "sci.electronics           984\n",
              "sci.med                   990\n",
              "sci.space                 987\n",
              "soc.religion.christian    997\n",
              "talk.politics.guns        910\n",
              "talk.politics.mideast     940\n",
              "talk.politics.misc        775\n",
              "talk.religion.misc        628"
            ]
          },
          "metadata": {},
          "execution_count": 102
        }
      ]
    },
    {
      "cell_type": "code",
      "metadata": {
        "id": "DuHAPTPhbeI3",
        "outputId": "a8c85cdf-6b67-447c-8c72-b10b8ea35480"
      },
      "source": [
        "print(news_data.data[0])"
      ],
      "execution_count": null,
      "outputs": [
        {
          "output_type": "stream",
          "name": "stdout",
          "text": [
            "From: egreen@east.sun.com (Ed Green - Pixel Cruncher)\n",
            "Subject: Re: Observation re: helmets\n",
            "Organization: Sun Microsystems, RTP, NC\n",
            "Lines: 21\n",
            "Distribution: world\n",
            "Reply-To: egreen@east.sun.com\n",
            "NNTP-Posting-Host: laser.east.sun.com\n",
            "\n",
            "In article 211353@mavenry.altcit.eskimo.com, maven@mavenry.altcit.eskimo.com (Norman Hamer) writes:\n",
            "> \n",
            "> The question for the day is re: passenger helmets, if you don't know for \n",
            ">certain who's gonna ride with you (like say you meet them at a .... church \n",
            ">meeting, yeah, that's the ticket)... What are some guidelines? Should I just \n",
            ">pick up another shoei in my size to have a backup helmet (XL), or should I \n",
            ">maybe get an inexpensive one of a smaller size to accomodate my likely \n",
            ">passenger? \n",
            "\n",
            "If your primary concern is protecting the passenger in the event of a\n",
            "crash, have him or her fitted for a helmet that is their size.  If your\n",
            "primary concern is complying with stupid helmet laws, carry a real big\n",
            "spare (you can put a big or small head in a big helmet, but not in a\n",
            "small one).\n",
            "\n",
            "---\n",
            "Ed Green, former Ninjaite |I was drinking last night with a biker,\n",
            "  Ed.Green@East.Sun.COM   |and I showed him a picture of you.  I said,\n",
            "DoD #0111  (919)460-8302  |\"Go on, get to know her, you'll like her!\"\n",
            " (The Grateful Dead) -->  |It seemed like the least I could do...\n",
            "\n",
            "\n"
          ]
        }
      ]
    },
    {
      "cell_type": "code",
      "metadata": {
        "id": "GADAayrObeI3",
        "outputId": "abe20021-6c12-44cc-a15c-1ef34c72be75"
      },
      "source": [
        "print(news_data.DESCR)"
      ],
      "execution_count": null,
      "outputs": [
        {
          "output_type": "stream",
          "name": "stdout",
          "text": [
            ".. _20newsgroups_dataset:\n",
            "\n",
            "The 20 newsgroups text dataset\n",
            "------------------------------\n",
            "\n",
            "The 20 newsgroups dataset comprises around 18000 newsgroups posts on\n",
            "20 topics split in two subsets: one for training (or development)\n",
            "and the other one for testing (or for performance evaluation). The split\n",
            "between the train and test set is based upon a messages posted before\n",
            "and after a specific date.\n",
            "\n",
            "This module contains two loaders. The first one,\n",
            ":func:`sklearn.datasets.fetch_20newsgroups`,\n",
            "returns a list of the raw texts that can be fed to text feature\n",
            "extractors such as :class:`~sklearn.feature_extraction.text.CountVectorizer`\n",
            "with custom parameters so as to extract feature vectors.\n",
            "The second one, :func:`sklearn.datasets.fetch_20newsgroups_vectorized`,\n",
            "returns ready-to-use features, i.e., it is not necessary to use a feature\n",
            "extractor.\n",
            "\n",
            "**Data Set Characteristics:**\n",
            "\n",
            "    =================   ==========\n",
            "    Classes                     20\n",
            "    Samples total            18846\n",
            "    Dimensionality               1\n",
            "    Features                  text\n",
            "    =================   ==========\n",
            "\n",
            "Usage\n",
            "~~~~~\n",
            "\n",
            "The :func:`sklearn.datasets.fetch_20newsgroups` function is a data\n",
            "fetching / caching functions that downloads the data archive from\n",
            "the original `20 newsgroups website`_, extracts the archive contents\n",
            "in the ``~/scikit_learn_data/20news_home`` folder and calls the\n",
            ":func:`sklearn.datasets.load_files` on either the training or\n",
            "testing set folder, or both of them::\n",
            "\n",
            "  >>> from sklearn.datasets import fetch_20newsgroups\n",
            "  >>> newsgroups_train = fetch_20newsgroups(subset='train')\n",
            "\n",
            "  >>> from pprint import pprint\n",
            "  >>> pprint(list(newsgroups_train.target_names))\n",
            "  ['alt.atheism',\n",
            "   'comp.graphics',\n",
            "   'comp.os.ms-windows.misc',\n",
            "   'comp.sys.ibm.pc.hardware',\n",
            "   'comp.sys.mac.hardware',\n",
            "   'comp.windows.x',\n",
            "   'misc.forsale',\n",
            "   'rec.autos',\n",
            "   'rec.motorcycles',\n",
            "   'rec.sport.baseball',\n",
            "   'rec.sport.hockey',\n",
            "   'sci.crypt',\n",
            "   'sci.electronics',\n",
            "   'sci.med',\n",
            "   'sci.space',\n",
            "   'soc.religion.christian',\n",
            "   'talk.politics.guns',\n",
            "   'talk.politics.mideast',\n",
            "   'talk.politics.misc',\n",
            "   'talk.religion.misc']\n",
            "\n",
            "The real data lies in the ``filenames`` and ``target`` attributes. The target\n",
            "attribute is the integer index of the category::\n",
            "\n",
            "  >>> newsgroups_train.filenames.shape\n",
            "  (11314,)\n",
            "  >>> newsgroups_train.target.shape\n",
            "  (11314,)\n",
            "  >>> newsgroups_train.target[:10]\n",
            "  array([ 7,  4,  4,  1, 14, 16, 13,  3,  2,  4])\n",
            "\n",
            "It is possible to load only a sub-selection of the categories by passing the\n",
            "list of the categories to load to the\n",
            ":func:`sklearn.datasets.fetch_20newsgroups` function::\n",
            "\n",
            "  >>> cats = ['alt.atheism', 'sci.space']\n",
            "  >>> newsgroups_train = fetch_20newsgroups(subset='train', categories=cats)\n",
            "\n",
            "  >>> list(newsgroups_train.target_names)\n",
            "  ['alt.atheism', 'sci.space']\n",
            "  >>> newsgroups_train.filenames.shape\n",
            "  (1073,)\n",
            "  >>> newsgroups_train.target.shape\n",
            "  (1073,)\n",
            "  >>> newsgroups_train.target[:10]\n",
            "  array([0, 1, 1, 1, 0, 1, 1, 0, 0, 0])\n",
            "\n",
            "Converting text to vectors\n",
            "~~~~~~~~~~~~~~~~~~~~~~~~~~\n",
            "\n",
            "In order to feed predictive or clustering models with the text data,\n",
            "one first need to turn the text into vectors of numerical values suitable\n",
            "for statistical analysis. This can be achieved with the utilities of the\n",
            "``sklearn.feature_extraction.text`` as demonstrated in the following\n",
            "example that extract `TF-IDF`_ vectors of unigram tokens\n",
            "from a subset of 20news::\n",
            "\n",
            "  >>> from sklearn.feature_extraction.text import TfidfVectorizer\n",
            "  >>> categories = ['alt.atheism', 'talk.religion.misc',\n",
            "  ...               'comp.graphics', 'sci.space']\n",
            "  >>> newsgroups_train = fetch_20newsgroups(subset='train',\n",
            "  ...                                       categories=categories)\n",
            "  >>> vectorizer = TfidfVectorizer()\n",
            "  >>> vectors = vectorizer.fit_transform(newsgroups_train.data)\n",
            "  >>> vectors.shape\n",
            "  (2034, 34118)\n",
            "\n",
            "The extracted TF-IDF vectors are very sparse, with an average of 159 non-zero\n",
            "components by sample in a more than 30000-dimensional space\n",
            "(less than .5% non-zero features)::\n",
            "\n",
            "  >>> vectors.nnz / float(vectors.shape[0])\n",
            "  159.01327...\n",
            "\n",
            ":func:`sklearn.datasets.fetch_20newsgroups_vectorized` is a function which \n",
            "returns ready-to-use token counts features instead of file names.\n",
            "\n",
            ".. _`20 newsgroups website`: http://people.csail.mit.edu/jrennie/20Newsgroups/\n",
            ".. _`TF-IDF`: https://en.wikipedia.org/wiki/Tf-idf\n",
            "\n",
            "\n",
            "Filtering text for more realistic training\n",
            "~~~~~~~~~~~~~~~~~~~~~~~~~~~~~~~~~~~~~~~~~~\n",
            "\n",
            "It is easy for a classifier to overfit on particular things that appear in the\n",
            "20 Newsgroups data, such as newsgroup headers. Many classifiers achieve very\n",
            "high F-scores, but their results would not generalize to other documents that\n",
            "aren't from this window of time.\n",
            "\n",
            "For example, let's look at the results of a multinomial Naive Bayes classifier,\n",
            "which is fast to train and achieves a decent F-score::\n",
            "\n",
            "  >>> from sklearn.naive_bayes import MultinomialNB\n",
            "  >>> from sklearn import metrics\n",
            "  >>> newsgroups_test = fetch_20newsgroups(subset='test',\n",
            "  ...                                      categories=categories)\n",
            "  >>> vectors_test = vectorizer.transform(newsgroups_test.data)\n",
            "  >>> clf = MultinomialNB(alpha=.01)\n",
            "  >>> clf.fit(vectors, newsgroups_train.target)\n",
            "  MultinomialNB(alpha=0.01, class_prior=None, fit_prior=True)\n",
            "\n",
            "  >>> pred = clf.predict(vectors_test)\n",
            "  >>> metrics.f1_score(newsgroups_test.target, pred, average='macro')\n",
            "  0.88213...\n",
            "\n",
            "(The example :ref:`sphx_glr_auto_examples_text_plot_document_classification_20newsgroups.py` shuffles\n",
            "the training and test data, instead of segmenting by time, and in that case\n",
            "multinomial Naive Bayes gets a much higher F-score of 0.88. Are you suspicious\n",
            "yet of what's going on inside this classifier?)\n",
            "\n",
            "Let's take a look at what the most informative features are:\n",
            "\n",
            "  >>> import numpy as np\n",
            "  >>> def show_top10(classifier, vectorizer, categories):\n",
            "  ...     feature_names = np.asarray(vectorizer.get_feature_names())\n",
            "  ...     for i, category in enumerate(categories):\n",
            "  ...         top10 = np.argsort(classifier.coef_[i])[-10:]\n",
            "  ...         print(\"%s: %s\" % (category, \" \".join(feature_names[top10])))\n",
            "  ...\n",
            "  >>> show_top10(clf, vectorizer, newsgroups_train.target_names)\n",
            "  alt.atheism: edu it and in you that is of to the\n",
            "  comp.graphics: edu in graphics it is for and of to the\n",
            "  sci.space: edu it that is in and space to of the\n",
            "  talk.religion.misc: not it you in is that and to of the\n",
            "\n",
            "\n",
            "You can now see many things that these features have overfit to:\n",
            "\n",
            "- Almost every group is distinguished by whether headers such as\n",
            "  ``NNTP-Posting-Host:`` and ``Distribution:`` appear more or less often.\n",
            "- Another significant feature involves whether the sender is affiliated with\n",
            "  a university, as indicated either by their headers or their signature.\n",
            "- The word \"article\" is a significant feature, based on how often people quote\n",
            "  previous posts like this: \"In article [article ID], [name] <[e-mail address]>\n",
            "  wrote:\"\n",
            "- Other features match the names and e-mail addresses of particular people who\n",
            "  were posting at the time.\n",
            "\n",
            "With such an abundance of clues that distinguish newsgroups, the classifiers\n",
            "barely have to identify topics from text at all, and they all perform at the\n",
            "same high level.\n",
            "\n",
            "For this reason, the functions that load 20 Newsgroups data provide a\n",
            "parameter called **remove**, telling it what kinds of information to strip out\n",
            "of each file. **remove** should be a tuple containing any subset of\n",
            "``('headers', 'footers', 'quotes')``, telling it to remove headers, signature\n",
            "blocks, and quotation blocks respectively.\n",
            "\n",
            "  >>> newsgroups_test = fetch_20newsgroups(subset='test',\n",
            "  ...                                      remove=('headers', 'footers', 'quotes'),\n",
            "  ...                                      categories=categories)\n",
            "  >>> vectors_test = vectorizer.transform(newsgroups_test.data)\n",
            "  >>> pred = clf.predict(vectors_test)\n",
            "  >>> metrics.f1_score(pred, newsgroups_test.target, average='macro')\n",
            "  0.77310...\n",
            "\n",
            "This classifier lost over a lot of its F-score, just because we removed\n",
            "metadata that has little to do with topic classification.\n",
            "It loses even more if we also strip this metadata from the training data:\n",
            "\n",
            "  >>> newsgroups_train = fetch_20newsgroups(subset='train',\n",
            "  ...                                       remove=('headers', 'footers', 'quotes'),\n",
            "  ...                                       categories=categories)\n",
            "  >>> vectors = vectorizer.fit_transform(newsgroups_train.data)\n",
            "  >>> clf = MultinomialNB(alpha=.01)\n",
            "  >>> clf.fit(vectors, newsgroups_train.target)\n",
            "  MultinomialNB(alpha=0.01, class_prior=None, fit_prior=True)\n",
            "\n",
            "  >>> vectors_test = vectorizer.transform(newsgroups_test.data)\n",
            "  >>> pred = clf.predict(vectors_test)\n",
            "  >>> metrics.f1_score(newsgroups_test.target, pred, average='macro')\n",
            "  0.76995...\n",
            "\n",
            "Some other classifiers cope better with this harder version of the task. Try\n",
            "running :ref:`sphx_glr_auto_examples_model_selection_grid_search_text_feature_extraction.py` with and without\n",
            "the ``--filter`` option to compare the results.\n",
            "\n",
            ".. topic:: Recommendation\n",
            "\n",
            "  When evaluating text classifiers on the 20 Newsgroups data, you\n",
            "  should strip newsgroup-related metadata. In scikit-learn, you can do this by\n",
            "  setting ``remove=('headers', 'footers', 'quotes')``. The F-score will be\n",
            "  lower because it is more realistic.\n",
            "\n",
            ".. topic:: Examples\n",
            "\n",
            "   * :ref:`sphx_glr_auto_examples_model_selection_grid_search_text_feature_extraction.py`\n",
            "\n",
            "   * :ref:`sphx_glr_auto_examples_text_plot_document_classification_20newsgroups.py`\n",
            "\n"
          ]
        }
      ]
    },
    {
      "cell_type": "code",
      "metadata": {
        "id": "pJLOzkdjbeI4",
        "outputId": "1d3b672e-7230-4a39-c734-7197df7a304f"
      },
      "source": [
        "# ML과 동일하게 학습/예측/평가?\n",
        "# train, test 분리\n",
        "train_news = fetch_20newsgroups(subset='train', remove=('headers', 'footers','quotes'), random_state=156)\n",
        "print(train_news.keys())\n",
        "X_train = train_news.data\n",
        "y_train = train_news.target\n",
        "\n",
        "test_news = fetch_20newsgroups(subset='test', remove=('headers', 'footers','quotes'), random_state=156)\n",
        "X_test = test_news.data\n",
        "y_test = test_news.target\n",
        "\n",
        "print(len(train_news.data),'\\n',len(test_news.data))"
      ],
      "execution_count": null,
      "outputs": [
        {
          "output_type": "stream",
          "name": "stdout",
          "text": [
            "dict_keys(['data', 'filenames', 'target_names', 'target', 'DESCR'])\n",
            "11314 \n",
            " 7532\n"
          ]
        }
      ]
    },
    {
      "cell_type": "code",
      "metadata": {
        "id": "rmZVqFv7beI4",
        "outputId": "f1a24f8d-2743-45db-bf94-9ceb509b5b56"
      },
      "source": [
        "# feature extraction1: CountVectorizer\n",
        "from sklearn.feature_extraction.text import CountVectorizer\n",
        "\n",
        "cnt_vect = CountVectorizer()\n",
        "cnt_vect.fit(X_train) # fit과 transform 따로 실행\n",
        "X_train_cnt_vect = cnt_vect.transform(X_train)\n",
        "X_test_cnt_vest = cnt_vect.transform(X_test)\n",
        "print(X_train_cnt_vect.shape)"
      ],
      "execution_count": null,
      "outputs": [
        {
          "output_type": "stream",
          "name": "stdout",
          "text": [
            "(11314, 101631)\n"
          ]
        }
      ]
    },
    {
      "cell_type": "code",
      "metadata": {
        "id": "LlLtV8ERbeI4",
        "outputId": "68b1c4c7-6f89-4a7c-d11e-00d76fc57dfd"
      },
      "source": [
        "X_train_cnt_vect.toarray()"
      ],
      "execution_count": null,
      "outputs": [
        {
          "output_type": "execute_result",
          "data": {
            "text/plain": [
              "array([[0, 0, 0, ..., 0, 0, 0],\n",
              "       [0, 0, 0, ..., 0, 0, 0],\n",
              "       [0, 0, 0, ..., 0, 0, 0],\n",
              "       ...,\n",
              "       [0, 0, 0, ..., 0, 0, 0],\n",
              "       [0, 0, 0, ..., 0, 0, 0],\n",
              "       [0, 0, 0, ..., 0, 0, 0]], dtype=int64)"
            ]
          },
          "metadata": {},
          "execution_count": 122
        }
      ]
    },
    {
      "cell_type": "code",
      "metadata": {
        "id": "2OSxcMR2beI4",
        "outputId": "90f24c79-242e-4ade-9560-c5a13d039918"
      },
      "source": [
        "# Logistic Regression으로 평가\n",
        "from sklearn.linear_model import LogisticRegression\n",
        "from sklearn.metrics import accuracy_score\n",
        "lr = LogisticRegression()\n",
        "lr.fit(X_train_cnt_vect, y_train)\n",
        "pred = lr.predict(X_test_cnt_vest)\n",
        "print(f'Logistic Regression accuracy score(Count Vect.) : {accuracy_score(y_test, pred):.3f}')"
      ],
      "execution_count": null,
      "outputs": [
        {
          "output_type": "stream",
          "name": "stdout",
          "text": [
            "Logistic Regression accuracy score(CountVect.) : 0.607\n"
          ]
        },
        {
          "output_type": "stream",
          "name": "stderr",
          "text": [
            "C:\\Anaconda3\\envs\\cakd3\\lib\\site-packages\\sklearn\\linear_model\\_logistic.py:763: ConvergenceWarning: lbfgs failed to converge (status=1):\n",
            "STOP: TOTAL NO. of ITERATIONS REACHED LIMIT.\n",
            "\n",
            "Increase the number of iterations (max_iter) or scale the data as shown in:\n",
            "    https://scikit-learn.org/stable/modules/preprocessing.html\n",
            "Please also refer to the documentation for alternative solver options:\n",
            "    https://scikit-learn.org/stable/modules/linear_model.html#logistic-regression\n",
            "  n_iter_i = _check_optimize_result(\n"
          ]
        }
      ]
    },
    {
      "cell_type": "code",
      "metadata": {
        "id": "6rcRkFfubeI5",
        "outputId": "e1cf4991-c0ef-4ec7-b34a-e5a28dc54f54"
      },
      "source": [
        "# feature extraction2: TF-IDF\n",
        "from sklearn.feature_extraction.text import TfidfVectorizer\n",
        "tf = TfidfVectorizer()\n",
        "tf.fit(X_train)\n",
        "X_train_tf_vect = tf.transform(X_train)\n",
        "X_test_tf_vect = tf.transform(X_test)\n",
        "\n",
        "lr = LogisticRegression()\n",
        "lr.fit(X_train_tf_vect, y_train)\n",
        "pred = lr.predict(X_test_tf_vect)\n",
        "print(f'Logistic Regression accuracy score(TF-IDF) : {accuracy_score(y_test, pred):.3f}')\n",
        "### Count Vect.보다 accuracy가 살짝 개선됨"
      ],
      "execution_count": null,
      "outputs": [
        {
          "output_type": "stream",
          "name": "stdout",
          "text": [
            "Logistic Regression accuracy score(TF-IDF) : 0.674\n"
          ]
        }
      ]
    },
    {
      "cell_type": "code",
      "metadata": {
        "id": "3rjpzBgsbeI5",
        "outputId": "6855e247-d23e-4514-83dd-47f4d0d473e5"
      },
      "source": [
        "# stop words 필터링 추가, max_df=300 적용, ngram을 기본값인(1,1) -> (1,2)로 변경하여 Feature Vectorization\n",
        "\n",
        "# help(tf)\n",
        "tf = TfidfVectorizer(max_df=300, ngram_range=(1,2), stop_words='english')\n",
        "tf.fit(X_train)\n",
        "X_train_tf_vect = tf.transform(X_train)\n",
        "X_test_tf_vect = tf.transform(X_test)\n",
        "\n",
        "lr = LogisticRegression()\n",
        "lr.fit(X_train_tf_vect, y_train)\n",
        "pred = lr.predict(X_test_tf_vect)\n",
        "print(f'Logistic Regression accuracy score(TF-IDF) : {accuracy_score(y_test, pred):.3f}')"
      ],
      "execution_count": null,
      "outputs": [
        {
          "output_type": "stream",
          "name": "stdout",
          "text": [
            "Logistic Regression accuracy score(TF-IDF) : 0.692\n"
          ]
        }
      ]
    },
    {
      "cell_type": "code",
      "metadata": {
        "id": "1cHWMf0cbeI5",
        "outputId": "3dc273dc-ca98-4715-e68c-b96a12d20767"
      },
      "source": [
        "# GridSearchCV\n",
        "from sklearn.model_selection import GridSearchCV\n",
        "params = {'C':[0.01,0.1,1,5,10]}\n",
        "grid = GridSearchCV(lr, param_grid=params, cv=3, scoring='accuracy', verbose=1)\n",
        "grid.fit(X_train_tf_vect, y_train)\n",
        "print(f'Logistic Regression Best Params : {grid.best_params_}')\n",
        "\n",
        "pred = grid.predict(X_test_tf_vect)\n",
        "print(f'Logistic Regression accuracy score(TF-IDF) : {accuracy_score(y_test, pred):.3f}')"
      ],
      "execution_count": null,
      "outputs": [
        {
          "output_type": "stream",
          "name": "stdout",
          "text": [
            "Fitting 3 folds for each of 5 candidates, totalling 15 fits\n"
          ]
        },
        {
          "output_type": "stream",
          "name": "stderr",
          "text": [
            "C:\\Anaconda3\\envs\\cakd3\\lib\\site-packages\\sklearn\\linear_model\\_logistic.py:763: ConvergenceWarning: lbfgs failed to converge (status=1):\n",
            "STOP: TOTAL NO. of ITERATIONS REACHED LIMIT.\n",
            "\n",
            "Increase the number of iterations (max_iter) or scale the data as shown in:\n",
            "    https://scikit-learn.org/stable/modules/preprocessing.html\n",
            "Please also refer to the documentation for alternative solver options:\n",
            "    https://scikit-learn.org/stable/modules/linear_model.html#logistic-regression\n",
            "  n_iter_i = _check_optimize_result(\n",
            "C:\\Anaconda3\\envs\\cakd3\\lib\\site-packages\\sklearn\\linear_model\\_logistic.py:763: ConvergenceWarning: lbfgs failed to converge (status=1):\n",
            "STOP: TOTAL NO. of ITERATIONS REACHED LIMIT.\n",
            "\n",
            "Increase the number of iterations (max_iter) or scale the data as shown in:\n",
            "    https://scikit-learn.org/stable/modules/preprocessing.html\n",
            "Please also refer to the documentation for alternative solver options:\n",
            "    https://scikit-learn.org/stable/modules/linear_model.html#logistic-regression\n",
            "  n_iter_i = _check_optimize_result(\n",
            "C:\\Anaconda3\\envs\\cakd3\\lib\\site-packages\\sklearn\\linear_model\\_logistic.py:763: ConvergenceWarning: lbfgs failed to converge (status=1):\n",
            "STOP: TOTAL NO. of ITERATIONS REACHED LIMIT.\n",
            "\n",
            "Increase the number of iterations (max_iter) or scale the data as shown in:\n",
            "    https://scikit-learn.org/stable/modules/preprocessing.html\n",
            "Please also refer to the documentation for alternative solver options:\n",
            "    https://scikit-learn.org/stable/modules/linear_model.html#logistic-regression\n",
            "  n_iter_i = _check_optimize_result(\n",
            "C:\\Anaconda3\\envs\\cakd3\\lib\\site-packages\\sklearn\\linear_model\\_logistic.py:763: ConvergenceWarning: lbfgs failed to converge (status=1):\n",
            "STOP: TOTAL NO. of ITERATIONS REACHED LIMIT.\n",
            "\n",
            "Increase the number of iterations (max_iter) or scale the data as shown in:\n",
            "    https://scikit-learn.org/stable/modules/preprocessing.html\n",
            "Please also refer to the documentation for alternative solver options:\n",
            "    https://scikit-learn.org/stable/modules/linear_model.html#logistic-regression\n",
            "  n_iter_i = _check_optimize_result(\n",
            "C:\\Anaconda3\\envs\\cakd3\\lib\\site-packages\\sklearn\\linear_model\\_logistic.py:763: ConvergenceWarning: lbfgs failed to converge (status=1):\n",
            "STOP: TOTAL NO. of ITERATIONS REACHED LIMIT.\n",
            "\n",
            "Increase the number of iterations (max_iter) or scale the data as shown in:\n",
            "    https://scikit-learn.org/stable/modules/preprocessing.html\n",
            "Please also refer to the documentation for alternative solver options:\n",
            "    https://scikit-learn.org/stable/modules/linear_model.html#logistic-regression\n",
            "  n_iter_i = _check_optimize_result(\n",
            "C:\\Anaconda3\\envs\\cakd3\\lib\\site-packages\\sklearn\\linear_model\\_logistic.py:763: ConvergenceWarning: lbfgs failed to converge (status=1):\n",
            "STOP: TOTAL NO. of ITERATIONS REACHED LIMIT.\n",
            "\n",
            "Increase the number of iterations (max_iter) or scale the data as shown in:\n",
            "    https://scikit-learn.org/stable/modules/preprocessing.html\n",
            "Please also refer to the documentation for alternative solver options:\n",
            "    https://scikit-learn.org/stable/modules/linear_model.html#logistic-regression\n",
            "  n_iter_i = _check_optimize_result(\n",
            "C:\\Anaconda3\\envs\\cakd3\\lib\\site-packages\\sklearn\\linear_model\\_logistic.py:763: ConvergenceWarning: lbfgs failed to converge (status=1):\n",
            "STOP: TOTAL NO. of ITERATIONS REACHED LIMIT.\n",
            "\n",
            "Increase the number of iterations (max_iter) or scale the data as shown in:\n",
            "    https://scikit-learn.org/stable/modules/preprocessing.html\n",
            "Please also refer to the documentation for alternative solver options:\n",
            "    https://scikit-learn.org/stable/modules/linear_model.html#logistic-regression\n",
            "  n_iter_i = _check_optimize_result(\n"
          ]
        },
        {
          "output_type": "stream",
          "name": "stdout",
          "text": [
            "Logistic Regression Best Params : {'C': 10}\n",
            "Logistic Regression accuracy score(TF-IDF) : 0.701\n"
          ]
        }
      ]
    },
    {
      "cell_type": "markdown",
      "metadata": {
        "id": "YgefuuqjbeI5"
      },
      "source": [
        "### sklearn.pipeline 사용 및 GridSearchCV와 결합"
      ]
    },
    {
      "cell_type": "code",
      "metadata": {
        "id": "wPinrs5ObeI5",
        "outputId": "9ee5e77f-50f2-4a1d-9fe7-b1dddc8b320e"
      },
      "source": [
        "from sklearn.pipeline import Pipeline\n",
        "\n",
        "pipeline = Pipeline([('tfidf_vect', TfidfVectorizer(stop_words='english', ngram_range=(1,2),max_df=300)),\\\n",
        "    ('lr_clf', LogisticRegression(C=10))])\n",
        "pipeline.fit(X_train, y_train)pred = pipeline.predict(X_test)\n",
        "print(accuracy_score(y_test,pred))"
      ],
      "execution_count": null,
      "outputs": [
        {
          "output_type": "stream",
          "name": "stderr",
          "text": [
            "C:\\Anaconda3\\envs\\cakd3\\lib\\site-packages\\sklearn\\linear_model\\_logistic.py:763: ConvergenceWarning: lbfgs failed to converge (status=1):\n",
            "STOP: TOTAL NO. of ITERATIONS REACHED LIMIT.\n",
            "\n",
            "Increase the number of iterations (max_iter) or scale the data as shown in:\n",
            "    https://scikit-learn.org/stable/modules/preprocessing.html\n",
            "Please also refer to the documentation for alternative solver options:\n",
            "    https://scikit-learn.org/stable/modules/linear_model.html#logistic-regression\n",
            "  n_iter_i = _check_optimize_result(\n"
          ]
        },
        {
          "output_type": "stream",
          "name": "stdout",
          "text": [
            "0.7010090281465746\n"
          ]
        }
      ]
    },
    {
      "cell_type": "code",
      "metadata": {
        "id": "b8cvDohObeI6",
        "outputId": "a3113d6e-5598-4106-e892-ffab93f8ccd7"
      },
      "source": [
        "# pipeline과 GridSearchCV의 결합\n",
        "pipeline = Pipeline([('tfidf_vect', TfidfVectorizer(stop_words='english')),\\\n",
        "    ('lr_clf', LogisticRegression())])\n",
        "params = {'tfidf_vect__ngram_range':[(1,1),(1,2),(1,3)],\\\n",
        "        'tfidf_vect__max_df':[100,300,700], \\\n",
        "        'lr_clf__C':[1,5,10]}\n",
        "grid_cv_pipe = GridSearchCV(pipeline, param_grid=params, cv=3, scoring='accuracy', verbose=1)\n",
        "grid_cv_pipe.fit(X_train, y_train)\n",
        "print(f'GridSearchCV Best Parameters : {grid_cv_pipe.best_params_}\\nGridSearchCV Best scores : {grid_cv_pipe.best_score_}')\n",
        "pred = grid_cv_pipe.predict(X_test)\n",
        "print(f'GridSearchCV accuracy score : {accuracy_score(y_test,pred)}')"
      ],
      "execution_count": null,
      "outputs": [
        {
          "output_type": "stream",
          "name": "stdout",
          "text": [
            "Fitting 3 folds for each of 27 candidates, totalling 81 fits\n"
          ]
        },
        {
          "output_type": "stream",
          "name": "stderr",
          "text": [
            "C:\\Anaconda3\\envs\\cakd3\\lib\\site-packages\\sklearn\\model_selection\\_validation.py:615: FitFailedWarning: Estimator fit failed. The score on this train-test partition for these parameters will be set to nan. Details: \n",
            "Traceback (most recent call last):\n",
            "  File \"C:\\Anaconda3\\envs\\cakd3\\lib\\site-packages\\sklearn\\model_selection\\_validation.py\", line 598, in _fit_and_score\n",
            "    estimator.fit(X_train, y_train, **fit_params)\n",
            "  File \"C:\\Anaconda3\\envs\\cakd3\\lib\\site-packages\\sklearn\\pipeline.py\", line 346, in fit\n",
            "    self._final_estimator.fit(Xt, y, **fit_params_last_step)\n",
            "  File \"C:\\Anaconda3\\envs\\cakd3\\lib\\site-packages\\sklearn\\linear_model\\_logistic.py\", line 1406, in fit\n",
            "    fold_coefs_ = Parallel(n_jobs=self.n_jobs, verbose=self.verbose,\n",
            "  File \"C:\\Anaconda3\\envs\\cakd3\\lib\\site-packages\\joblib\\parallel.py\", line 1041, in __call__\n",
            "    if self.dispatch_one_batch(iterator):\n",
            "  File \"C:\\Anaconda3\\envs\\cakd3\\lib\\site-packages\\joblib\\parallel.py\", line 859, in dispatch_one_batch\n",
            "    self._dispatch(tasks)\n",
            "  File \"C:\\Anaconda3\\envs\\cakd3\\lib\\site-packages\\joblib\\parallel.py\", line 777, in _dispatch\n",
            "    job = self._backend.apply_async(batch, callback=cb)\n",
            "  File \"C:\\Anaconda3\\envs\\cakd3\\lib\\site-packages\\joblib\\_parallel_backends.py\", line 208, in apply_async\n",
            "    result = ImmediateResult(func)\n",
            "  File \"C:\\Anaconda3\\envs\\cakd3\\lib\\site-packages\\joblib\\_parallel_backends.py\", line 572, in __init__\n",
            "    self.results = batch()\n",
            "  File \"C:\\Anaconda3\\envs\\cakd3\\lib\\site-packages\\joblib\\parallel.py\", line 262, in __call__\n",
            "    return [func(*args, **kwargs)\n",
            "  File \"C:\\Anaconda3\\envs\\cakd3\\lib\\site-packages\\joblib\\parallel.py\", line 262, in <listcomp>\n",
            "    return [func(*args, **kwargs)\n",
            "  File \"C:\\Anaconda3\\envs\\cakd3\\lib\\site-packages\\sklearn\\utils\\fixes.py\", line 222, in __call__\n",
            "    return self.function(*args, **kwargs)\n",
            "  File \"C:\\Anaconda3\\envs\\cakd3\\lib\\site-packages\\sklearn\\linear_model\\_logistic.py\", line 758, in _logistic_regression_path\n",
            "    opt_res = optimize.minimize(\n",
            "  File \"C:\\Anaconda3\\envs\\cakd3\\lib\\site-packages\\scipy\\optimize\\_minimize.py\", line 619, in minimize\n",
            "    return _minimize_lbfgsb(fun, x0, args, jac, bounds,\n",
            "  File \"C:\\Anaconda3\\envs\\cakd3\\lib\\site-packages\\scipy\\optimize\\lbfgsb.py\", line 337, in _minimize_lbfgsb\n",
            "    wa = zeros(2*m*n + 5*n + 11*m*m + 8*m, float64)\n",
            "numpy.core._exceptions._ArrayMemoryError: Unable to allocate 5.05 GiB for an array with shape (677367180,) and data type float64\n",
            "\n",
            "  warnings.warn(\"Estimator fit failed. The score on this train-test\"\n",
            "C:\\Anaconda3\\envs\\cakd3\\lib\\site-packages\\sklearn\\model_selection\\_validation.py:615: FitFailedWarning: Estimator fit failed. The score on this train-test partition for these parameters will be set to nan. Details: \n",
            "Traceback (most recent call last):\n",
            "  File \"C:\\Anaconda3\\envs\\cakd3\\lib\\site-packages\\sklearn\\model_selection\\_validation.py\", line 598, in _fit_and_score\n",
            "    estimator.fit(X_train, y_train, **fit_params)\n",
            "  File \"C:\\Anaconda3\\envs\\cakd3\\lib\\site-packages\\sklearn\\pipeline.py\", line 346, in fit\n",
            "    self._final_estimator.fit(Xt, y, **fit_params_last_step)\n",
            "  File \"C:\\Anaconda3\\envs\\cakd3\\lib\\site-packages\\sklearn\\linear_model\\_logistic.py\", line 1406, in fit\n",
            "    fold_coefs_ = Parallel(n_jobs=self.n_jobs, verbose=self.verbose,\n",
            "  File \"C:\\Anaconda3\\envs\\cakd3\\lib\\site-packages\\joblib\\parallel.py\", line 1041, in __call__\n",
            "    if self.dispatch_one_batch(iterator):\n",
            "  File \"C:\\Anaconda3\\envs\\cakd3\\lib\\site-packages\\joblib\\parallel.py\", line 859, in dispatch_one_batch\n",
            "    self._dispatch(tasks)\n",
            "  File \"C:\\Anaconda3\\envs\\cakd3\\lib\\site-packages\\joblib\\parallel.py\", line 777, in _dispatch\n",
            "    job = self._backend.apply_async(batch, callback=cb)\n",
            "  File \"C:\\Anaconda3\\envs\\cakd3\\lib\\site-packages\\joblib\\_parallel_backends.py\", line 208, in apply_async\n",
            "    result = ImmediateResult(func)\n",
            "  File \"C:\\Anaconda3\\envs\\cakd3\\lib\\site-packages\\joblib\\_parallel_backends.py\", line 572, in __init__\n",
            "    self.results = batch()\n",
            "  File \"C:\\Anaconda3\\envs\\cakd3\\lib\\site-packages\\joblib\\parallel.py\", line 262, in __call__\n",
            "    return [func(*args, **kwargs)\n",
            "  File \"C:\\Anaconda3\\envs\\cakd3\\lib\\site-packages\\joblib\\parallel.py\", line 262, in <listcomp>\n",
            "    return [func(*args, **kwargs)\n",
            "  File \"C:\\Anaconda3\\envs\\cakd3\\lib\\site-packages\\sklearn\\utils\\fixes.py\", line 222, in __call__\n",
            "    return self.function(*args, **kwargs)\n",
            "  File \"C:\\Anaconda3\\envs\\cakd3\\lib\\site-packages\\sklearn\\linear_model\\_logistic.py\", line 758, in _logistic_regression_path\n",
            "    opt_res = optimize.minimize(\n",
            "  File \"C:\\Anaconda3\\envs\\cakd3\\lib\\site-packages\\scipy\\optimize\\_minimize.py\", line 619, in minimize\n",
            "    return _minimize_lbfgsb(fun, x0, args, jac, bounds,\n",
            "  File \"C:\\Anaconda3\\envs\\cakd3\\lib\\site-packages\\scipy\\optimize\\lbfgsb.py\", line 337, in _minimize_lbfgsb\n",
            "    wa = zeros(2*m*n + 5*n + 11*m*m + 8*m, float64)\n",
            "numpy.core._exceptions._ArrayMemoryError: Unable to allocate 5.14 GiB for an array with shape (689953180,) and data type float64\n",
            "\n",
            "  warnings.warn(\"Estimator fit failed. The score on this train-test\"\n",
            "C:\\Anaconda3\\envs\\cakd3\\lib\\site-packages\\sklearn\\model_selection\\_validation.py:615: FitFailedWarning: Estimator fit failed. The score on this train-test partition for these parameters will be set to nan. Details: \n",
            "Traceback (most recent call last):\n",
            "  File \"C:\\Anaconda3\\envs\\cakd3\\lib\\site-packages\\sklearn\\model_selection\\_validation.py\", line 598, in _fit_and_score\n",
            "    estimator.fit(X_train, y_train, **fit_params)\n",
            "  File \"C:\\Anaconda3\\envs\\cakd3\\lib\\site-packages\\sklearn\\pipeline.py\", line 346, in fit\n",
            "    self._final_estimator.fit(Xt, y, **fit_params_last_step)\n",
            "  File \"C:\\Anaconda3\\envs\\cakd3\\lib\\site-packages\\sklearn\\linear_model\\_logistic.py\", line 1406, in fit\n",
            "    fold_coefs_ = Parallel(n_jobs=self.n_jobs, verbose=self.verbose,\n",
            "  File \"C:\\Anaconda3\\envs\\cakd3\\lib\\site-packages\\joblib\\parallel.py\", line 1041, in __call__\n",
            "    if self.dispatch_one_batch(iterator):\n",
            "  File \"C:\\Anaconda3\\envs\\cakd3\\lib\\site-packages\\joblib\\parallel.py\", line 859, in dispatch_one_batch\n",
            "    self._dispatch(tasks)\n",
            "  File \"C:\\Anaconda3\\envs\\cakd3\\lib\\site-packages\\joblib\\parallel.py\", line 777, in _dispatch\n",
            "    job = self._backend.apply_async(batch, callback=cb)\n",
            "  File \"C:\\Anaconda3\\envs\\cakd3\\lib\\site-packages\\joblib\\_parallel_backends.py\", line 208, in apply_async\n",
            "    result = ImmediateResult(func)\n",
            "  File \"C:\\Anaconda3\\envs\\cakd3\\lib\\site-packages\\joblib\\_parallel_backends.py\", line 572, in __init__\n",
            "    self.results = batch()\n",
            "  File \"C:\\Anaconda3\\envs\\cakd3\\lib\\site-packages\\joblib\\parallel.py\", line 262, in __call__\n",
            "    return [func(*args, **kwargs)\n",
            "  File \"C:\\Anaconda3\\envs\\cakd3\\lib\\site-packages\\joblib\\parallel.py\", line 262, in <listcomp>\n",
            "    return [func(*args, **kwargs)\n",
            "  File \"C:\\Anaconda3\\envs\\cakd3\\lib\\site-packages\\sklearn\\utils\\fixes.py\", line 222, in __call__\n",
            "    return self.function(*args, **kwargs)\n",
            "  File \"C:\\Anaconda3\\envs\\cakd3\\lib\\site-packages\\sklearn\\linear_model\\_logistic.py\", line 758, in _logistic_regression_path\n",
            "    opt_res = optimize.minimize(\n",
            "  File \"C:\\Anaconda3\\envs\\cakd3\\lib\\site-packages\\scipy\\optimize\\_minimize.py\", line 619, in minimize\n",
            "    return _minimize_lbfgsb(fun, x0, args, jac, bounds,\n",
            "  File \"C:\\Anaconda3\\envs\\cakd3\\lib\\site-packages\\scipy\\optimize\\lbfgsb.py\", line 337, in _minimize_lbfgsb\n",
            "    wa = zeros(2*m*n + 5*n + 11*m*m + 8*m, float64)\n",
            "numpy.core._exceptions._ArrayMemoryError: Unable to allocate 5.09 GiB for an array with shape (683486680,) and data type float64\n",
            "\n",
            "  warnings.warn(\"Estimator fit failed. The score on this train-test\"\n",
            "C:\\Anaconda3\\envs\\cakd3\\lib\\site-packages\\sklearn\\model_selection\\_validation.py:615: FitFailedWarning: Estimator fit failed. The score on this train-test partition for these parameters will be set to nan. Details: \n",
            "Traceback (most recent call last):\n",
            "  File \"C:\\Anaconda3\\envs\\cakd3\\lib\\site-packages\\sklearn\\model_selection\\_validation.py\", line 598, in _fit_and_score\n",
            "    estimator.fit(X_train, y_train, **fit_params)\n",
            "  File \"C:\\Anaconda3\\envs\\cakd3\\lib\\site-packages\\sklearn\\pipeline.py\", line 346, in fit\n",
            "    self._final_estimator.fit(Xt, y, **fit_params_last_step)\n",
            "  File \"C:\\Anaconda3\\envs\\cakd3\\lib\\site-packages\\sklearn\\linear_model\\_logistic.py\", line 1406, in fit\n",
            "    fold_coefs_ = Parallel(n_jobs=self.n_jobs, verbose=self.verbose,\n",
            "  File \"C:\\Anaconda3\\envs\\cakd3\\lib\\site-packages\\joblib\\parallel.py\", line 1041, in __call__\n",
            "    if self.dispatch_one_batch(iterator):\n",
            "  File \"C:\\Anaconda3\\envs\\cakd3\\lib\\site-packages\\joblib\\parallel.py\", line 859, in dispatch_one_batch\n",
            "    self._dispatch(tasks)\n",
            "  File \"C:\\Anaconda3\\envs\\cakd3\\lib\\site-packages\\joblib\\parallel.py\", line 777, in _dispatch\n",
            "    job = self._backend.apply_async(batch, callback=cb)\n",
            "  File \"C:\\Anaconda3\\envs\\cakd3\\lib\\site-packages\\joblib\\_parallel_backends.py\", line 208, in apply_async\n",
            "    result = ImmediateResult(func)\n",
            "  File \"C:\\Anaconda3\\envs\\cakd3\\lib\\site-packages\\joblib\\_parallel_backends.py\", line 572, in __init__\n",
            "    self.results = batch()\n",
            "  File \"C:\\Anaconda3\\envs\\cakd3\\lib\\site-packages\\joblib\\parallel.py\", line 262, in __call__\n",
            "    return [func(*args, **kwargs)\n",
            "  File \"C:\\Anaconda3\\envs\\cakd3\\lib\\site-packages\\joblib\\parallel.py\", line 262, in <listcomp>\n",
            "    return [func(*args, **kwargs)\n",
            "  File \"C:\\Anaconda3\\envs\\cakd3\\lib\\site-packages\\sklearn\\utils\\fixes.py\", line 222, in __call__\n",
            "    return self.function(*args, **kwargs)\n",
            "  File \"C:\\Anaconda3\\envs\\cakd3\\lib\\site-packages\\sklearn\\linear_model\\_logistic.py\", line 758, in _logistic_regression_path\n",
            "    opt_res = optimize.minimize(\n",
            "  File \"C:\\Anaconda3\\envs\\cakd3\\lib\\site-packages\\scipy\\optimize\\_minimize.py\", line 619, in minimize\n",
            "    return _minimize_lbfgsb(fun, x0, args, jac, bounds,\n",
            "  File \"C:\\Anaconda3\\envs\\cakd3\\lib\\site-packages\\scipy\\optimize\\lbfgsb.py\", line 337, in _minimize_lbfgsb\n",
            "    wa = zeros(2*m*n + 5*n + 11*m*m + 8*m, float64)\n",
            "numpy.core._exceptions._ArrayMemoryError: Unable to allocate 5.05 GiB for an array with shape (677703680,) and data type float64\n",
            "\n",
            "  warnings.warn(\"Estimator fit failed. The score on this train-test\"\n",
            "C:\\Anaconda3\\envs\\cakd3\\lib\\site-packages\\sklearn\\model_selection\\_validation.py:615: FitFailedWarning: Estimator fit failed. The score on this train-test partition for these parameters will be set to nan. Details: \n",
            "Traceback (most recent call last):\n",
            "  File \"C:\\Anaconda3\\envs\\cakd3\\lib\\site-packages\\sklearn\\model_selection\\_validation.py\", line 598, in _fit_and_score\n",
            "    estimator.fit(X_train, y_train, **fit_params)\n",
            "  File \"C:\\Anaconda3\\envs\\cakd3\\lib\\site-packages\\sklearn\\pipeline.py\", line 346, in fit\n",
            "    self._final_estimator.fit(Xt, y, **fit_params_last_step)\n",
            "  File \"C:\\Anaconda3\\envs\\cakd3\\lib\\site-packages\\sklearn\\linear_model\\_logistic.py\", line 1406, in fit\n",
            "    fold_coefs_ = Parallel(n_jobs=self.n_jobs, verbose=self.verbose,\n",
            "  File \"C:\\Anaconda3\\envs\\cakd3\\lib\\site-packages\\joblib\\parallel.py\", line 1041, in __call__\n",
            "    if self.dispatch_one_batch(iterator):\n",
            "  File \"C:\\Anaconda3\\envs\\cakd3\\lib\\site-packages\\joblib\\parallel.py\", line 859, in dispatch_one_batch\n",
            "    self._dispatch(tasks)\n",
            "  File \"C:\\Anaconda3\\envs\\cakd3\\lib\\site-packages\\joblib\\parallel.py\", line 777, in _dispatch\n",
            "    job = self._backend.apply_async(batch, callback=cb)\n",
            "  File \"C:\\Anaconda3\\envs\\cakd3\\lib\\site-packages\\joblib\\_parallel_backends.py\", line 208, in apply_async\n",
            "    result = ImmediateResult(func)\n",
            "  File \"C:\\Anaconda3\\envs\\cakd3\\lib\\site-packages\\joblib\\_parallel_backends.py\", line 572, in __init__\n",
            "    self.results = batch()\n",
            "  File \"C:\\Anaconda3\\envs\\cakd3\\lib\\site-packages\\joblib\\parallel.py\", line 262, in __call__\n",
            "    return [func(*args, **kwargs)\n",
            "  File \"C:\\Anaconda3\\envs\\cakd3\\lib\\site-packages\\joblib\\parallel.py\", line 262, in <listcomp>\n",
            "    return [func(*args, **kwargs)\n",
            "  File \"C:\\Anaconda3\\envs\\cakd3\\lib\\site-packages\\sklearn\\utils\\fixes.py\", line 222, in __call__\n",
            "    return self.function(*args, **kwargs)\n",
            "  File \"C:\\Anaconda3\\envs\\cakd3\\lib\\site-packages\\sklearn\\linear_model\\_logistic.py\", line 758, in _logistic_regression_path\n",
            "    opt_res = optimize.minimize(\n",
            "  File \"C:\\Anaconda3\\envs\\cakd3\\lib\\site-packages\\scipy\\optimize\\_minimize.py\", line 619, in minimize\n",
            "    return _minimize_lbfgsb(fun, x0, args, jac, bounds,\n",
            "  File \"C:\\Anaconda3\\envs\\cakd3\\lib\\site-packages\\scipy\\optimize\\lbfgsb.py\", line 337, in _minimize_lbfgsb\n",
            "    wa = zeros(2*m*n + 5*n + 11*m*m + 8*m, float64)\n",
            "numpy.core._exceptions._ArrayMemoryError: Unable to allocate 5.14 GiB for an array with shape (690285180,) and data type float64\n",
            "\n",
            "  warnings.warn(\"Estimator fit failed. The score on this train-test\"\n",
            "C:\\Anaconda3\\envs\\cakd3\\lib\\site-packages\\sklearn\\model_selection\\_validation.py:615: FitFailedWarning: Estimator fit failed. The score on this train-test partition for these parameters will be set to nan. Details: \n",
            "Traceback (most recent call last):\n",
            "  File \"C:\\Anaconda3\\envs\\cakd3\\lib\\site-packages\\sklearn\\model_selection\\_validation.py\", line 598, in _fit_and_score\n",
            "    estimator.fit(X_train, y_train, **fit_params)\n",
            "  File \"C:\\Anaconda3\\envs\\cakd3\\lib\\site-packages\\sklearn\\pipeline.py\", line 346, in fit\n",
            "    self._final_estimator.fit(Xt, y, **fit_params_last_step)\n",
            "  File \"C:\\Anaconda3\\envs\\cakd3\\lib\\site-packages\\sklearn\\linear_model\\_logistic.py\", line 1406, in fit\n",
            "    fold_coefs_ = Parallel(n_jobs=self.n_jobs, verbose=self.verbose,\n",
            "  File \"C:\\Anaconda3\\envs\\cakd3\\lib\\site-packages\\joblib\\parallel.py\", line 1041, in __call__\n",
            "    if self.dispatch_one_batch(iterator):\n",
            "  File \"C:\\Anaconda3\\envs\\cakd3\\lib\\site-packages\\joblib\\parallel.py\", line 859, in dispatch_one_batch\n",
            "    self._dispatch(tasks)\n",
            "  File \"C:\\Anaconda3\\envs\\cakd3\\lib\\site-packages\\joblib\\parallel.py\", line 777, in _dispatch\n",
            "    job = self._backend.apply_async(batch, callback=cb)\n",
            "  File \"C:\\Anaconda3\\envs\\cakd3\\lib\\site-packages\\joblib\\_parallel_backends.py\", line 208, in apply_async\n",
            "    result = ImmediateResult(func)\n",
            "  File \"C:\\Anaconda3\\envs\\cakd3\\lib\\site-packages\\joblib\\_parallel_backends.py\", line 572, in __init__\n",
            "    self.results = batch()\n",
            "  File \"C:\\Anaconda3\\envs\\cakd3\\lib\\site-packages\\joblib\\parallel.py\", line 262, in __call__\n",
            "    return [func(*args, **kwargs)\n",
            "  File \"C:\\Anaconda3\\envs\\cakd3\\lib\\site-packages\\joblib\\parallel.py\", line 262, in <listcomp>\n",
            "    return [func(*args, **kwargs)\n",
            "  File \"C:\\Anaconda3\\envs\\cakd3\\lib\\site-packages\\sklearn\\utils\\fixes.py\", line 222, in __call__\n",
            "    return self.function(*args, **kwargs)\n",
            "  File \"C:\\Anaconda3\\envs\\cakd3\\lib\\site-packages\\sklearn\\linear_model\\_logistic.py\", line 758, in _logistic_regression_path\n",
            "    opt_res = optimize.minimize(\n",
            "  File \"C:\\Anaconda3\\envs\\cakd3\\lib\\site-packages\\scipy\\optimize\\_minimize.py\", line 619, in minimize\n",
            "    return _minimize_lbfgsb(fun, x0, args, jac, bounds,\n",
            "  File \"C:\\Anaconda3\\envs\\cakd3\\lib\\site-packages\\scipy\\optimize\\lbfgsb.py\", line 337, in _minimize_lbfgsb\n",
            "    wa = zeros(2*m*n + 5*n + 11*m*m + 8*m, float64)\n",
            "numpy.core._exceptions._ArrayMemoryError: Unable to allocate 5.09 GiB for an array with shape (683819180,) and data type float64\n",
            "\n",
            "  warnings.warn(\"Estimator fit failed. The score on this train-test\"\n",
            "C:\\Anaconda3\\envs\\cakd3\\lib\\site-packages\\sklearn\\model_selection\\_validation.py:615: FitFailedWarning: Estimator fit failed. The score on this train-test partition for these parameters will be set to nan. Details: \n",
            "Traceback (most recent call last):\n",
            "  File \"C:\\Anaconda3\\envs\\cakd3\\lib\\site-packages\\sklearn\\model_selection\\_validation.py\", line 598, in _fit_and_score\n",
            "    estimator.fit(X_train, y_train, **fit_params)\n",
            "  File \"C:\\Anaconda3\\envs\\cakd3\\lib\\site-packages\\sklearn\\pipeline.py\", line 346, in fit\n",
            "    self._final_estimator.fit(Xt, y, **fit_params_last_step)\n",
            "  File \"C:\\Anaconda3\\envs\\cakd3\\lib\\site-packages\\sklearn\\linear_model\\_logistic.py\", line 1406, in fit\n",
            "    fold_coefs_ = Parallel(n_jobs=self.n_jobs, verbose=self.verbose,\n",
            "  File \"C:\\Anaconda3\\envs\\cakd3\\lib\\site-packages\\joblib\\parallel.py\", line 1041, in __call__\n",
            "    if self.dispatch_one_batch(iterator):\n",
            "  File \"C:\\Anaconda3\\envs\\cakd3\\lib\\site-packages\\joblib\\parallel.py\", line 859, in dispatch_one_batch\n",
            "    self._dispatch(tasks)\n",
            "  File \"C:\\Anaconda3\\envs\\cakd3\\lib\\site-packages\\joblib\\parallel.py\", line 777, in _dispatch\n",
            "    job = self._backend.apply_async(batch, callback=cb)\n",
            "  File \"C:\\Anaconda3\\envs\\cakd3\\lib\\site-packages\\joblib\\_parallel_backends.py\", line 208, in apply_async\n",
            "    result = ImmediateResult(func)\n",
            "  File \"C:\\Anaconda3\\envs\\cakd3\\lib\\site-packages\\joblib\\_parallel_backends.py\", line 572, in __init__\n",
            "    self.results = batch()\n",
            "  File \"C:\\Anaconda3\\envs\\cakd3\\lib\\site-packages\\joblib\\parallel.py\", line 262, in __call__\n",
            "    return [func(*args, **kwargs)\n",
            "  File \"C:\\Anaconda3\\envs\\cakd3\\lib\\site-packages\\joblib\\parallel.py\", line 262, in <listcomp>\n",
            "    return [func(*args, **kwargs)\n",
            "  File \"C:\\Anaconda3\\envs\\cakd3\\lib\\site-packages\\sklearn\\utils\\fixes.py\", line 222, in __call__\n",
            "    return self.function(*args, **kwargs)\n",
            "  File \"C:\\Anaconda3\\envs\\cakd3\\lib\\site-packages\\sklearn\\linear_model\\_logistic.py\", line 758, in _logistic_regression_path\n",
            "    opt_res = optimize.minimize(\n",
            "  File \"C:\\Anaconda3\\envs\\cakd3\\lib\\site-packages\\scipy\\optimize\\_minimize.py\", line 619, in minimize\n",
            "    return _minimize_lbfgsb(fun, x0, args, jac, bounds,\n",
            "  File \"C:\\Anaconda3\\envs\\cakd3\\lib\\site-packages\\scipy\\optimize\\lbfgsb.py\", line 337, in _minimize_lbfgsb\n",
            "    wa = zeros(2*m*n + 5*n + 11*m*m + 8*m, float64)\n",
            "numpy.core._exceptions._ArrayMemoryError: Unable to allocate 5.05 GiB for an array with shape (677766180,) and data type float64\n",
            "\n",
            "  warnings.warn(\"Estimator fit failed. The score on this train-test\"\n",
            "C:\\Anaconda3\\envs\\cakd3\\lib\\site-packages\\sklearn\\model_selection\\_validation.py:615: FitFailedWarning: Estimator fit failed. The score on this train-test partition for these parameters will be set to nan. Details: \n",
            "Traceback (most recent call last):\n",
            "  File \"C:\\Anaconda3\\envs\\cakd3\\lib\\site-packages\\sklearn\\model_selection\\_validation.py\", line 598, in _fit_and_score\n",
            "    estimator.fit(X_train, y_train, **fit_params)\n",
            "  File \"C:\\Anaconda3\\envs\\cakd3\\lib\\site-packages\\sklearn\\pipeline.py\", line 346, in fit\n",
            "    self._final_estimator.fit(Xt, y, **fit_params_last_step)\n",
            "  File \"C:\\Anaconda3\\envs\\cakd3\\lib\\site-packages\\sklearn\\linear_model\\_logistic.py\", line 1406, in fit\n",
            "    fold_coefs_ = Parallel(n_jobs=self.n_jobs, verbose=self.verbose,\n",
            "  File \"C:\\Anaconda3\\envs\\cakd3\\lib\\site-packages\\joblib\\parallel.py\", line 1041, in __call__\n",
            "    if self.dispatch_one_batch(iterator):\n",
            "  File \"C:\\Anaconda3\\envs\\cakd3\\lib\\site-packages\\joblib\\parallel.py\", line 859, in dispatch_one_batch\n",
            "    self._dispatch(tasks)\n",
            "  File \"C:\\Anaconda3\\envs\\cakd3\\lib\\site-packages\\joblib\\parallel.py\", line 777, in _dispatch\n",
            "    job = self._backend.apply_async(batch, callback=cb)\n",
            "  File \"C:\\Anaconda3\\envs\\cakd3\\lib\\site-packages\\joblib\\_parallel_backends.py\", line 208, in apply_async\n",
            "    result = ImmediateResult(func)\n",
            "  File \"C:\\Anaconda3\\envs\\cakd3\\lib\\site-packages\\joblib\\_parallel_backends.py\", line 572, in __init__\n",
            "    self.results = batch()\n",
            "  File \"C:\\Anaconda3\\envs\\cakd3\\lib\\site-packages\\joblib\\parallel.py\", line 262, in __call__\n",
            "    return [func(*args, **kwargs)\n",
            "  File \"C:\\Anaconda3\\envs\\cakd3\\lib\\site-packages\\joblib\\parallel.py\", line 262, in <listcomp>\n",
            "    return [func(*args, **kwargs)\n",
            "  File \"C:\\Anaconda3\\envs\\cakd3\\lib\\site-packages\\sklearn\\utils\\fixes.py\", line 222, in __call__\n",
            "    return self.function(*args, **kwargs)\n",
            "  File \"C:\\Anaconda3\\envs\\cakd3\\lib\\site-packages\\sklearn\\linear_model\\_logistic.py\", line 758, in _logistic_regression_path\n",
            "    opt_res = optimize.minimize(\n",
            "  File \"C:\\Anaconda3\\envs\\cakd3\\lib\\site-packages\\scipy\\optimize\\_minimize.py\", line 619, in minimize\n",
            "    return _minimize_lbfgsb(fun, x0, args, jac, bounds,\n",
            "  File \"C:\\Anaconda3\\envs\\cakd3\\lib\\site-packages\\scipy\\optimize\\lbfgsb.py\", line 337, in _minimize_lbfgsb\n",
            "    wa = zeros(2*m*n + 5*n + 11*m*m + 8*m, float64)\n",
            "numpy.core._exceptions._ArrayMemoryError: Unable to allocate 5.14 GiB for an array with shape (690344680,) and data type float64\n",
            "\n",
            "  warnings.warn(\"Estimator fit failed. The score on this train-test\"\n",
            "C:\\Anaconda3\\envs\\cakd3\\lib\\site-packages\\sklearn\\model_selection\\_validation.py:615: FitFailedWarning: Estimator fit failed. The score on this train-test partition for these parameters will be set to nan. Details: \n",
            "Traceback (most recent call last):\n",
            "  File \"C:\\Anaconda3\\envs\\cakd3\\lib\\site-packages\\sklearn\\model_selection\\_validation.py\", line 598, in _fit_and_score\n",
            "    estimator.fit(X_train, y_train, **fit_params)\n",
            "  File \"C:\\Anaconda3\\envs\\cakd3\\lib\\site-packages\\sklearn\\pipeline.py\", line 346, in fit\n",
            "    self._final_estimator.fit(Xt, y, **fit_params_last_step)\n",
            "  File \"C:\\Anaconda3\\envs\\cakd3\\lib\\site-packages\\sklearn\\linear_model\\_logistic.py\", line 1406, in fit\n",
            "    fold_coefs_ = Parallel(n_jobs=self.n_jobs, verbose=self.verbose,\n",
            "  File \"C:\\Anaconda3\\envs\\cakd3\\lib\\site-packages\\joblib\\parallel.py\", line 1041, in __call__\n",
            "    if self.dispatch_one_batch(iterator):\n",
            "  File \"C:\\Anaconda3\\envs\\cakd3\\lib\\site-packages\\joblib\\parallel.py\", line 859, in dispatch_one_batch\n",
            "    self._dispatch(tasks)\n",
            "  File \"C:\\Anaconda3\\envs\\cakd3\\lib\\site-packages\\joblib\\parallel.py\", line 777, in _dispatch\n",
            "    job = self._backend.apply_async(batch, callback=cb)\n",
            "  File \"C:\\Anaconda3\\envs\\cakd3\\lib\\site-packages\\joblib\\_parallel_backends.py\", line 208, in apply_async\n",
            "    result = ImmediateResult(func)\n",
            "  File \"C:\\Anaconda3\\envs\\cakd3\\lib\\site-packages\\joblib\\_parallel_backends.py\", line 572, in __init__\n",
            "    self.results = batch()\n",
            "  File \"C:\\Anaconda3\\envs\\cakd3\\lib\\site-packages\\joblib\\parallel.py\", line 262, in __call__\n",
            "    return [func(*args, **kwargs)\n",
            "  File \"C:\\Anaconda3\\envs\\cakd3\\lib\\site-packages\\joblib\\parallel.py\", line 262, in <listcomp>\n",
            "    return [func(*args, **kwargs)\n",
            "  File \"C:\\Anaconda3\\envs\\cakd3\\lib\\site-packages\\sklearn\\utils\\fixes.py\", line 222, in __call__\n",
            "    return self.function(*args, **kwargs)\n",
            "  File \"C:\\Anaconda3\\envs\\cakd3\\lib\\site-packages\\sklearn\\linear_model\\_logistic.py\", line 758, in _logistic_regression_path\n",
            "    opt_res = optimize.minimize(\n",
            "  File \"C:\\Anaconda3\\envs\\cakd3\\lib\\site-packages\\scipy\\optimize\\_minimize.py\", line 619, in minimize\n",
            "    return _minimize_lbfgsb(fun, x0, args, jac, bounds,\n",
            "  File \"C:\\Anaconda3\\envs\\cakd3\\lib\\site-packages\\scipy\\optimize\\lbfgsb.py\", line 337, in _minimize_lbfgsb\n",
            "    wa = zeros(2*m*n + 5*n + 11*m*m + 8*m, float64)\n",
            "numpy.core._exceptions._ArrayMemoryError: Unable to allocate 5.10 GiB for an array with shape (683879180,) and data type float64\n",
            "\n",
            "  warnings.warn(\"Estimator fit failed. The score on this train-test\"\n",
            "C:\\Anaconda3\\envs\\cakd3\\lib\\site-packages\\sklearn\\linear_model\\_logistic.py:763: ConvergenceWarning: lbfgs failed to converge (status=1):\n",
            "STOP: TOTAL NO. of ITERATIONS REACHED LIMIT.\n",
            "\n",
            "Increase the number of iterations (max_iter) or scale the data as shown in:\n",
            "    https://scikit-learn.org/stable/modules/preprocessing.html\n",
            "Please also refer to the documentation for alternative solver options:\n",
            "    https://scikit-learn.org/stable/modules/linear_model.html#logistic-regression\n",
            "  n_iter_i = _check_optimize_result(\n",
            "C:\\Anaconda3\\envs\\cakd3\\lib\\site-packages\\sklearn\\linear_model\\_logistic.py:763: ConvergenceWarning: lbfgs failed to converge (status=1):\n",
            "STOP: TOTAL NO. of ITERATIONS REACHED LIMIT.\n",
            "\n",
            "Increase the number of iterations (max_iter) or scale the data as shown in:\n",
            "    https://scikit-learn.org/stable/modules/preprocessing.html\n",
            "Please also refer to the documentation for alternative solver options:\n",
            "    https://scikit-learn.org/stable/modules/linear_model.html#logistic-regression\n",
            "  n_iter_i = _check_optimize_result(\n",
            "C:\\Anaconda3\\envs\\cakd3\\lib\\site-packages\\sklearn\\linear_model\\_logistic.py:763: ConvergenceWarning: lbfgs failed to converge (status=1):\n",
            "STOP: TOTAL NO. of ITERATIONS REACHED LIMIT.\n",
            "\n",
            "Increase the number of iterations (max_iter) or scale the data as shown in:\n",
            "    https://scikit-learn.org/stable/modules/preprocessing.html\n",
            "Please also refer to the documentation for alternative solver options:\n",
            "    https://scikit-learn.org/stable/modules/linear_model.html#logistic-regression\n",
            "  n_iter_i = _check_optimize_result(\n",
            "C:\\Anaconda3\\envs\\cakd3\\lib\\site-packages\\sklearn\\linear_model\\_logistic.py:763: ConvergenceWarning: lbfgs failed to converge (status=1):\n",
            "STOP: TOTAL NO. of ITERATIONS REACHED LIMIT.\n",
            "\n",
            "Increase the number of iterations (max_iter) or scale the data as shown in:\n",
            "    https://scikit-learn.org/stable/modules/preprocessing.html\n",
            "Please also refer to the documentation for alternative solver options:\n",
            "    https://scikit-learn.org/stable/modules/linear_model.html#logistic-regression\n",
            "  n_iter_i = _check_optimize_result(\n",
            "C:\\Anaconda3\\envs\\cakd3\\lib\\site-packages\\sklearn\\linear_model\\_logistic.py:763: ConvergenceWarning: lbfgs failed to converge (status=1):\n",
            "STOP: TOTAL NO. of ITERATIONS REACHED LIMIT.\n",
            "\n",
            "Increase the number of iterations (max_iter) or scale the data as shown in:\n",
            "    https://scikit-learn.org/stable/modules/preprocessing.html\n",
            "Please also refer to the documentation for alternative solver options:\n",
            "    https://scikit-learn.org/stable/modules/linear_model.html#logistic-regression\n",
            "  n_iter_i = _check_optimize_result(\n",
            "C:\\Anaconda3\\envs\\cakd3\\lib\\site-packages\\sklearn\\model_selection\\_validation.py:615: FitFailedWarning: Estimator fit failed. The score on this train-test partition for these parameters will be set to nan. Details: \n",
            "Traceback (most recent call last):\n",
            "  File \"C:\\Anaconda3\\envs\\cakd3\\lib\\site-packages\\sklearn\\model_selection\\_validation.py\", line 598, in _fit_and_score\n",
            "    estimator.fit(X_train, y_train, **fit_params)\n",
            "  File \"C:\\Anaconda3\\envs\\cakd3\\lib\\site-packages\\sklearn\\pipeline.py\", line 346, in fit\n",
            "    self._final_estimator.fit(Xt, y, **fit_params_last_step)\n",
            "  File \"C:\\Anaconda3\\envs\\cakd3\\lib\\site-packages\\sklearn\\linear_model\\_logistic.py\", line 1406, in fit\n",
            "    fold_coefs_ = Parallel(n_jobs=self.n_jobs, verbose=self.verbose,\n",
            "  File \"C:\\Anaconda3\\envs\\cakd3\\lib\\site-packages\\joblib\\parallel.py\", line 1041, in __call__\n",
            "    if self.dispatch_one_batch(iterator):\n",
            "  File \"C:\\Anaconda3\\envs\\cakd3\\lib\\site-packages\\joblib\\parallel.py\", line 859, in dispatch_one_batch\n",
            "    self._dispatch(tasks)\n",
            "  File \"C:\\Anaconda3\\envs\\cakd3\\lib\\site-packages\\joblib\\parallel.py\", line 777, in _dispatch\n",
            "    job = self._backend.apply_async(batch, callback=cb)\n",
            "  File \"C:\\Anaconda3\\envs\\cakd3\\lib\\site-packages\\joblib\\_parallel_backends.py\", line 208, in apply_async\n",
            "    result = ImmediateResult(func)\n",
            "  File \"C:\\Anaconda3\\envs\\cakd3\\lib\\site-packages\\joblib\\_parallel_backends.py\", line 572, in __init__\n",
            "    self.results = batch()\n",
            "  File \"C:\\Anaconda3\\envs\\cakd3\\lib\\site-packages\\joblib\\parallel.py\", line 262, in __call__\n",
            "    return [func(*args, **kwargs)\n",
            "  File \"C:\\Anaconda3\\envs\\cakd3\\lib\\site-packages\\joblib\\parallel.py\", line 262, in <listcomp>\n",
            "    return [func(*args, **kwargs)\n",
            "  File \"C:\\Anaconda3\\envs\\cakd3\\lib\\site-packages\\sklearn\\utils\\fixes.py\", line 222, in __call__\n",
            "    return self.function(*args, **kwargs)\n",
            "  File \"C:\\Anaconda3\\envs\\cakd3\\lib\\site-packages\\sklearn\\linear_model\\_logistic.py\", line 758, in _logistic_regression_path\n",
            "    opt_res = optimize.minimize(\n",
            "  File \"C:\\Anaconda3\\envs\\cakd3\\lib\\site-packages\\scipy\\optimize\\_minimize.py\", line 619, in minimize\n",
            "    return _minimize_lbfgsb(fun, x0, args, jac, bounds,\n",
            "  File \"C:\\Anaconda3\\envs\\cakd3\\lib\\site-packages\\scipy\\optimize\\lbfgsb.py\", line 337, in _minimize_lbfgsb\n",
            "    wa = zeros(2*m*n + 5*n + 11*m*m + 8*m, float64)\n",
            "numpy.core._exceptions._ArrayMemoryError: Unable to allocate 5.05 GiB for an array with shape (677367180,) and data type float64\n",
            "\n",
            "  warnings.warn(\"Estimator fit failed. The score on this train-test\"\n",
            "C:\\Anaconda3\\envs\\cakd3\\lib\\site-packages\\sklearn\\model_selection\\_validation.py:615: FitFailedWarning: Estimator fit failed. The score on this train-test partition for these parameters will be set to nan. Details: \n",
            "Traceback (most recent call last):\n",
            "  File \"C:\\Anaconda3\\envs\\cakd3\\lib\\site-packages\\sklearn\\model_selection\\_validation.py\", line 598, in _fit_and_score\n",
            "    estimator.fit(X_train, y_train, **fit_params)\n",
            "  File \"C:\\Anaconda3\\envs\\cakd3\\lib\\site-packages\\sklearn\\pipeline.py\", line 346, in fit\n",
            "    self._final_estimator.fit(Xt, y, **fit_params_last_step)\n",
            "  File \"C:\\Anaconda3\\envs\\cakd3\\lib\\site-packages\\sklearn\\linear_model\\_logistic.py\", line 1406, in fit\n",
            "    fold_coefs_ = Parallel(n_jobs=self.n_jobs, verbose=self.verbose,\n",
            "  File \"C:\\Anaconda3\\envs\\cakd3\\lib\\site-packages\\joblib\\parallel.py\", line 1041, in __call__\n",
            "    if self.dispatch_one_batch(iterator):\n",
            "  File \"C:\\Anaconda3\\envs\\cakd3\\lib\\site-packages\\joblib\\parallel.py\", line 859, in dispatch_one_batch\n",
            "    self._dispatch(tasks)\n",
            "  File \"C:\\Anaconda3\\envs\\cakd3\\lib\\site-packages\\joblib\\parallel.py\", line 777, in _dispatch\n",
            "    job = self._backend.apply_async(batch, callback=cb)\n",
            "  File \"C:\\Anaconda3\\envs\\cakd3\\lib\\site-packages\\joblib\\_parallel_backends.py\", line 208, in apply_async\n",
            "    result = ImmediateResult(func)\n",
            "  File \"C:\\Anaconda3\\envs\\cakd3\\lib\\site-packages\\joblib\\_parallel_backends.py\", line 572, in __init__\n",
            "    self.results = batch()\n",
            "  File \"C:\\Anaconda3\\envs\\cakd3\\lib\\site-packages\\joblib\\parallel.py\", line 262, in __call__\n",
            "    return [func(*args, **kwargs)\n",
            "  File \"C:\\Anaconda3\\envs\\cakd3\\lib\\site-packages\\joblib\\parallel.py\", line 262, in <listcomp>\n",
            "    return [func(*args, **kwargs)\n",
            "  File \"C:\\Anaconda3\\envs\\cakd3\\lib\\site-packages\\sklearn\\utils\\fixes.py\", line 222, in __call__\n",
            "    return self.function(*args, **kwargs)\n",
            "  File \"C:\\Anaconda3\\envs\\cakd3\\lib\\site-packages\\sklearn\\linear_model\\_logistic.py\", line 758, in _logistic_regression_path\n",
            "    opt_res = optimize.minimize(\n",
            "  File \"C:\\Anaconda3\\envs\\cakd3\\lib\\site-packages\\scipy\\optimize\\_minimize.py\", line 619, in minimize\n",
            "    return _minimize_lbfgsb(fun, x0, args, jac, bounds,\n",
            "  File \"C:\\Anaconda3\\envs\\cakd3\\lib\\site-packages\\scipy\\optimize\\lbfgsb.py\", line 337, in _minimize_lbfgsb\n",
            "    wa = zeros(2*m*n + 5*n + 11*m*m + 8*m, float64)\n",
            "numpy.core._exceptions._ArrayMemoryError: Unable to allocate 5.14 GiB for an array with shape (689953180,) and data type float64\n",
            "\n",
            "  warnings.warn(\"Estimator fit failed. The score on this train-test\"\n",
            "C:\\Anaconda3\\envs\\cakd3\\lib\\site-packages\\sklearn\\model_selection\\_validation.py:615: FitFailedWarning: Estimator fit failed. The score on this train-test partition for these parameters will be set to nan. Details: \n",
            "Traceback (most recent call last):\n",
            "  File \"C:\\Anaconda3\\envs\\cakd3\\lib\\site-packages\\sklearn\\model_selection\\_validation.py\", line 598, in _fit_and_score\n",
            "    estimator.fit(X_train, y_train, **fit_params)\n",
            "  File \"C:\\Anaconda3\\envs\\cakd3\\lib\\site-packages\\sklearn\\pipeline.py\", line 346, in fit\n",
            "    self._final_estimator.fit(Xt, y, **fit_params_last_step)\n",
            "  File \"C:\\Anaconda3\\envs\\cakd3\\lib\\site-packages\\sklearn\\linear_model\\_logistic.py\", line 1406, in fit\n",
            "    fold_coefs_ = Parallel(n_jobs=self.n_jobs, verbose=self.verbose,\n",
            "  File \"C:\\Anaconda3\\envs\\cakd3\\lib\\site-packages\\joblib\\parallel.py\", line 1041, in __call__\n",
            "    if self.dispatch_one_batch(iterator):\n",
            "  File \"C:\\Anaconda3\\envs\\cakd3\\lib\\site-packages\\joblib\\parallel.py\", line 859, in dispatch_one_batch\n",
            "    self._dispatch(tasks)\n",
            "  File \"C:\\Anaconda3\\envs\\cakd3\\lib\\site-packages\\joblib\\parallel.py\", line 777, in _dispatch\n",
            "    job = self._backend.apply_async(batch, callback=cb)\n",
            "  File \"C:\\Anaconda3\\envs\\cakd3\\lib\\site-packages\\joblib\\_parallel_backends.py\", line 208, in apply_async\n",
            "    result = ImmediateResult(func)\n",
            "  File \"C:\\Anaconda3\\envs\\cakd3\\lib\\site-packages\\joblib\\_parallel_backends.py\", line 572, in __init__\n",
            "    self.results = batch()\n",
            "  File \"C:\\Anaconda3\\envs\\cakd3\\lib\\site-packages\\joblib\\parallel.py\", line 262, in __call__\n",
            "    return [func(*args, **kwargs)\n",
            "  File \"C:\\Anaconda3\\envs\\cakd3\\lib\\site-packages\\joblib\\parallel.py\", line 262, in <listcomp>\n",
            "    return [func(*args, **kwargs)\n",
            "  File \"C:\\Anaconda3\\envs\\cakd3\\lib\\site-packages\\sklearn\\utils\\fixes.py\", line 222, in __call__\n",
            "    return self.function(*args, **kwargs)\n",
            "  File \"C:\\Anaconda3\\envs\\cakd3\\lib\\site-packages\\sklearn\\linear_model\\_logistic.py\", line 758, in _logistic_regression_path\n",
            "    opt_res = optimize.minimize(\n",
            "  File \"C:\\Anaconda3\\envs\\cakd3\\lib\\site-packages\\scipy\\optimize\\_minimize.py\", line 619, in minimize\n",
            "    return _minimize_lbfgsb(fun, x0, args, jac, bounds,\n",
            "  File \"C:\\Anaconda3\\envs\\cakd3\\lib\\site-packages\\scipy\\optimize\\lbfgsb.py\", line 337, in _minimize_lbfgsb\n",
            "    wa = zeros(2*m*n + 5*n + 11*m*m + 8*m, float64)\n",
            "numpy.core._exceptions._ArrayMemoryError: Unable to allocate 5.09 GiB for an array with shape (683486680,) and data type float64\n",
            "\n",
            "  warnings.warn(\"Estimator fit failed. The score on this train-test\"\n",
            "C:\\Anaconda3\\envs\\cakd3\\lib\\site-packages\\sklearn\\linear_model\\_logistic.py:763: ConvergenceWarning: lbfgs failed to converge (status=1):\n",
            "STOP: TOTAL NO. of ITERATIONS REACHED LIMIT.\n",
            "\n",
            "Increase the number of iterations (max_iter) or scale the data as shown in:\n",
            "    https://scikit-learn.org/stable/modules/preprocessing.html\n",
            "Please also refer to the documentation for alternative solver options:\n",
            "    https://scikit-learn.org/stable/modules/linear_model.html#logistic-regression\n",
            "  n_iter_i = _check_optimize_result(\n",
            "C:\\Anaconda3\\envs\\cakd3\\lib\\site-packages\\sklearn\\linear_model\\_logistic.py:763: ConvergenceWarning: lbfgs failed to converge (status=1):\n",
            "STOP: TOTAL NO. of ITERATIONS REACHED LIMIT.\n",
            "\n",
            "Increase the number of iterations (max_iter) or scale the data as shown in:\n",
            "    https://scikit-learn.org/stable/modules/preprocessing.html\n",
            "Please also refer to the documentation for alternative solver options:\n",
            "    https://scikit-learn.org/stable/modules/linear_model.html#logistic-regression\n",
            "  n_iter_i = _check_optimize_result(\n",
            "C:\\Anaconda3\\envs\\cakd3\\lib\\site-packages\\sklearn\\linear_model\\_logistic.py:763: ConvergenceWarning: lbfgs failed to converge (status=1):\n",
            "STOP: TOTAL NO. of ITERATIONS REACHED LIMIT.\n",
            "\n",
            "Increase the number of iterations (max_iter) or scale the data as shown in:\n",
            "    https://scikit-learn.org/stable/modules/preprocessing.html\n",
            "Please also refer to the documentation for alternative solver options:\n",
            "    https://scikit-learn.org/stable/modules/linear_model.html#logistic-regression\n",
            "  n_iter_i = _check_optimize_result(\n",
            "C:\\Anaconda3\\envs\\cakd3\\lib\\site-packages\\sklearn\\linear_model\\_logistic.py:763: ConvergenceWarning: lbfgs failed to converge (status=1):\n",
            "STOP: TOTAL NO. of ITERATIONS REACHED LIMIT.\n",
            "\n",
            "Increase the number of iterations (max_iter) or scale the data as shown in:\n",
            "    https://scikit-learn.org/stable/modules/preprocessing.html\n",
            "Please also refer to the documentation for alternative solver options:\n",
            "    https://scikit-learn.org/stable/modules/linear_model.html#logistic-regression\n",
            "  n_iter_i = _check_optimize_result(\n",
            "C:\\Anaconda3\\envs\\cakd3\\lib\\site-packages\\sklearn\\linear_model\\_logistic.py:763: ConvergenceWarning: lbfgs failed to converge (status=1):\n",
            "STOP: TOTAL NO. of ITERATIONS REACHED LIMIT.\n",
            "\n",
            "Increase the number of iterations (max_iter) or scale the data as shown in:\n",
            "    https://scikit-learn.org/stable/modules/preprocessing.html\n",
            "Please also refer to the documentation for alternative solver options:\n",
            "    https://scikit-learn.org/stable/modules/linear_model.html#logistic-regression\n",
            "  n_iter_i = _check_optimize_result(\n",
            "C:\\Anaconda3\\envs\\cakd3\\lib\\site-packages\\sklearn\\linear_model\\_logistic.py:763: ConvergenceWarning: lbfgs failed to converge (status=1):\n",
            "STOP: TOTAL NO. of ITERATIONS REACHED LIMIT.\n",
            "\n",
            "Increase the number of iterations (max_iter) or scale the data as shown in:\n",
            "    https://scikit-learn.org/stable/modules/preprocessing.html\n",
            "Please also refer to the documentation for alternative solver options:\n",
            "    https://scikit-learn.org/stable/modules/linear_model.html#logistic-regression\n",
            "  n_iter_i = _check_optimize_result(\n",
            "C:\\Anaconda3\\envs\\cakd3\\lib\\site-packages\\sklearn\\model_selection\\_validation.py:615: FitFailedWarning: Estimator fit failed. The score on this train-test partition for these parameters will be set to nan. Details: \n",
            "Traceback (most recent call last):\n",
            "  File \"C:\\Anaconda3\\envs\\cakd3\\lib\\site-packages\\sklearn\\model_selection\\_validation.py\", line 598, in _fit_and_score\n",
            "    estimator.fit(X_train, y_train, **fit_params)\n",
            "  File \"C:\\Anaconda3\\envs\\cakd3\\lib\\site-packages\\sklearn\\pipeline.py\", line 346, in fit\n",
            "    self._final_estimator.fit(Xt, y, **fit_params_last_step)\n",
            "  File \"C:\\Anaconda3\\envs\\cakd3\\lib\\site-packages\\sklearn\\linear_model\\_logistic.py\", line 1406, in fit\n",
            "    fold_coefs_ = Parallel(n_jobs=self.n_jobs, verbose=self.verbose,\n",
            "  File \"C:\\Anaconda3\\envs\\cakd3\\lib\\site-packages\\joblib\\parallel.py\", line 1041, in __call__\n",
            "    if self.dispatch_one_batch(iterator):\n",
            "  File \"C:\\Anaconda3\\envs\\cakd3\\lib\\site-packages\\joblib\\parallel.py\", line 859, in dispatch_one_batch\n",
            "    self._dispatch(tasks)\n",
            "  File \"C:\\Anaconda3\\envs\\cakd3\\lib\\site-packages\\joblib\\parallel.py\", line 777, in _dispatch\n",
            "    job = self._backend.apply_async(batch, callback=cb)\n",
            "  File \"C:\\Anaconda3\\envs\\cakd3\\lib\\site-packages\\joblib\\_parallel_backends.py\", line 208, in apply_async\n",
            "    result = ImmediateResult(func)\n",
            "  File \"C:\\Anaconda3\\envs\\cakd3\\lib\\site-packages\\joblib\\_parallel_backends.py\", line 572, in __init__\n",
            "    self.results = batch()\n",
            "  File \"C:\\Anaconda3\\envs\\cakd3\\lib\\site-packages\\joblib\\parallel.py\", line 262, in __call__\n",
            "    return [func(*args, **kwargs)\n",
            "  File \"C:\\Anaconda3\\envs\\cakd3\\lib\\site-packages\\joblib\\parallel.py\", line 262, in <listcomp>\n",
            "    return [func(*args, **kwargs)\n",
            "  File \"C:\\Anaconda3\\envs\\cakd3\\lib\\site-packages\\sklearn\\utils\\fixes.py\", line 222, in __call__\n",
            "    return self.function(*args, **kwargs)\n",
            "  File \"C:\\Anaconda3\\envs\\cakd3\\lib\\site-packages\\sklearn\\linear_model\\_logistic.py\", line 758, in _logistic_regression_path\n",
            "    opt_res = optimize.minimize(\n",
            "  File \"C:\\Anaconda3\\envs\\cakd3\\lib\\site-packages\\scipy\\optimize\\_minimize.py\", line 619, in minimize\n",
            "    return _minimize_lbfgsb(fun, x0, args, jac, bounds,\n",
            "  File \"C:\\Anaconda3\\envs\\cakd3\\lib\\site-packages\\scipy\\optimize\\lbfgsb.py\", line 337, in _minimize_lbfgsb\n",
            "    wa = zeros(2*m*n + 5*n + 11*m*m + 8*m, float64)\n",
            "numpy.core._exceptions._ArrayMemoryError: Unable to allocate 5.05 GiB for an array with shape (677703680,) and data type float64\n",
            "\n",
            "  warnings.warn(\"Estimator fit failed. The score on this train-test\"\n",
            "C:\\Anaconda3\\envs\\cakd3\\lib\\site-packages\\sklearn\\model_selection\\_validation.py:615: FitFailedWarning: Estimator fit failed. The score on this train-test partition for these parameters will be set to nan. Details: \n",
            "Traceback (most recent call last):\n",
            "  File \"C:\\Anaconda3\\envs\\cakd3\\lib\\site-packages\\sklearn\\model_selection\\_validation.py\", line 598, in _fit_and_score\n",
            "    estimator.fit(X_train, y_train, **fit_params)\n",
            "  File \"C:\\Anaconda3\\envs\\cakd3\\lib\\site-packages\\sklearn\\pipeline.py\", line 346, in fit\n",
            "    self._final_estimator.fit(Xt, y, **fit_params_last_step)\n",
            "  File \"C:\\Anaconda3\\envs\\cakd3\\lib\\site-packages\\sklearn\\linear_model\\_logistic.py\", line 1406, in fit\n",
            "    fold_coefs_ = Parallel(n_jobs=self.n_jobs, verbose=self.verbose,\n",
            "  File \"C:\\Anaconda3\\envs\\cakd3\\lib\\site-packages\\joblib\\parallel.py\", line 1041, in __call__\n",
            "    if self.dispatch_one_batch(iterator):\n",
            "  File \"C:\\Anaconda3\\envs\\cakd3\\lib\\site-packages\\joblib\\parallel.py\", line 859, in dispatch_one_batch\n",
            "    self._dispatch(tasks)\n",
            "  File \"C:\\Anaconda3\\envs\\cakd3\\lib\\site-packages\\joblib\\parallel.py\", line 777, in _dispatch\n",
            "    job = self._backend.apply_async(batch, callback=cb)\n",
            "  File \"C:\\Anaconda3\\envs\\cakd3\\lib\\site-packages\\joblib\\_parallel_backends.py\", line 208, in apply_async\n",
            "    result = ImmediateResult(func)\n",
            "  File \"C:\\Anaconda3\\envs\\cakd3\\lib\\site-packages\\joblib\\_parallel_backends.py\", line 572, in __init__\n",
            "    self.results = batch()\n",
            "  File \"C:\\Anaconda3\\envs\\cakd3\\lib\\site-packages\\joblib\\parallel.py\", line 262, in __call__\n",
            "    return [func(*args, **kwargs)\n",
            "  File \"C:\\Anaconda3\\envs\\cakd3\\lib\\site-packages\\joblib\\parallel.py\", line 262, in <listcomp>\n",
            "    return [func(*args, **kwargs)\n",
            "  File \"C:\\Anaconda3\\envs\\cakd3\\lib\\site-packages\\sklearn\\utils\\fixes.py\", line 222, in __call__\n",
            "    return self.function(*args, **kwargs)\n",
            "  File \"C:\\Anaconda3\\envs\\cakd3\\lib\\site-packages\\sklearn\\linear_model\\_logistic.py\", line 758, in _logistic_regression_path\n",
            "    opt_res = optimize.minimize(\n",
            "  File \"C:\\Anaconda3\\envs\\cakd3\\lib\\site-packages\\scipy\\optimize\\_minimize.py\", line 619, in minimize\n",
            "    return _minimize_lbfgsb(fun, x0, args, jac, bounds,\n",
            "  File \"C:\\Anaconda3\\envs\\cakd3\\lib\\site-packages\\scipy\\optimize\\lbfgsb.py\", line 337, in _minimize_lbfgsb\n",
            "    wa = zeros(2*m*n + 5*n + 11*m*m + 8*m, float64)\n",
            "numpy.core._exceptions._ArrayMemoryError: Unable to allocate 5.14 GiB for an array with shape (690285180,) and data type float64\n",
            "\n",
            "  warnings.warn(\"Estimator fit failed. The score on this train-test\"\n",
            "C:\\Anaconda3\\envs\\cakd3\\lib\\site-packages\\sklearn\\model_selection\\_validation.py:615: FitFailedWarning: Estimator fit failed. The score on this train-test partition for these parameters will be set to nan. Details: \n",
            "Traceback (most recent call last):\n",
            "  File \"C:\\Anaconda3\\envs\\cakd3\\lib\\site-packages\\sklearn\\model_selection\\_validation.py\", line 598, in _fit_and_score\n",
            "    estimator.fit(X_train, y_train, **fit_params)\n",
            "  File \"C:\\Anaconda3\\envs\\cakd3\\lib\\site-packages\\sklearn\\pipeline.py\", line 346, in fit\n",
            "    self._final_estimator.fit(Xt, y, **fit_params_last_step)\n",
            "  File \"C:\\Anaconda3\\envs\\cakd3\\lib\\site-packages\\sklearn\\linear_model\\_logistic.py\", line 1406, in fit\n",
            "    fold_coefs_ = Parallel(n_jobs=self.n_jobs, verbose=self.verbose,\n",
            "  File \"C:\\Anaconda3\\envs\\cakd3\\lib\\site-packages\\joblib\\parallel.py\", line 1041, in __call__\n",
            "    if self.dispatch_one_batch(iterator):\n",
            "  File \"C:\\Anaconda3\\envs\\cakd3\\lib\\site-packages\\joblib\\parallel.py\", line 859, in dispatch_one_batch\n",
            "    self._dispatch(tasks)\n",
            "  File \"C:\\Anaconda3\\envs\\cakd3\\lib\\site-packages\\joblib\\parallel.py\", line 777, in _dispatch\n",
            "    job = self._backend.apply_async(batch, callback=cb)\n",
            "  File \"C:\\Anaconda3\\envs\\cakd3\\lib\\site-packages\\joblib\\_parallel_backends.py\", line 208, in apply_async\n",
            "    result = ImmediateResult(func)\n",
            "  File \"C:\\Anaconda3\\envs\\cakd3\\lib\\site-packages\\joblib\\_parallel_backends.py\", line 572, in __init__\n",
            "    self.results = batch()\n",
            "  File \"C:\\Anaconda3\\envs\\cakd3\\lib\\site-packages\\joblib\\parallel.py\", line 262, in __call__\n",
            "    return [func(*args, **kwargs)\n",
            "  File \"C:\\Anaconda3\\envs\\cakd3\\lib\\site-packages\\joblib\\parallel.py\", line 262, in <listcomp>\n",
            "    return [func(*args, **kwargs)\n",
            "  File \"C:\\Anaconda3\\envs\\cakd3\\lib\\site-packages\\sklearn\\utils\\fixes.py\", line 222, in __call__\n",
            "    return self.function(*args, **kwargs)\n",
            "  File \"C:\\Anaconda3\\envs\\cakd3\\lib\\site-packages\\sklearn\\linear_model\\_logistic.py\", line 758, in _logistic_regression_path\n",
            "    opt_res = optimize.minimize(\n",
            "  File \"C:\\Anaconda3\\envs\\cakd3\\lib\\site-packages\\scipy\\optimize\\_minimize.py\", line 619, in minimize\n",
            "    return _minimize_lbfgsb(fun, x0, args, jac, bounds,\n",
            "  File \"C:\\Anaconda3\\envs\\cakd3\\lib\\site-packages\\scipy\\optimize\\lbfgsb.py\", line 337, in _minimize_lbfgsb\n",
            "    wa = zeros(2*m*n + 5*n + 11*m*m + 8*m, float64)\n",
            "numpy.core._exceptions._ArrayMemoryError: Unable to allocate 5.09 GiB for an array with shape (683819180,) and data type float64\n",
            "\n",
            "  warnings.warn(\"Estimator fit failed. The score on this train-test\"\n",
            "C:\\Anaconda3\\envs\\cakd3\\lib\\site-packages\\sklearn\\linear_model\\_logistic.py:763: ConvergenceWarning: lbfgs failed to converge (status=1):\n",
            "STOP: TOTAL NO. of ITERATIONS REACHED LIMIT.\n",
            "\n",
            "Increase the number of iterations (max_iter) or scale the data as shown in:\n",
            "    https://scikit-learn.org/stable/modules/preprocessing.html\n",
            "Please also refer to the documentation for alternative solver options:\n",
            "    https://scikit-learn.org/stable/modules/linear_model.html#logistic-regression\n",
            "  n_iter_i = _check_optimize_result(\n",
            "C:\\Anaconda3\\envs\\cakd3\\lib\\site-packages\\sklearn\\linear_model\\_logistic.py:763: ConvergenceWarning: lbfgs failed to converge (status=1):\n",
            "STOP: TOTAL NO. of ITERATIONS REACHED LIMIT.\n",
            "\n",
            "Increase the number of iterations (max_iter) or scale the data as shown in:\n",
            "    https://scikit-learn.org/stable/modules/preprocessing.html\n",
            "Please also refer to the documentation for alternative solver options:\n",
            "    https://scikit-learn.org/stable/modules/linear_model.html#logistic-regression\n",
            "  n_iter_i = _check_optimize_result(\n",
            "C:\\Anaconda3\\envs\\cakd3\\lib\\site-packages\\sklearn\\linear_model\\_logistic.py:763: ConvergenceWarning: lbfgs failed to converge (status=1):\n",
            "STOP: TOTAL NO. of ITERATIONS REACHED LIMIT.\n",
            "\n",
            "Increase the number of iterations (max_iter) or scale the data as shown in:\n",
            "    https://scikit-learn.org/stable/modules/preprocessing.html\n",
            "Please also refer to the documentation for alternative solver options:\n",
            "    https://scikit-learn.org/stable/modules/linear_model.html#logistic-regression\n",
            "  n_iter_i = _check_optimize_result(\n",
            "C:\\Anaconda3\\envs\\cakd3\\lib\\site-packages\\sklearn\\linear_model\\_logistic.py:763: ConvergenceWarning: lbfgs failed to converge (status=1):\n",
            "STOP: TOTAL NO. of ITERATIONS REACHED LIMIT.\n",
            "\n",
            "Increase the number of iterations (max_iter) or scale the data as shown in:\n",
            "    https://scikit-learn.org/stable/modules/preprocessing.html\n",
            "Please also refer to the documentation for alternative solver options:\n",
            "    https://scikit-learn.org/stable/modules/linear_model.html#logistic-regression\n",
            "  n_iter_i = _check_optimize_result(\n",
            "C:\\Anaconda3\\envs\\cakd3\\lib\\site-packages\\sklearn\\linear_model\\_logistic.py:763: ConvergenceWarning: lbfgs failed to converge (status=1):\n",
            "STOP: TOTAL NO. of ITERATIONS REACHED LIMIT.\n",
            "\n",
            "Increase the number of iterations (max_iter) or scale the data as shown in:\n",
            "    https://scikit-learn.org/stable/modules/preprocessing.html\n",
            "Please also refer to the documentation for alternative solver options:\n",
            "    https://scikit-learn.org/stable/modules/linear_model.html#logistic-regression\n",
            "  n_iter_i = _check_optimize_result(\n",
            "C:\\Anaconda3\\envs\\cakd3\\lib\\site-packages\\sklearn\\linear_model\\_logistic.py:763: ConvergenceWarning: lbfgs failed to converge (status=1):\n",
            "STOP: TOTAL NO. of ITERATIONS REACHED LIMIT.\n",
            "\n",
            "Increase the number of iterations (max_iter) or scale the data as shown in:\n",
            "    https://scikit-learn.org/stable/modules/preprocessing.html\n",
            "Please also refer to the documentation for alternative solver options:\n",
            "    https://scikit-learn.org/stable/modules/linear_model.html#logistic-regression\n",
            "  n_iter_i = _check_optimize_result(\n",
            "C:\\Anaconda3\\envs\\cakd3\\lib\\site-packages\\sklearn\\model_selection\\_validation.py:615: FitFailedWarning: Estimator fit failed. The score on this train-test partition for these parameters will be set to nan. Details: \n",
            "Traceback (most recent call last):\n",
            "  File \"C:\\Anaconda3\\envs\\cakd3\\lib\\site-packages\\sklearn\\model_selection\\_validation.py\", line 598, in _fit_and_score\n",
            "    estimator.fit(X_train, y_train, **fit_params)\n",
            "  File \"C:\\Anaconda3\\envs\\cakd3\\lib\\site-packages\\sklearn\\pipeline.py\", line 346, in fit\n",
            "    self._final_estimator.fit(Xt, y, **fit_params_last_step)\n",
            "  File \"C:\\Anaconda3\\envs\\cakd3\\lib\\site-packages\\sklearn\\linear_model\\_logistic.py\", line 1406, in fit\n",
            "    fold_coefs_ = Parallel(n_jobs=self.n_jobs, verbose=self.verbose,\n",
            "  File \"C:\\Anaconda3\\envs\\cakd3\\lib\\site-packages\\joblib\\parallel.py\", line 1041, in __call__\n",
            "    if self.dispatch_one_batch(iterator):\n",
            "  File \"C:\\Anaconda3\\envs\\cakd3\\lib\\site-packages\\joblib\\parallel.py\", line 859, in dispatch_one_batch\n",
            "    self._dispatch(tasks)\n",
            "  File \"C:\\Anaconda3\\envs\\cakd3\\lib\\site-packages\\joblib\\parallel.py\", line 777, in _dispatch\n",
            "    job = self._backend.apply_async(batch, callback=cb)\n",
            "  File \"C:\\Anaconda3\\envs\\cakd3\\lib\\site-packages\\joblib\\_parallel_backends.py\", line 208, in apply_async\n",
            "    result = ImmediateResult(func)\n",
            "  File \"C:\\Anaconda3\\envs\\cakd3\\lib\\site-packages\\joblib\\_parallel_backends.py\", line 572, in __init__\n",
            "    self.results = batch()\n",
            "  File \"C:\\Anaconda3\\envs\\cakd3\\lib\\site-packages\\joblib\\parallel.py\", line 262, in __call__\n",
            "    return [func(*args, **kwargs)\n",
            "  File \"C:\\Anaconda3\\envs\\cakd3\\lib\\site-packages\\joblib\\parallel.py\", line 262, in <listcomp>\n",
            "    return [func(*args, **kwargs)\n",
            "  File \"C:\\Anaconda3\\envs\\cakd3\\lib\\site-packages\\sklearn\\utils\\fixes.py\", line 222, in __call__\n",
            "    return self.function(*args, **kwargs)\n",
            "  File \"C:\\Anaconda3\\envs\\cakd3\\lib\\site-packages\\sklearn\\linear_model\\_logistic.py\", line 758, in _logistic_regression_path\n",
            "    opt_res = optimize.minimize(\n",
            "  File \"C:\\Anaconda3\\envs\\cakd3\\lib\\site-packages\\scipy\\optimize\\_minimize.py\", line 619, in minimize\n",
            "    return _minimize_lbfgsb(fun, x0, args, jac, bounds,\n",
            "  File \"C:\\Anaconda3\\envs\\cakd3\\lib\\site-packages\\scipy\\optimize\\lbfgsb.py\", line 337, in _minimize_lbfgsb\n",
            "    wa = zeros(2*m*n + 5*n + 11*m*m + 8*m, float64)\n",
            "numpy.core._exceptions._ArrayMemoryError: Unable to allocate 5.05 GiB for an array with shape (677766180,) and data type float64\n",
            "\n",
            "  warnings.warn(\"Estimator fit failed. The score on this train-test\"\n"
          ]
        },
        {
          "output_type": "error",
          "ename": "KeyboardInterrupt",
          "evalue": "",
          "traceback": [
            "\u001b[1;31m---------------------------------------------------------------------------\u001b[0m",
            "\u001b[1;31mKeyboardInterrupt\u001b[0m                         Traceback (most recent call last)",
            "\u001b[1;32m<ipython-input-137-c20d2f3793ae>\u001b[0m in \u001b[0;36m<module>\u001b[1;34m\u001b[0m\n\u001b[0;32m      4\u001b[0m \u001b[0mparams\u001b[0m \u001b[1;33m=\u001b[0m \u001b[1;33m{\u001b[0m\u001b[1;34m'tfidf_vect__ngram_range'\u001b[0m\u001b[1;33m:\u001b[0m\u001b[1;33m[\u001b[0m\u001b[1;33m(\u001b[0m\u001b[1;36m1\u001b[0m\u001b[1;33m,\u001b[0m\u001b[1;36m1\u001b[0m\u001b[1;33m)\u001b[0m\u001b[1;33m,\u001b[0m\u001b[1;33m(\u001b[0m\u001b[1;36m1\u001b[0m\u001b[1;33m,\u001b[0m\u001b[1;36m2\u001b[0m\u001b[1;33m)\u001b[0m\u001b[1;33m,\u001b[0m\u001b[1;33m(\u001b[0m\u001b[1;36m1\u001b[0m\u001b[1;33m,\u001b[0m\u001b[1;36m3\u001b[0m\u001b[1;33m)\u001b[0m\u001b[1;33m]\u001b[0m\u001b[1;33m,\u001b[0m\u001b[1;34m'tfidf_vect__max_df'\u001b[0m\u001b[1;33m:\u001b[0m\u001b[1;33m[\u001b[0m\u001b[1;36m100\u001b[0m\u001b[1;33m,\u001b[0m\u001b[1;36m300\u001b[0m\u001b[1;33m,\u001b[0m\u001b[1;36m700\u001b[0m\u001b[1;33m]\u001b[0m\u001b[1;33m,\u001b[0m \u001b[1;34m'lr_clf__C'\u001b[0m\u001b[1;33m:\u001b[0m\u001b[1;33m[\u001b[0m\u001b[1;36m1\u001b[0m\u001b[1;33m,\u001b[0m\u001b[1;36m5\u001b[0m\u001b[1;33m,\u001b[0m\u001b[1;36m10\u001b[0m\u001b[1;33m]\u001b[0m\u001b[1;33m}\u001b[0m\u001b[1;33m\u001b[0m\u001b[1;33m\u001b[0m\u001b[0m\n\u001b[0;32m      5\u001b[0m \u001b[0mgrid_cv_pipe\u001b[0m \u001b[1;33m=\u001b[0m \u001b[0mGridSearchCV\u001b[0m\u001b[1;33m(\u001b[0m\u001b[0mpipeline\u001b[0m\u001b[1;33m,\u001b[0m \u001b[0mparam_grid\u001b[0m\u001b[1;33m=\u001b[0m\u001b[0mparams\u001b[0m\u001b[1;33m,\u001b[0m \u001b[0mcv\u001b[0m\u001b[1;33m=\u001b[0m\u001b[1;36m3\u001b[0m\u001b[1;33m,\u001b[0m \u001b[0mscoring\u001b[0m\u001b[1;33m=\u001b[0m\u001b[1;34m'accuracy'\u001b[0m\u001b[1;33m,\u001b[0m \u001b[0mverbose\u001b[0m\u001b[1;33m=\u001b[0m\u001b[1;36m1\u001b[0m\u001b[1;33m)\u001b[0m\u001b[1;33m\u001b[0m\u001b[1;33m\u001b[0m\u001b[0m\n\u001b[1;32m----> 6\u001b[1;33m \u001b[0mgrid_cv_pipe\u001b[0m\u001b[1;33m.\u001b[0m\u001b[0mfit\u001b[0m\u001b[1;33m(\u001b[0m\u001b[0mX_train\u001b[0m\u001b[1;33m,\u001b[0m \u001b[0my_train\u001b[0m\u001b[1;33m)\u001b[0m\u001b[1;33m\u001b[0m\u001b[1;33m\u001b[0m\u001b[0m\n\u001b[0m\u001b[0;32m      7\u001b[0m \u001b[0mprint\u001b[0m\u001b[1;33m(\u001b[0m\u001b[1;34mf'GridSearchCV Best Parameters : {grid_cv_pipe.best_params_}\\nGridSearchCV Best scores : {grid_cv_pipe.best_score_}'\u001b[0m\u001b[1;33m)\u001b[0m\u001b[1;33m\u001b[0m\u001b[1;33m\u001b[0m\u001b[0m\n\u001b[0;32m      8\u001b[0m \u001b[0mpred\u001b[0m \u001b[1;33m=\u001b[0m \u001b[0mgrid_cv_pipe\u001b[0m\u001b[1;33m.\u001b[0m\u001b[0mpredict\u001b[0m\u001b[1;33m(\u001b[0m\u001b[0mX_test\u001b[0m\u001b[1;33m)\u001b[0m\u001b[1;33m\u001b[0m\u001b[1;33m\u001b[0m\u001b[0m\n",
            "\u001b[1;32mC:\\Anaconda3\\envs\\cakd3\\lib\\site-packages\\sklearn\\utils\\validation.py\u001b[0m in \u001b[0;36minner_f\u001b[1;34m(*args, **kwargs)\u001b[0m\n\u001b[0;32m     61\u001b[0m             \u001b[0mextra_args\u001b[0m \u001b[1;33m=\u001b[0m \u001b[0mlen\u001b[0m\u001b[1;33m(\u001b[0m\u001b[0margs\u001b[0m\u001b[1;33m)\u001b[0m \u001b[1;33m-\u001b[0m \u001b[0mlen\u001b[0m\u001b[1;33m(\u001b[0m\u001b[0mall_args\u001b[0m\u001b[1;33m)\u001b[0m\u001b[1;33m\u001b[0m\u001b[1;33m\u001b[0m\u001b[0m\n\u001b[0;32m     62\u001b[0m             \u001b[1;32mif\u001b[0m \u001b[0mextra_args\u001b[0m \u001b[1;33m<=\u001b[0m \u001b[1;36m0\u001b[0m\u001b[1;33m:\u001b[0m\u001b[1;33m\u001b[0m\u001b[1;33m\u001b[0m\u001b[0m\n\u001b[1;32m---> 63\u001b[1;33m                 \u001b[1;32mreturn\u001b[0m \u001b[0mf\u001b[0m\u001b[1;33m(\u001b[0m\u001b[1;33m*\u001b[0m\u001b[0margs\u001b[0m\u001b[1;33m,\u001b[0m \u001b[1;33m**\u001b[0m\u001b[0mkwargs\u001b[0m\u001b[1;33m)\u001b[0m\u001b[1;33m\u001b[0m\u001b[1;33m\u001b[0m\u001b[0m\n\u001b[0m\u001b[0;32m     64\u001b[0m \u001b[1;33m\u001b[0m\u001b[0m\n\u001b[0;32m     65\u001b[0m             \u001b[1;31m# extra_args > 0\u001b[0m\u001b[1;33m\u001b[0m\u001b[1;33m\u001b[0m\u001b[1;33m\u001b[0m\u001b[0m\n",
            "\u001b[1;32mC:\\Anaconda3\\envs\\cakd3\\lib\\site-packages\\sklearn\\model_selection\\_search.py\u001b[0m in \u001b[0;36mfit\u001b[1;34m(self, X, y, groups, **fit_params)\u001b[0m\n\u001b[0;32m    839\u001b[0m                 \u001b[1;32mreturn\u001b[0m \u001b[0mresults\u001b[0m\u001b[1;33m\u001b[0m\u001b[1;33m\u001b[0m\u001b[0m\n\u001b[0;32m    840\u001b[0m \u001b[1;33m\u001b[0m\u001b[0m\n\u001b[1;32m--> 841\u001b[1;33m             \u001b[0mself\u001b[0m\u001b[1;33m.\u001b[0m\u001b[0m_run_search\u001b[0m\u001b[1;33m(\u001b[0m\u001b[0mevaluate_candidates\u001b[0m\u001b[1;33m)\u001b[0m\u001b[1;33m\u001b[0m\u001b[1;33m\u001b[0m\u001b[0m\n\u001b[0m\u001b[0;32m    842\u001b[0m \u001b[1;33m\u001b[0m\u001b[0m\n\u001b[0;32m    843\u001b[0m             \u001b[1;31m# multimetric is determined here because in the case of a callable\u001b[0m\u001b[1;33m\u001b[0m\u001b[1;33m\u001b[0m\u001b[1;33m\u001b[0m\u001b[0m\n",
            "\u001b[1;32mC:\\Anaconda3\\envs\\cakd3\\lib\\site-packages\\sklearn\\model_selection\\_search.py\u001b[0m in \u001b[0;36m_run_search\u001b[1;34m(self, evaluate_candidates)\u001b[0m\n\u001b[0;32m   1294\u001b[0m     \u001b[1;32mdef\u001b[0m \u001b[0m_run_search\u001b[0m\u001b[1;33m(\u001b[0m\u001b[0mself\u001b[0m\u001b[1;33m,\u001b[0m \u001b[0mevaluate_candidates\u001b[0m\u001b[1;33m)\u001b[0m\u001b[1;33m:\u001b[0m\u001b[1;33m\u001b[0m\u001b[1;33m\u001b[0m\u001b[0m\n\u001b[0;32m   1295\u001b[0m         \u001b[1;34m\"\"\"Search all candidates in param_grid\"\"\"\u001b[0m\u001b[1;33m\u001b[0m\u001b[1;33m\u001b[0m\u001b[0m\n\u001b[1;32m-> 1296\u001b[1;33m         \u001b[0mevaluate_candidates\u001b[0m\u001b[1;33m(\u001b[0m\u001b[0mParameterGrid\u001b[0m\u001b[1;33m(\u001b[0m\u001b[0mself\u001b[0m\u001b[1;33m.\u001b[0m\u001b[0mparam_grid\u001b[0m\u001b[1;33m)\u001b[0m\u001b[1;33m)\u001b[0m\u001b[1;33m\u001b[0m\u001b[1;33m\u001b[0m\u001b[0m\n\u001b[0m\u001b[0;32m   1297\u001b[0m \u001b[1;33m\u001b[0m\u001b[0m\n\u001b[0;32m   1298\u001b[0m \u001b[1;33m\u001b[0m\u001b[0m\n",
            "\u001b[1;32mC:\\Anaconda3\\envs\\cakd3\\lib\\site-packages\\sklearn\\model_selection\\_search.py\u001b[0m in \u001b[0;36mevaluate_candidates\u001b[1;34m(candidate_params, cv, more_results)\u001b[0m\n\u001b[0;32m    793\u001b[0m                               n_splits, n_candidates, n_candidates * n_splits))\n\u001b[0;32m    794\u001b[0m \u001b[1;33m\u001b[0m\u001b[0m\n\u001b[1;32m--> 795\u001b[1;33m                 out = parallel(delayed(_fit_and_score)(clone(base_estimator),\n\u001b[0m\u001b[0;32m    796\u001b[0m                                                        \u001b[0mX\u001b[0m\u001b[1;33m,\u001b[0m \u001b[0my\u001b[0m\u001b[1;33m,\u001b[0m\u001b[1;33m\u001b[0m\u001b[1;33m\u001b[0m\u001b[0m\n\u001b[0;32m    797\u001b[0m                                                        \u001b[0mtrain\u001b[0m\u001b[1;33m=\u001b[0m\u001b[0mtrain\u001b[0m\u001b[1;33m,\u001b[0m \u001b[0mtest\u001b[0m\u001b[1;33m=\u001b[0m\u001b[0mtest\u001b[0m\u001b[1;33m,\u001b[0m\u001b[1;33m\u001b[0m\u001b[1;33m\u001b[0m\u001b[0m\n",
            "\u001b[1;32mC:\\Anaconda3\\envs\\cakd3\\lib\\site-packages\\joblib\\parallel.py\u001b[0m in \u001b[0;36m__call__\u001b[1;34m(self, iterable)\u001b[0m\n\u001b[0;32m   1042\u001b[0m                 \u001b[0mself\u001b[0m\u001b[1;33m.\u001b[0m\u001b[0m_iterating\u001b[0m \u001b[1;33m=\u001b[0m \u001b[0mself\u001b[0m\u001b[1;33m.\u001b[0m\u001b[0m_original_iterator\u001b[0m \u001b[1;32mis\u001b[0m \u001b[1;32mnot\u001b[0m \u001b[1;32mNone\u001b[0m\u001b[1;33m\u001b[0m\u001b[1;33m\u001b[0m\u001b[0m\n\u001b[0;32m   1043\u001b[0m \u001b[1;33m\u001b[0m\u001b[0m\n\u001b[1;32m-> 1044\u001b[1;33m             \u001b[1;32mwhile\u001b[0m \u001b[0mself\u001b[0m\u001b[1;33m.\u001b[0m\u001b[0mdispatch_one_batch\u001b[0m\u001b[1;33m(\u001b[0m\u001b[0miterator\u001b[0m\u001b[1;33m)\u001b[0m\u001b[1;33m:\u001b[0m\u001b[1;33m\u001b[0m\u001b[1;33m\u001b[0m\u001b[0m\n\u001b[0m\u001b[0;32m   1045\u001b[0m                 \u001b[1;32mpass\u001b[0m\u001b[1;33m\u001b[0m\u001b[1;33m\u001b[0m\u001b[0m\n\u001b[0;32m   1046\u001b[0m \u001b[1;33m\u001b[0m\u001b[0m\n",
            "\u001b[1;32mC:\\Anaconda3\\envs\\cakd3\\lib\\site-packages\\joblib\\parallel.py\u001b[0m in \u001b[0;36mdispatch_one_batch\u001b[1;34m(self, iterator)\u001b[0m\n\u001b[0;32m    857\u001b[0m                 \u001b[1;32mreturn\u001b[0m \u001b[1;32mFalse\u001b[0m\u001b[1;33m\u001b[0m\u001b[1;33m\u001b[0m\u001b[0m\n\u001b[0;32m    858\u001b[0m             \u001b[1;32melse\u001b[0m\u001b[1;33m:\u001b[0m\u001b[1;33m\u001b[0m\u001b[1;33m\u001b[0m\u001b[0m\n\u001b[1;32m--> 859\u001b[1;33m                 \u001b[0mself\u001b[0m\u001b[1;33m.\u001b[0m\u001b[0m_dispatch\u001b[0m\u001b[1;33m(\u001b[0m\u001b[0mtasks\u001b[0m\u001b[1;33m)\u001b[0m\u001b[1;33m\u001b[0m\u001b[1;33m\u001b[0m\u001b[0m\n\u001b[0m\u001b[0;32m    860\u001b[0m                 \u001b[1;32mreturn\u001b[0m \u001b[1;32mTrue\u001b[0m\u001b[1;33m\u001b[0m\u001b[1;33m\u001b[0m\u001b[0m\n\u001b[0;32m    861\u001b[0m \u001b[1;33m\u001b[0m\u001b[0m\n",
            "\u001b[1;32mC:\\Anaconda3\\envs\\cakd3\\lib\\site-packages\\joblib\\parallel.py\u001b[0m in \u001b[0;36m_dispatch\u001b[1;34m(self, batch)\u001b[0m\n\u001b[0;32m    775\u001b[0m         \u001b[1;32mwith\u001b[0m \u001b[0mself\u001b[0m\u001b[1;33m.\u001b[0m\u001b[0m_lock\u001b[0m\u001b[1;33m:\u001b[0m\u001b[1;33m\u001b[0m\u001b[1;33m\u001b[0m\u001b[0m\n\u001b[0;32m    776\u001b[0m             \u001b[0mjob_idx\u001b[0m \u001b[1;33m=\u001b[0m \u001b[0mlen\u001b[0m\u001b[1;33m(\u001b[0m\u001b[0mself\u001b[0m\u001b[1;33m.\u001b[0m\u001b[0m_jobs\u001b[0m\u001b[1;33m)\u001b[0m\u001b[1;33m\u001b[0m\u001b[1;33m\u001b[0m\u001b[0m\n\u001b[1;32m--> 777\u001b[1;33m             \u001b[0mjob\u001b[0m \u001b[1;33m=\u001b[0m \u001b[0mself\u001b[0m\u001b[1;33m.\u001b[0m\u001b[0m_backend\u001b[0m\u001b[1;33m.\u001b[0m\u001b[0mapply_async\u001b[0m\u001b[1;33m(\u001b[0m\u001b[0mbatch\u001b[0m\u001b[1;33m,\u001b[0m \u001b[0mcallback\u001b[0m\u001b[1;33m=\u001b[0m\u001b[0mcb\u001b[0m\u001b[1;33m)\u001b[0m\u001b[1;33m\u001b[0m\u001b[1;33m\u001b[0m\u001b[0m\n\u001b[0m\u001b[0;32m    778\u001b[0m             \u001b[1;31m# A job can complete so quickly than its callback is\u001b[0m\u001b[1;33m\u001b[0m\u001b[1;33m\u001b[0m\u001b[1;33m\u001b[0m\u001b[0m\n\u001b[0;32m    779\u001b[0m             \u001b[1;31m# called before we get here, causing self._jobs to\u001b[0m\u001b[1;33m\u001b[0m\u001b[1;33m\u001b[0m\u001b[1;33m\u001b[0m\u001b[0m\n",
            "\u001b[1;32mC:\\Anaconda3\\envs\\cakd3\\lib\\site-packages\\joblib\\_parallel_backends.py\u001b[0m in \u001b[0;36mapply_async\u001b[1;34m(self, func, callback)\u001b[0m\n\u001b[0;32m    206\u001b[0m     \u001b[1;32mdef\u001b[0m \u001b[0mapply_async\u001b[0m\u001b[1;33m(\u001b[0m\u001b[0mself\u001b[0m\u001b[1;33m,\u001b[0m \u001b[0mfunc\u001b[0m\u001b[1;33m,\u001b[0m \u001b[0mcallback\u001b[0m\u001b[1;33m=\u001b[0m\u001b[1;32mNone\u001b[0m\u001b[1;33m)\u001b[0m\u001b[1;33m:\u001b[0m\u001b[1;33m\u001b[0m\u001b[1;33m\u001b[0m\u001b[0m\n\u001b[0;32m    207\u001b[0m         \u001b[1;34m\"\"\"Schedule a func to be run\"\"\"\u001b[0m\u001b[1;33m\u001b[0m\u001b[1;33m\u001b[0m\u001b[0m\n\u001b[1;32m--> 208\u001b[1;33m         \u001b[0mresult\u001b[0m \u001b[1;33m=\u001b[0m \u001b[0mImmediateResult\u001b[0m\u001b[1;33m(\u001b[0m\u001b[0mfunc\u001b[0m\u001b[1;33m)\u001b[0m\u001b[1;33m\u001b[0m\u001b[1;33m\u001b[0m\u001b[0m\n\u001b[0m\u001b[0;32m    209\u001b[0m         \u001b[1;32mif\u001b[0m \u001b[0mcallback\u001b[0m\u001b[1;33m:\u001b[0m\u001b[1;33m\u001b[0m\u001b[1;33m\u001b[0m\u001b[0m\n\u001b[0;32m    210\u001b[0m             \u001b[0mcallback\u001b[0m\u001b[1;33m(\u001b[0m\u001b[0mresult\u001b[0m\u001b[1;33m)\u001b[0m\u001b[1;33m\u001b[0m\u001b[1;33m\u001b[0m\u001b[0m\n",
            "\u001b[1;32mC:\\Anaconda3\\envs\\cakd3\\lib\\site-packages\\joblib\\_parallel_backends.py\u001b[0m in \u001b[0;36m__init__\u001b[1;34m(self, batch)\u001b[0m\n\u001b[0;32m    570\u001b[0m         \u001b[1;31m# Don't delay the application, to avoid keeping the input\u001b[0m\u001b[1;33m\u001b[0m\u001b[1;33m\u001b[0m\u001b[1;33m\u001b[0m\u001b[0m\n\u001b[0;32m    571\u001b[0m         \u001b[1;31m# arguments in memory\u001b[0m\u001b[1;33m\u001b[0m\u001b[1;33m\u001b[0m\u001b[1;33m\u001b[0m\u001b[0m\n\u001b[1;32m--> 572\u001b[1;33m         \u001b[0mself\u001b[0m\u001b[1;33m.\u001b[0m\u001b[0mresults\u001b[0m \u001b[1;33m=\u001b[0m \u001b[0mbatch\u001b[0m\u001b[1;33m(\u001b[0m\u001b[1;33m)\u001b[0m\u001b[1;33m\u001b[0m\u001b[1;33m\u001b[0m\u001b[0m\n\u001b[0m\u001b[0;32m    573\u001b[0m \u001b[1;33m\u001b[0m\u001b[0m\n\u001b[0;32m    574\u001b[0m     \u001b[1;32mdef\u001b[0m \u001b[0mget\u001b[0m\u001b[1;33m(\u001b[0m\u001b[0mself\u001b[0m\u001b[1;33m)\u001b[0m\u001b[1;33m:\u001b[0m\u001b[1;33m\u001b[0m\u001b[1;33m\u001b[0m\u001b[0m\n",
            "\u001b[1;32mC:\\Anaconda3\\envs\\cakd3\\lib\\site-packages\\joblib\\parallel.py\u001b[0m in \u001b[0;36m__call__\u001b[1;34m(self)\u001b[0m\n\u001b[0;32m    260\u001b[0m         \u001b[1;31m# change the default number of processes to -1\u001b[0m\u001b[1;33m\u001b[0m\u001b[1;33m\u001b[0m\u001b[1;33m\u001b[0m\u001b[0m\n\u001b[0;32m    261\u001b[0m         \u001b[1;32mwith\u001b[0m \u001b[0mparallel_backend\u001b[0m\u001b[1;33m(\u001b[0m\u001b[0mself\u001b[0m\u001b[1;33m.\u001b[0m\u001b[0m_backend\u001b[0m\u001b[1;33m,\u001b[0m \u001b[0mn_jobs\u001b[0m\u001b[1;33m=\u001b[0m\u001b[0mself\u001b[0m\u001b[1;33m.\u001b[0m\u001b[0m_n_jobs\u001b[0m\u001b[1;33m)\u001b[0m\u001b[1;33m:\u001b[0m\u001b[1;33m\u001b[0m\u001b[1;33m\u001b[0m\u001b[0m\n\u001b[1;32m--> 262\u001b[1;33m             return [func(*args, **kwargs)\n\u001b[0m\u001b[0;32m    263\u001b[0m                     for func, args, kwargs in self.items]\n\u001b[0;32m    264\u001b[0m \u001b[1;33m\u001b[0m\u001b[0m\n",
            "\u001b[1;32mC:\\Anaconda3\\envs\\cakd3\\lib\\site-packages\\joblib\\parallel.py\u001b[0m in \u001b[0;36m<listcomp>\u001b[1;34m(.0)\u001b[0m\n\u001b[0;32m    260\u001b[0m         \u001b[1;31m# change the default number of processes to -1\u001b[0m\u001b[1;33m\u001b[0m\u001b[1;33m\u001b[0m\u001b[1;33m\u001b[0m\u001b[0m\n\u001b[0;32m    261\u001b[0m         \u001b[1;32mwith\u001b[0m \u001b[0mparallel_backend\u001b[0m\u001b[1;33m(\u001b[0m\u001b[0mself\u001b[0m\u001b[1;33m.\u001b[0m\u001b[0m_backend\u001b[0m\u001b[1;33m,\u001b[0m \u001b[0mn_jobs\u001b[0m\u001b[1;33m=\u001b[0m\u001b[0mself\u001b[0m\u001b[1;33m.\u001b[0m\u001b[0m_n_jobs\u001b[0m\u001b[1;33m)\u001b[0m\u001b[1;33m:\u001b[0m\u001b[1;33m\u001b[0m\u001b[1;33m\u001b[0m\u001b[0m\n\u001b[1;32m--> 262\u001b[1;33m             return [func(*args, **kwargs)\n\u001b[0m\u001b[0;32m    263\u001b[0m                     for func, args, kwargs in self.items]\n\u001b[0;32m    264\u001b[0m \u001b[1;33m\u001b[0m\u001b[0m\n",
            "\u001b[1;32mC:\\Anaconda3\\envs\\cakd3\\lib\\site-packages\\sklearn\\utils\\fixes.py\u001b[0m in \u001b[0;36m__call__\u001b[1;34m(self, *args, **kwargs)\u001b[0m\n\u001b[0;32m    220\u001b[0m     \u001b[1;32mdef\u001b[0m \u001b[0m__call__\u001b[0m\u001b[1;33m(\u001b[0m\u001b[0mself\u001b[0m\u001b[1;33m,\u001b[0m \u001b[1;33m*\u001b[0m\u001b[0margs\u001b[0m\u001b[1;33m,\u001b[0m \u001b[1;33m**\u001b[0m\u001b[0mkwargs\u001b[0m\u001b[1;33m)\u001b[0m\u001b[1;33m:\u001b[0m\u001b[1;33m\u001b[0m\u001b[1;33m\u001b[0m\u001b[0m\n\u001b[0;32m    221\u001b[0m         \u001b[1;32mwith\u001b[0m \u001b[0mconfig_context\u001b[0m\u001b[1;33m(\u001b[0m\u001b[1;33m**\u001b[0m\u001b[0mself\u001b[0m\u001b[1;33m.\u001b[0m\u001b[0mconfig\u001b[0m\u001b[1;33m)\u001b[0m\u001b[1;33m:\u001b[0m\u001b[1;33m\u001b[0m\u001b[1;33m\u001b[0m\u001b[0m\n\u001b[1;32m--> 222\u001b[1;33m             \u001b[1;32mreturn\u001b[0m \u001b[0mself\u001b[0m\u001b[1;33m.\u001b[0m\u001b[0mfunction\u001b[0m\u001b[1;33m(\u001b[0m\u001b[1;33m*\u001b[0m\u001b[0margs\u001b[0m\u001b[1;33m,\u001b[0m \u001b[1;33m**\u001b[0m\u001b[0mkwargs\u001b[0m\u001b[1;33m)\u001b[0m\u001b[1;33m\u001b[0m\u001b[1;33m\u001b[0m\u001b[0m\n\u001b[0m",
            "\u001b[1;32mC:\\Anaconda3\\envs\\cakd3\\lib\\site-packages\\sklearn\\model_selection\\_validation.py\u001b[0m in \u001b[0;36m_fit_and_score\u001b[1;34m(estimator, X, y, scorer, train, test, verbose, parameters, fit_params, return_train_score, return_parameters, return_n_test_samples, return_times, return_estimator, split_progress, candidate_progress, error_score)\u001b[0m\n\u001b[0;32m    596\u001b[0m             \u001b[0mestimator\u001b[0m\u001b[1;33m.\u001b[0m\u001b[0mfit\u001b[0m\u001b[1;33m(\u001b[0m\u001b[0mX_train\u001b[0m\u001b[1;33m,\u001b[0m \u001b[1;33m**\u001b[0m\u001b[0mfit_params\u001b[0m\u001b[1;33m)\u001b[0m\u001b[1;33m\u001b[0m\u001b[1;33m\u001b[0m\u001b[0m\n\u001b[0;32m    597\u001b[0m         \u001b[1;32melse\u001b[0m\u001b[1;33m:\u001b[0m\u001b[1;33m\u001b[0m\u001b[1;33m\u001b[0m\u001b[0m\n\u001b[1;32m--> 598\u001b[1;33m             \u001b[0mestimator\u001b[0m\u001b[1;33m.\u001b[0m\u001b[0mfit\u001b[0m\u001b[1;33m(\u001b[0m\u001b[0mX_train\u001b[0m\u001b[1;33m,\u001b[0m \u001b[0my_train\u001b[0m\u001b[1;33m,\u001b[0m \u001b[1;33m**\u001b[0m\u001b[0mfit_params\u001b[0m\u001b[1;33m)\u001b[0m\u001b[1;33m\u001b[0m\u001b[1;33m\u001b[0m\u001b[0m\n\u001b[0m\u001b[0;32m    599\u001b[0m \u001b[1;33m\u001b[0m\u001b[0m\n\u001b[0;32m    600\u001b[0m     \u001b[1;32mexcept\u001b[0m \u001b[0mException\u001b[0m \u001b[1;32mas\u001b[0m \u001b[0me\u001b[0m\u001b[1;33m:\u001b[0m\u001b[1;33m\u001b[0m\u001b[1;33m\u001b[0m\u001b[0m\n",
            "\u001b[1;32mC:\\Anaconda3\\envs\\cakd3\\lib\\site-packages\\sklearn\\pipeline.py\u001b[0m in \u001b[0;36mfit\u001b[1;34m(self, X, y, **fit_params)\u001b[0m\n\u001b[0;32m    344\u001b[0m             \u001b[1;32mif\u001b[0m \u001b[0mself\u001b[0m\u001b[1;33m.\u001b[0m\u001b[0m_final_estimator\u001b[0m \u001b[1;33m!=\u001b[0m \u001b[1;34m'passthrough'\u001b[0m\u001b[1;33m:\u001b[0m\u001b[1;33m\u001b[0m\u001b[1;33m\u001b[0m\u001b[0m\n\u001b[0;32m    345\u001b[0m                 \u001b[0mfit_params_last_step\u001b[0m \u001b[1;33m=\u001b[0m \u001b[0mfit_params_steps\u001b[0m\u001b[1;33m[\u001b[0m\u001b[0mself\u001b[0m\u001b[1;33m.\u001b[0m\u001b[0msteps\u001b[0m\u001b[1;33m[\u001b[0m\u001b[1;33m-\u001b[0m\u001b[1;36m1\u001b[0m\u001b[1;33m]\u001b[0m\u001b[1;33m[\u001b[0m\u001b[1;36m0\u001b[0m\u001b[1;33m]\u001b[0m\u001b[1;33m]\u001b[0m\u001b[1;33m\u001b[0m\u001b[1;33m\u001b[0m\u001b[0m\n\u001b[1;32m--> 346\u001b[1;33m                 \u001b[0mself\u001b[0m\u001b[1;33m.\u001b[0m\u001b[0m_final_estimator\u001b[0m\u001b[1;33m.\u001b[0m\u001b[0mfit\u001b[0m\u001b[1;33m(\u001b[0m\u001b[0mXt\u001b[0m\u001b[1;33m,\u001b[0m \u001b[0my\u001b[0m\u001b[1;33m,\u001b[0m \u001b[1;33m**\u001b[0m\u001b[0mfit_params_last_step\u001b[0m\u001b[1;33m)\u001b[0m\u001b[1;33m\u001b[0m\u001b[1;33m\u001b[0m\u001b[0m\n\u001b[0m\u001b[0;32m    347\u001b[0m \u001b[1;33m\u001b[0m\u001b[0m\n\u001b[0;32m    348\u001b[0m         \u001b[1;32mreturn\u001b[0m \u001b[0mself\u001b[0m\u001b[1;33m\u001b[0m\u001b[1;33m\u001b[0m\u001b[0m\n",
            "\u001b[1;32mC:\\Anaconda3\\envs\\cakd3\\lib\\site-packages\\sklearn\\linear_model\\_logistic.py\u001b[0m in \u001b[0;36mfit\u001b[1;34m(self, X, y, sample_weight)\u001b[0m\n\u001b[0;32m   1404\u001b[0m         \u001b[1;32melse\u001b[0m\u001b[1;33m:\u001b[0m\u001b[1;33m\u001b[0m\u001b[1;33m\u001b[0m\u001b[0m\n\u001b[0;32m   1405\u001b[0m             \u001b[0mprefer\u001b[0m \u001b[1;33m=\u001b[0m \u001b[1;34m'processes'\u001b[0m\u001b[1;33m\u001b[0m\u001b[1;33m\u001b[0m\u001b[0m\n\u001b[1;32m-> 1406\u001b[1;33m         fold_coefs_ = Parallel(n_jobs=self.n_jobs, verbose=self.verbose,\n\u001b[0m\u001b[0;32m   1407\u001b[0m                                \u001b[1;33m**\u001b[0m\u001b[0m_joblib_parallel_args\u001b[0m\u001b[1;33m(\u001b[0m\u001b[0mprefer\u001b[0m\u001b[1;33m=\u001b[0m\u001b[0mprefer\u001b[0m\u001b[1;33m)\u001b[0m\u001b[1;33m)\u001b[0m\u001b[1;33m(\u001b[0m\u001b[1;33m\u001b[0m\u001b[1;33m\u001b[0m\u001b[0m\n\u001b[0;32m   1408\u001b[0m             path_func(X, y, pos_class=class_, Cs=[C_],\n",
            "\u001b[1;32mC:\\Anaconda3\\envs\\cakd3\\lib\\site-packages\\joblib\\parallel.py\u001b[0m in \u001b[0;36m__call__\u001b[1;34m(self, iterable)\u001b[0m\n\u001b[0;32m   1039\u001b[0m             \u001b[1;31m# remaining jobs.\u001b[0m\u001b[1;33m\u001b[0m\u001b[1;33m\u001b[0m\u001b[1;33m\u001b[0m\u001b[0m\n\u001b[0;32m   1040\u001b[0m             \u001b[0mself\u001b[0m\u001b[1;33m.\u001b[0m\u001b[0m_iterating\u001b[0m \u001b[1;33m=\u001b[0m \u001b[1;32mFalse\u001b[0m\u001b[1;33m\u001b[0m\u001b[1;33m\u001b[0m\u001b[0m\n\u001b[1;32m-> 1041\u001b[1;33m             \u001b[1;32mif\u001b[0m \u001b[0mself\u001b[0m\u001b[1;33m.\u001b[0m\u001b[0mdispatch_one_batch\u001b[0m\u001b[1;33m(\u001b[0m\u001b[0miterator\u001b[0m\u001b[1;33m)\u001b[0m\u001b[1;33m:\u001b[0m\u001b[1;33m\u001b[0m\u001b[1;33m\u001b[0m\u001b[0m\n\u001b[0m\u001b[0;32m   1042\u001b[0m                 \u001b[0mself\u001b[0m\u001b[1;33m.\u001b[0m\u001b[0m_iterating\u001b[0m \u001b[1;33m=\u001b[0m \u001b[0mself\u001b[0m\u001b[1;33m.\u001b[0m\u001b[0m_original_iterator\u001b[0m \u001b[1;32mis\u001b[0m \u001b[1;32mnot\u001b[0m \u001b[1;32mNone\u001b[0m\u001b[1;33m\u001b[0m\u001b[1;33m\u001b[0m\u001b[0m\n\u001b[0;32m   1043\u001b[0m \u001b[1;33m\u001b[0m\u001b[0m\n",
            "\u001b[1;32mC:\\Anaconda3\\envs\\cakd3\\lib\\site-packages\\joblib\\parallel.py\u001b[0m in \u001b[0;36mdispatch_one_batch\u001b[1;34m(self, iterator)\u001b[0m\n\u001b[0;32m    857\u001b[0m                 \u001b[1;32mreturn\u001b[0m \u001b[1;32mFalse\u001b[0m\u001b[1;33m\u001b[0m\u001b[1;33m\u001b[0m\u001b[0m\n\u001b[0;32m    858\u001b[0m             \u001b[1;32melse\u001b[0m\u001b[1;33m:\u001b[0m\u001b[1;33m\u001b[0m\u001b[1;33m\u001b[0m\u001b[0m\n\u001b[1;32m--> 859\u001b[1;33m                 \u001b[0mself\u001b[0m\u001b[1;33m.\u001b[0m\u001b[0m_dispatch\u001b[0m\u001b[1;33m(\u001b[0m\u001b[0mtasks\u001b[0m\u001b[1;33m)\u001b[0m\u001b[1;33m\u001b[0m\u001b[1;33m\u001b[0m\u001b[0m\n\u001b[0m\u001b[0;32m    860\u001b[0m                 \u001b[1;32mreturn\u001b[0m \u001b[1;32mTrue\u001b[0m\u001b[1;33m\u001b[0m\u001b[1;33m\u001b[0m\u001b[0m\n\u001b[0;32m    861\u001b[0m \u001b[1;33m\u001b[0m\u001b[0m\n",
            "\u001b[1;32mC:\\Anaconda3\\envs\\cakd3\\lib\\site-packages\\joblib\\parallel.py\u001b[0m in \u001b[0;36m_dispatch\u001b[1;34m(self, batch)\u001b[0m\n\u001b[0;32m    775\u001b[0m         \u001b[1;32mwith\u001b[0m \u001b[0mself\u001b[0m\u001b[1;33m.\u001b[0m\u001b[0m_lock\u001b[0m\u001b[1;33m:\u001b[0m\u001b[1;33m\u001b[0m\u001b[1;33m\u001b[0m\u001b[0m\n\u001b[0;32m    776\u001b[0m             \u001b[0mjob_idx\u001b[0m \u001b[1;33m=\u001b[0m \u001b[0mlen\u001b[0m\u001b[1;33m(\u001b[0m\u001b[0mself\u001b[0m\u001b[1;33m.\u001b[0m\u001b[0m_jobs\u001b[0m\u001b[1;33m)\u001b[0m\u001b[1;33m\u001b[0m\u001b[1;33m\u001b[0m\u001b[0m\n\u001b[1;32m--> 777\u001b[1;33m             \u001b[0mjob\u001b[0m \u001b[1;33m=\u001b[0m \u001b[0mself\u001b[0m\u001b[1;33m.\u001b[0m\u001b[0m_backend\u001b[0m\u001b[1;33m.\u001b[0m\u001b[0mapply_async\u001b[0m\u001b[1;33m(\u001b[0m\u001b[0mbatch\u001b[0m\u001b[1;33m,\u001b[0m \u001b[0mcallback\u001b[0m\u001b[1;33m=\u001b[0m\u001b[0mcb\u001b[0m\u001b[1;33m)\u001b[0m\u001b[1;33m\u001b[0m\u001b[1;33m\u001b[0m\u001b[0m\n\u001b[0m\u001b[0;32m    778\u001b[0m             \u001b[1;31m# A job can complete so quickly than its callback is\u001b[0m\u001b[1;33m\u001b[0m\u001b[1;33m\u001b[0m\u001b[1;33m\u001b[0m\u001b[0m\n\u001b[0;32m    779\u001b[0m             \u001b[1;31m# called before we get here, causing self._jobs to\u001b[0m\u001b[1;33m\u001b[0m\u001b[1;33m\u001b[0m\u001b[1;33m\u001b[0m\u001b[0m\n",
            "\u001b[1;32mC:\\Anaconda3\\envs\\cakd3\\lib\\site-packages\\joblib\\_parallel_backends.py\u001b[0m in \u001b[0;36mapply_async\u001b[1;34m(self, func, callback)\u001b[0m\n\u001b[0;32m    206\u001b[0m     \u001b[1;32mdef\u001b[0m \u001b[0mapply_async\u001b[0m\u001b[1;33m(\u001b[0m\u001b[0mself\u001b[0m\u001b[1;33m,\u001b[0m \u001b[0mfunc\u001b[0m\u001b[1;33m,\u001b[0m \u001b[0mcallback\u001b[0m\u001b[1;33m=\u001b[0m\u001b[1;32mNone\u001b[0m\u001b[1;33m)\u001b[0m\u001b[1;33m:\u001b[0m\u001b[1;33m\u001b[0m\u001b[1;33m\u001b[0m\u001b[0m\n\u001b[0;32m    207\u001b[0m         \u001b[1;34m\"\"\"Schedule a func to be run\"\"\"\u001b[0m\u001b[1;33m\u001b[0m\u001b[1;33m\u001b[0m\u001b[0m\n\u001b[1;32m--> 208\u001b[1;33m         \u001b[0mresult\u001b[0m \u001b[1;33m=\u001b[0m \u001b[0mImmediateResult\u001b[0m\u001b[1;33m(\u001b[0m\u001b[0mfunc\u001b[0m\u001b[1;33m)\u001b[0m\u001b[1;33m\u001b[0m\u001b[1;33m\u001b[0m\u001b[0m\n\u001b[0m\u001b[0;32m    209\u001b[0m         \u001b[1;32mif\u001b[0m \u001b[0mcallback\u001b[0m\u001b[1;33m:\u001b[0m\u001b[1;33m\u001b[0m\u001b[1;33m\u001b[0m\u001b[0m\n\u001b[0;32m    210\u001b[0m             \u001b[0mcallback\u001b[0m\u001b[1;33m(\u001b[0m\u001b[0mresult\u001b[0m\u001b[1;33m)\u001b[0m\u001b[1;33m\u001b[0m\u001b[1;33m\u001b[0m\u001b[0m\n",
            "\u001b[1;32mC:\\Anaconda3\\envs\\cakd3\\lib\\site-packages\\joblib\\_parallel_backends.py\u001b[0m in \u001b[0;36m__init__\u001b[1;34m(self, batch)\u001b[0m\n\u001b[0;32m    570\u001b[0m         \u001b[1;31m# Don't delay the application, to avoid keeping the input\u001b[0m\u001b[1;33m\u001b[0m\u001b[1;33m\u001b[0m\u001b[1;33m\u001b[0m\u001b[0m\n\u001b[0;32m    571\u001b[0m         \u001b[1;31m# arguments in memory\u001b[0m\u001b[1;33m\u001b[0m\u001b[1;33m\u001b[0m\u001b[1;33m\u001b[0m\u001b[0m\n\u001b[1;32m--> 572\u001b[1;33m         \u001b[0mself\u001b[0m\u001b[1;33m.\u001b[0m\u001b[0mresults\u001b[0m \u001b[1;33m=\u001b[0m \u001b[0mbatch\u001b[0m\u001b[1;33m(\u001b[0m\u001b[1;33m)\u001b[0m\u001b[1;33m\u001b[0m\u001b[1;33m\u001b[0m\u001b[0m\n\u001b[0m\u001b[0;32m    573\u001b[0m \u001b[1;33m\u001b[0m\u001b[0m\n\u001b[0;32m    574\u001b[0m     \u001b[1;32mdef\u001b[0m \u001b[0mget\u001b[0m\u001b[1;33m(\u001b[0m\u001b[0mself\u001b[0m\u001b[1;33m)\u001b[0m\u001b[1;33m:\u001b[0m\u001b[1;33m\u001b[0m\u001b[1;33m\u001b[0m\u001b[0m\n",
            "\u001b[1;32mC:\\Anaconda3\\envs\\cakd3\\lib\\site-packages\\joblib\\parallel.py\u001b[0m in \u001b[0;36m__call__\u001b[1;34m(self)\u001b[0m\n\u001b[0;32m    260\u001b[0m         \u001b[1;31m# change the default number of processes to -1\u001b[0m\u001b[1;33m\u001b[0m\u001b[1;33m\u001b[0m\u001b[1;33m\u001b[0m\u001b[0m\n\u001b[0;32m    261\u001b[0m         \u001b[1;32mwith\u001b[0m \u001b[0mparallel_backend\u001b[0m\u001b[1;33m(\u001b[0m\u001b[0mself\u001b[0m\u001b[1;33m.\u001b[0m\u001b[0m_backend\u001b[0m\u001b[1;33m,\u001b[0m \u001b[0mn_jobs\u001b[0m\u001b[1;33m=\u001b[0m\u001b[0mself\u001b[0m\u001b[1;33m.\u001b[0m\u001b[0m_n_jobs\u001b[0m\u001b[1;33m)\u001b[0m\u001b[1;33m:\u001b[0m\u001b[1;33m\u001b[0m\u001b[1;33m\u001b[0m\u001b[0m\n\u001b[1;32m--> 262\u001b[1;33m             return [func(*args, **kwargs)\n\u001b[0m\u001b[0;32m    263\u001b[0m                     for func, args, kwargs in self.items]\n\u001b[0;32m    264\u001b[0m \u001b[1;33m\u001b[0m\u001b[0m\n",
            "\u001b[1;32mC:\\Anaconda3\\envs\\cakd3\\lib\\site-packages\\joblib\\parallel.py\u001b[0m in \u001b[0;36m<listcomp>\u001b[1;34m(.0)\u001b[0m\n\u001b[0;32m    260\u001b[0m         \u001b[1;31m# change the default number of processes to -1\u001b[0m\u001b[1;33m\u001b[0m\u001b[1;33m\u001b[0m\u001b[1;33m\u001b[0m\u001b[0m\n\u001b[0;32m    261\u001b[0m         \u001b[1;32mwith\u001b[0m \u001b[0mparallel_backend\u001b[0m\u001b[1;33m(\u001b[0m\u001b[0mself\u001b[0m\u001b[1;33m.\u001b[0m\u001b[0m_backend\u001b[0m\u001b[1;33m,\u001b[0m \u001b[0mn_jobs\u001b[0m\u001b[1;33m=\u001b[0m\u001b[0mself\u001b[0m\u001b[1;33m.\u001b[0m\u001b[0m_n_jobs\u001b[0m\u001b[1;33m)\u001b[0m\u001b[1;33m:\u001b[0m\u001b[1;33m\u001b[0m\u001b[1;33m\u001b[0m\u001b[0m\n\u001b[1;32m--> 262\u001b[1;33m             return [func(*args, **kwargs)\n\u001b[0m\u001b[0;32m    263\u001b[0m                     for func, args, kwargs in self.items]\n\u001b[0;32m    264\u001b[0m \u001b[1;33m\u001b[0m\u001b[0m\n",
            "\u001b[1;32mC:\\Anaconda3\\envs\\cakd3\\lib\\site-packages\\sklearn\\utils\\fixes.py\u001b[0m in \u001b[0;36m__call__\u001b[1;34m(self, *args, **kwargs)\u001b[0m\n\u001b[0;32m    220\u001b[0m     \u001b[1;32mdef\u001b[0m \u001b[0m__call__\u001b[0m\u001b[1;33m(\u001b[0m\u001b[0mself\u001b[0m\u001b[1;33m,\u001b[0m \u001b[1;33m*\u001b[0m\u001b[0margs\u001b[0m\u001b[1;33m,\u001b[0m \u001b[1;33m**\u001b[0m\u001b[0mkwargs\u001b[0m\u001b[1;33m)\u001b[0m\u001b[1;33m:\u001b[0m\u001b[1;33m\u001b[0m\u001b[1;33m\u001b[0m\u001b[0m\n\u001b[0;32m    221\u001b[0m         \u001b[1;32mwith\u001b[0m \u001b[0mconfig_context\u001b[0m\u001b[1;33m(\u001b[0m\u001b[1;33m**\u001b[0m\u001b[0mself\u001b[0m\u001b[1;33m.\u001b[0m\u001b[0mconfig\u001b[0m\u001b[1;33m)\u001b[0m\u001b[1;33m:\u001b[0m\u001b[1;33m\u001b[0m\u001b[1;33m\u001b[0m\u001b[0m\n\u001b[1;32m--> 222\u001b[1;33m             \u001b[1;32mreturn\u001b[0m \u001b[0mself\u001b[0m\u001b[1;33m.\u001b[0m\u001b[0mfunction\u001b[0m\u001b[1;33m(\u001b[0m\u001b[1;33m*\u001b[0m\u001b[0margs\u001b[0m\u001b[1;33m,\u001b[0m \u001b[1;33m**\u001b[0m\u001b[0mkwargs\u001b[0m\u001b[1;33m)\u001b[0m\u001b[1;33m\u001b[0m\u001b[1;33m\u001b[0m\u001b[0m\n\u001b[0m",
            "\u001b[1;32mC:\\Anaconda3\\envs\\cakd3\\lib\\site-packages\\sklearn\\linear_model\\_logistic.py\u001b[0m in \u001b[0;36m_logistic_regression_path\u001b[1;34m(X, y, pos_class, Cs, fit_intercept, max_iter, tol, verbose, solver, coef, class_weight, dual, penalty, intercept_scaling, multi_class, random_state, check_input, max_squared_sum, sample_weight, l1_ratio)\u001b[0m\n\u001b[0;32m    756\u001b[0m             iprint = [-1, 50, 1, 100, 101][\n\u001b[0;32m    757\u001b[0m                 np.searchsorted(np.array([0, 1, 2, 3]), verbose)]\n\u001b[1;32m--> 758\u001b[1;33m             opt_res = optimize.minimize(\n\u001b[0m\u001b[0;32m    759\u001b[0m                 \u001b[0mfunc\u001b[0m\u001b[1;33m,\u001b[0m \u001b[0mw0\u001b[0m\u001b[1;33m,\u001b[0m \u001b[0mmethod\u001b[0m\u001b[1;33m=\u001b[0m\u001b[1;34m\"L-BFGS-B\"\u001b[0m\u001b[1;33m,\u001b[0m \u001b[0mjac\u001b[0m\u001b[1;33m=\u001b[0m\u001b[1;32mTrue\u001b[0m\u001b[1;33m,\u001b[0m\u001b[1;33m\u001b[0m\u001b[1;33m\u001b[0m\u001b[0m\n\u001b[0;32m    760\u001b[0m                 \u001b[0margs\u001b[0m\u001b[1;33m=\u001b[0m\u001b[1;33m(\u001b[0m\u001b[0mX\u001b[0m\u001b[1;33m,\u001b[0m \u001b[0mtarget\u001b[0m\u001b[1;33m,\u001b[0m \u001b[1;36m1.\u001b[0m \u001b[1;33m/\u001b[0m \u001b[0mC\u001b[0m\u001b[1;33m,\u001b[0m \u001b[0msample_weight\u001b[0m\u001b[1;33m)\u001b[0m\u001b[1;33m,\u001b[0m\u001b[1;33m\u001b[0m\u001b[1;33m\u001b[0m\u001b[0m\n",
            "\u001b[1;32mC:\\Anaconda3\\envs\\cakd3\\lib\\site-packages\\scipy\\optimize\\_minimize.py\u001b[0m in \u001b[0;36mminimize\u001b[1;34m(fun, x0, args, method, jac, hess, hessp, bounds, constraints, tol, callback, options)\u001b[0m\n\u001b[0;32m    617\u001b[0m                                   **options)\n\u001b[0;32m    618\u001b[0m     \u001b[1;32melif\u001b[0m \u001b[0mmeth\u001b[0m \u001b[1;33m==\u001b[0m \u001b[1;34m'l-bfgs-b'\u001b[0m\u001b[1;33m:\u001b[0m\u001b[1;33m\u001b[0m\u001b[1;33m\u001b[0m\u001b[0m\n\u001b[1;32m--> 619\u001b[1;33m         return _minimize_lbfgsb(fun, x0, args, jac, bounds,\n\u001b[0m\u001b[0;32m    620\u001b[0m                                 callback=callback, **options)\n\u001b[0;32m    621\u001b[0m     \u001b[1;32melif\u001b[0m \u001b[0mmeth\u001b[0m \u001b[1;33m==\u001b[0m \u001b[1;34m'tnc'\u001b[0m\u001b[1;33m:\u001b[0m\u001b[1;33m\u001b[0m\u001b[1;33m\u001b[0m\u001b[0m\n",
            "\u001b[1;32mC:\\Anaconda3\\envs\\cakd3\\lib\\site-packages\\scipy\\optimize\\lbfgsb.py\u001b[0m in \u001b[0;36m_minimize_lbfgsb\u001b[1;34m(fun, x0, args, jac, bounds, disp, maxcor, ftol, gtol, eps, maxfun, maxiter, iprint, callback, maxls, finite_diff_rel_step, **unknown_options)\u001b[0m\n\u001b[0;32m    288\u001b[0m     \u001b[1;31m# LBFGSB is sent 'old-style' bounds, 'new-style' bounds are required by\u001b[0m\u001b[1;33m\u001b[0m\u001b[1;33m\u001b[0m\u001b[1;33m\u001b[0m\u001b[0m\n\u001b[0;32m    289\u001b[0m     \u001b[1;31m# approx_derivative and ScalarFunction\u001b[0m\u001b[1;33m\u001b[0m\u001b[1;33m\u001b[0m\u001b[1;33m\u001b[0m\u001b[0m\n\u001b[1;32m--> 290\u001b[1;33m     \u001b[0mnew_bounds\u001b[0m \u001b[1;33m=\u001b[0m \u001b[0mold_bound_to_new\u001b[0m\u001b[1;33m(\u001b[0m\u001b[0mbounds\u001b[0m\u001b[1;33m)\u001b[0m\u001b[1;33m\u001b[0m\u001b[1;33m\u001b[0m\u001b[0m\n\u001b[0m\u001b[0;32m    291\u001b[0m \u001b[1;33m\u001b[0m\u001b[0m\n\u001b[0;32m    292\u001b[0m     \u001b[1;31m# check bounds\u001b[0m\u001b[1;33m\u001b[0m\u001b[1;33m\u001b[0m\u001b[1;33m\u001b[0m\u001b[0m\n",
            "\u001b[1;32mC:\\Anaconda3\\envs\\cakd3\\lib\\site-packages\\scipy\\optimize\\_constraints.py\u001b[0m in \u001b[0;36mold_bound_to_new\u001b[1;34m(bounds)\u001b[0m\n\u001b[0;32m    327\u001b[0m     lb = np.array([float(_arr_to_scalar(x)) if x is not None else -np.inf\n\u001b[0;32m    328\u001b[0m                    for x in lb])\n\u001b[1;32m--> 329\u001b[1;33m     ub = np.array([float(_arr_to_scalar(x)) if x is not None else np.inf\n\u001b[0m\u001b[0;32m    330\u001b[0m                    for x in ub])\n\u001b[0;32m    331\u001b[0m \u001b[1;33m\u001b[0m\u001b[0m\n",
            "\u001b[1;31mKeyboardInterrupt\u001b[0m: "
          ]
        }
      ]
    },
    {
      "cell_type": "markdown",
      "metadata": {
        "id": "K2xstQCebeI6"
      },
      "source": [
        "## 5. Sentiment Analysis(감성 분석)\n",
        "- 문서의 주관적인 감성/의견/감정/기분 등을 파악하기 위한 방법. 문서 내 텍스트가 나타내는 여러 가지 주관적인 단어와 문맥을 기반으로 감성(Sentiment) 수치를 계산하는 방법을 이용\n",
        "- 감성 지수는 긍정 감성 지수와 부정 감성 지수로 구성\n",
        "- 지도학습, 비지도학습 둘 다 가능\n",
        "  - 지도학습: 일반적인 텍스트 기반의 분류와 거의 동일\n",
        "  - 비지도학습: 'Lexicon'이라는 감성 어휘 사전을 이용. 감성 분석을 위한 용어와 문맥에 대한 다양한 정보를 가지고 있으며 이를 이용해 문서의 긍정적, 부정적 감성 여부를 판단"
      ]
    },
    {
      "cell_type": "markdown",
      "metadata": {
        "id": "h4MWOdwTbeI6"
      },
      "source": [
        "### 1. 지도학습 기반 감성분석 실습: IMDB 영화평\n",
        "- 텍스트 기반의 이진 분류 개념"
      ]
    },
    {
      "cell_type": "code",
      "metadata": {
        "id": "4sfw9-uObeI7",
        "outputId": "399038fa-cfd7-4f0f-f128-b8d1d11489a2"
      },
      "source": [
        "import pandas as pd\n",
        "review_df = pd.read_csv('C:/workspace/cakd3/수업/dataset/labeledTrainData.tsv', header=0, sep='\\t', quoting=3)\n",
        "print(review_df.review[0])\n",
        "review_df.head(3)\n",
        "### HTML에서 추출하여 <br />등이 존재\n",
        "###  "
      ],
      "execution_count": null,
      "outputs": [
        {
          "output_type": "stream",
          "name": "stdout",
          "text": [
            "\"With all this stuff going down at the moment with MJ i've started listening to his music, watching the odd documentary here and there, watched The Wiz and watched Moonwalker again. Maybe i just want to get a certain insight into this guy who i thought was really cool in the eighties just to maybe make up my mind whether he is guilty or innocent. Moonwalker is part biography, part feature film which i remember going to see at the cinema when it was originally released. Some of it has subtle messages about MJ's feeling towards the press and also the obvious message of drugs are bad m'kay.<br /><br />Visually impressive but of course this is all about Michael Jackson so unless you remotely like MJ in anyway then you are going to hate this and find it boring. Some may call MJ an egotist for consenting to the making of this movie BUT MJ and most of his fans would say that he made it for the fans which if true is really nice of him.<br /><br />The actual feature film bit when it finally starts is only on for 20 minutes or so excluding the Smooth Criminal sequence and Joe Pesci is convincing as a psychopathic all powerful drug lord. Why he wants MJ dead so bad is beyond me. Because MJ overheard his plans? Nah, Joe Pesci's character ranted that he wanted people to know it is he who is supplying drugs etc so i dunno, maybe he just hates MJ's music.<br /><br />Lots of cool things in this like MJ turning into a car and a robot and the whole Speed Demon sequence. Also, the director must have had the patience of a saint when it came to filming the kiddy Bad sequence as usually directors hate working with one kid let alone a whole bunch of them performing a complex dance scene.<br /><br />Bottom line, this movie is for people who like MJ on one level or another (which i think is most people). If not, then stay away. It does try and give off a wholesome message and ironically MJ's bestest buddy in this movie is a girl! Michael Jackson is truly one of the most talented people ever to grace this planet but is he guilty? Well, with all the attention i've gave this subject....hmmm well i don't know because people can be different behind closed doors, i know this for a fact. He is either an extremely nice but stupid guy or one of the most sickest liars. I hope he is not the latter.\"\n"
          ]
        },
        {
          "output_type": "execute_result",
          "data": {
            "text/html": [
              "<div>\n",
              "<style scoped>\n",
              "    .dataframe tbody tr th:only-of-type {\n",
              "        vertical-align: middle;\n",
              "    }\n",
              "\n",
              "    .dataframe tbody tr th {\n",
              "        vertical-align: top;\n",
              "    }\n",
              "\n",
              "    .dataframe thead th {\n",
              "        text-align: right;\n",
              "    }\n",
              "</style>\n",
              "<table border=\"1\" class=\"dataframe\">\n",
              "  <thead>\n",
              "    <tr style=\"text-align: right;\">\n",
              "      <th></th>\n",
              "      <th>id</th>\n",
              "      <th>sentiment</th>\n",
              "      <th>review</th>\n",
              "    </tr>\n",
              "  </thead>\n",
              "  <tbody>\n",
              "    <tr>\n",
              "      <th>0</th>\n",
              "      <td>\"5814_8\"</td>\n",
              "      <td>1</td>\n",
              "      <td>\"With all this stuff going down at the moment ...</td>\n",
              "    </tr>\n",
              "    <tr>\n",
              "      <th>1</th>\n",
              "      <td>\"2381_9\"</td>\n",
              "      <td>1</td>\n",
              "      <td>\"\\\"The Classic War of the Worlds\\\" by Timothy ...</td>\n",
              "    </tr>\n",
              "    <tr>\n",
              "      <th>2</th>\n",
              "      <td>\"7759_3\"</td>\n",
              "      <td>0</td>\n",
              "      <td>\"The film starts with a manager (Nicholas Bell...</td>\n",
              "    </tr>\n",
              "  </tbody>\n",
              "</table>\n",
              "</div>"
            ],
            "text/plain": [
              "         id  sentiment                                             review\n",
              "0  \"5814_8\"          1  \"With all this stuff going down at the moment ...\n",
              "1  \"2381_9\"          1  \"\\\"The Classic War of the Worlds\\\" by Timothy ...\n",
              "2  \"7759_3\"          0  \"The film starts with a manager (Nicholas Bell..."
            ]
          },
          "metadata": {},
          "execution_count": 1
        }
      ]
    },
    {
      "cell_type": "code",
      "metadata": {
        "id": "q9XlS5uPbeI7",
        "outputId": "639c1891-55bc-46c1-847e-c25beda81e26"
      },
      "source": [
        "# 정규표현식 활용\n",
        "import re\n",
        "# <br> 띄어쓰기로 바꾸기\n",
        "review_df['review'] = review_df['review'].str.replace('<br />', ' ')\n",
        "\n",
        "# 영어가 아닌 특수문자, 기호등은 공백으로 바꾸기\n",
        "review_df['review'] = review_df['review'].apply(lambda x : re.sub(\"[^a-zA-Z]\", \" \", x))\n",
        "print(review_df.review[0])"
      ],
      "execution_count": null,
      "outputs": [
        {
          "output_type": "stream",
          "name": "stdout",
          "text": [
            " With all this stuff going down at the moment with MJ i ve started listening to his music  watching the odd documentary here and there  watched The Wiz and watched Moonwalker again  Maybe i just want to get a certain insight into this guy who i thought was really cool in the eighties just to maybe make up my mind whether he is guilty or innocent  Moonwalker is part biography  part feature film which i remember going to see at the cinema when it was originally released  Some of it has subtle messages about MJ s feeling towards the press and also the obvious message of drugs are bad m kay   Visually impressive but of course this is all about Michael Jackson so unless you remotely like MJ in anyway then you are going to hate this and find it boring  Some may call MJ an egotist for consenting to the making of this movie BUT MJ and most of his fans would say that he made it for the fans which if true is really nice of him   The actual feature film bit when it finally starts is only on for    minutes or so excluding the Smooth Criminal sequence and Joe Pesci is convincing as a psychopathic all powerful drug lord  Why he wants MJ dead so bad is beyond me  Because MJ overheard his plans  Nah  Joe Pesci s character ranted that he wanted people to know it is he who is supplying drugs etc so i dunno  maybe he just hates MJ s music   Lots of cool things in this like MJ turning into a car and a robot and the whole Speed Demon sequence  Also  the director must have had the patience of a saint when it came to filming the kiddy Bad sequence as usually directors hate working with one kid let alone a whole bunch of them performing a complex dance scene   Bottom line  this movie is for people who like MJ on one level or another  which i think is most people   If not  then stay away  It does try and give off a wholesome message and ironically MJ s bestest buddy in this movie is a girl  Michael Jackson is truly one of the most talented people ever to grace this planet but is he guilty  Well  with all the attention i ve gave this subject    hmmm well i don t know because people can be different behind closed doors  i know this for a fact  He is either an extremely nice but stupid guy or one of the most sickest liars  I hope he is not the latter  \n"
          ]
        }
      ]
    },
    {
      "cell_type": "code",
      "metadata": {
        "id": "NYfW7_r8beI7",
        "outputId": "53e8a981-9aa9-4046-d9ca-f0ebb763669f"
      },
      "source": [
        "X_train"
      ],
      "execution_count": null,
      "outputs": [
        {
          "output_type": "execute_result",
          "data": {
            "text/html": [
              "<div>\n",
              "<style scoped>\n",
              "    .dataframe tbody tr th:only-of-type {\n",
              "        vertical-align: middle;\n",
              "    }\n",
              "\n",
              "    .dataframe tbody tr th {\n",
              "        vertical-align: top;\n",
              "    }\n",
              "\n",
              "    .dataframe thead th {\n",
              "        text-align: right;\n",
              "    }\n",
              "</style>\n",
              "<table border=\"1\" class=\"dataframe\">\n",
              "  <thead>\n",
              "    <tr style=\"text-align: right;\">\n",
              "      <th></th>\n",
              "      <th>review</th>\n",
              "    </tr>\n",
              "  </thead>\n",
              "  <tbody>\n",
              "    <tr>\n",
              "      <th>3724</th>\n",
              "      <td>This version moved a little slow for my taste...</td>\n",
              "    </tr>\n",
              "    <tr>\n",
              "      <th>23599</th>\n",
              "      <td>I really enjoyed this film because I have a t...</td>\n",
              "    </tr>\n",
              "    <tr>\n",
              "      <th>11331</th>\n",
              "      <td>Saw this in the theater in     and fell out o...</td>\n",
              "    </tr>\n",
              "    <tr>\n",
              "      <th>15745</th>\n",
              "      <td>Recently I was looking for the newly issued W...</td>\n",
              "    </tr>\n",
              "    <tr>\n",
              "      <th>845</th>\n",
              "      <td>Escaping the life of being pimped by her fath...</td>\n",
              "    </tr>\n",
              "    <tr>\n",
              "      <th>...</th>\n",
              "      <td>...</td>\n",
              "    </tr>\n",
              "    <tr>\n",
              "      <th>6955</th>\n",
              "      <td>This is a generally nice film  with good stor...</td>\n",
              "    </tr>\n",
              "    <tr>\n",
              "      <th>7653</th>\n",
              "      <td>The real shame of   The Gathering   is not in...</td>\n",
              "    </tr>\n",
              "    <tr>\n",
              "      <th>9634</th>\n",
              "      <td>In what could have been an otherwise run of t...</td>\n",
              "    </tr>\n",
              "    <tr>\n",
              "      <th>6860</th>\n",
              "      <td>Excellent P O W  adventure  adapted by Eric W...</td>\n",
              "    </tr>\n",
              "    <tr>\n",
              "      <th>24108</th>\n",
              "      <td>This one features all the  bad  effect of Pri...</td>\n",
              "    </tr>\n",
              "  </tbody>\n",
              "</table>\n",
              "<p>17500 rows × 1 columns</p>\n",
              "</div>"
            ],
            "text/plain": [
              "                                                  review\n",
              "3724    This version moved a little slow for my taste...\n",
              "23599   I really enjoyed this film because I have a t...\n",
              "11331   Saw this in the theater in     and fell out o...\n",
              "15745   Recently I was looking for the newly issued W...\n",
              "845     Escaping the life of being pimped by her fath...\n",
              "...                                                  ...\n",
              "6955    This is a generally nice film  with good stor...\n",
              "7653    The real shame of   The Gathering   is not in...\n",
              "9634    In what could have been an otherwise run of t...\n",
              "6860    Excellent P O W  adventure  adapted by Eric W...\n",
              "24108   This one features all the  bad  effect of Pri...\n",
              "\n",
              "[17500 rows x 1 columns]"
            ]
          },
          "metadata": {},
          "execution_count": 22
        }
      ]
    },
    {
      "cell_type": "code",
      "metadata": {
        "id": "oTClU0ZtbeI7",
        "outputId": "11fa5011-0517-4ffe-f480-32e3db739d07"
      },
      "source": [
        "from sklearn.model_selection import train_test_split\n",
        "class_df = review_df['sentiment']\n",
        "feature_df = review_df.drop(['id', 'sentiment'], axis=1)\n",
        "X_train, X_test, y_train, y_test = train_test_split(feature_df, class_df, test_size=0.3, random_state=156)\n",
        "X_train.shape, X_test.shape"
      ],
      "execution_count": null,
      "outputs": [
        {
          "output_type": "execute_result",
          "data": {
            "text/plain": [
              "((17500, 1), (7500, 1))"
            ]
          },
          "metadata": {},
          "execution_count": 14
        }
      ]
    },
    {
      "cell_type": "code",
      "metadata": {
        "id": "cP6cAvgobeI7",
        "outputId": "6cf6010f-c212-404c-8bf5-4fb1eea498cd"
      },
      "source": [
        "# pipeline 이용: Countvectorizer로 변환 후 LogisticRegression으로 평가\n",
        "from sklearn.pipeline import Pipeline\n",
        "from sklearn.linear_model import LogisticRegression\n",
        "from sklearn.feature_extraction.text import CountVectorizer\n",
        "from sklearn.metrics import accuracy_score, roc_auc_score\n",
        "\n",
        "pipeline = Pipeline([('cnt_vect',CountVectorizer(stop_words='english', ngram_range=(1,2))),\\\n",
        "    ('lr_clf',LogisticRegression(C=10))])\n",
        "pipeline.fit(X_train['review'], y_train)\n",
        "\n",
        "pred = pipeline.predict(X_test['review'])\n",
        "pred_proba = pipeline.predict_proba(X_test['review'])[:,1]\n",
        "print(f'accuracy score : {accuracy_score(y_test, pred):.4f}, ROC AUC score : {roc_auc_score(y_test, pred_proba):.4f}')"
      ],
      "execution_count": null,
      "outputs": [
        {
          "output_type": "stream",
          "name": "stderr",
          "text": [
            "C:\\Anaconda3\\envs\\cakd3\\lib\\site-packages\\sklearn\\linear_model\\_logistic.py:763: ConvergenceWarning: lbfgs failed to converge (status=1):\n",
            "STOP: TOTAL NO. of ITERATIONS REACHED LIMIT.\n",
            "\n",
            "Increase the number of iterations (max_iter) or scale the data as shown in:\n",
            "    https://scikit-learn.org/stable/modules/preprocessing.html\n",
            "Please also refer to the documentation for alternative solver options:\n",
            "    https://scikit-learn.org/stable/modules/linear_model.html#logistic-regression\n",
            "  n_iter_i = _check_optimize_result(\n"
          ]
        },
        {
          "output_type": "stream",
          "name": "stdout",
          "text": [
            "accuracy score : 0.8860, ROC AUC score : 0.9503\n"
          ]
        }
      ]
    },
    {
      "cell_type": "code",
      "metadata": {
        "id": "jzdtcngTbeI8",
        "outputId": "2aba2b53-e875-494e-ac51-a1ccb623d0b4"
      },
      "source": [
        "# pipeline 이용: TF-IDF로 변환 후 LogisticRegression으로 평가\n",
        "from sklearn.feature_extraction.text import TfidfVectorizer\n",
        "\n",
        "pipeline = Pipeline([('tf', TfidfVectorizer(stop_words='english', ngram_range=(1,2))),\\\n",
        "    ('lr', LogisticRegression(C=10))])\n",
        "pipeline.fit(X_train['review'], y_train)\n",
        "\n",
        "pred = pipeline.predict(X_test['review'])\n",
        "pred_proba = pipeline.predict_proba(X_test['review'])[:,1]\n",
        "print(f'accuracy score : {accuracy_score(y_test, pred):.4f}, ROC AUC score : {roc_auc_score(y_test, pred_proba):.4f}')\n",
        "### Countvectorizer보다 TF-IDF Vectorizer의 예측성능이 더 좋음"
      ],
      "execution_count": null,
      "outputs": [
        {
          "output_type": "stream",
          "name": "stdout",
          "text": [
            "accuracy score : 0.8936, ROC AUC score : 0.9598\n"
          ]
        }
      ]
    },
    {
      "cell_type": "markdown",
      "metadata": {
        "id": "wSCnamoCbeI8"
      },
      "source": [
        "### 2. 비지도학습 기반 감성 분석 소개\n",
        "- Lexicon:  감성 어휘 사전. NLTK 패키지의 서브 모듈. 긍정 감성 또는 부정 감성의 정도를 의미하는 수치를 가지고 있으며 이를 감성 지수(Polarity Score)라고 함. 감성 지수는 단어의 위치나 주변 단어, 문맥, POS 등을 참고해 결정됨\\\n",
        "NLTK 패키지의 감성사전은 예측력이 좋지 못하다는 단점이 있음. 실제 업무 적용은 다른 감성사전을 적용하는 경우가 일반적\n",
        "- WordNet: NLTK 패키지에서 제공하는 WordNet 모듈. 단순한 어휘 사전이 아닌 Semantic 분석을 제공함. 각각의 품사로 구성된 개별 단어를 Synset(Sets of cognitive synonyms)이라는 개념을 이용해 표현. Synset은 단순한 하나의 단어가 아니라 그 단어가 가지는 문맥, 시맨틱 정보를 제공하는 WordNet의 핵심 개념임\n",
        "  - Semantic: 문맥상 의미. 동일한 단어나 문장이라도 문맥에 따라 다르게 표현될 수 있기에 NLP 패키지는 시맨틱을 프로그램적으로 인터페이스 할 수 있는 방법을 제공\n",
        "- SentiWordNet: NLTK의 WordNet과 유사하게 감성 단어 전용의 WordNet을 구현한 것. WordNet의 Synset 개념을 감성 분석에 적용한 것. Synset별로 3가지 감성 점수(sentiment score/긍정, 부정, 객관성)를 할당. 예측정확도가 높지 않아서 잘 사용하지 않음\n",
        "- VADAR: Lexicon의 한 종류로 SNS의 텍스트에 대한 감성 분석을 제공하기 위한 패키지. 뛰어난 분석결과 제공, 빠른 수행시간덕에 대용량 텍스트 데이터에 잘 사용되는 패키지\n",
        "- Pattern: 예측 성능 측면에서 주목 받는 패키지. 파이썬 상위버전은 호환 안됨"
      ]
    },
    {
      "cell_type": "markdown",
      "metadata": {
        "id": "DjeN_QPybeI8"
      },
      "source": [
        "### 3. SentiWordNet을 이용한 감정 분석"
      ]
    },
    {
      "cell_type": "markdown",
      "metadata": {
        "id": "Je6FC-vvbeI8"
      },
      "source": [
        "### 4. VADER Lexicon을 이용한 감성 분석\n",
        "- SentimentIntensityAnalyzer.polarity_score(감성지수): negative, neutral, postive, compound 의 딕셔너리 형태로 출력\n",
        "- compound: -1 < x < 1. 0.1 이상이면 긍정 감성, 그 이하면 부정 감성으로 판단. 임계값 조정해 예측성능 조절하기도"
      ]
    },
    {
      "cell_type": "code",
      "metadata": {
        "id": "WwVoacM8beI8",
        "outputId": "7d657562-ff53-4324-a78f-470f215d9fe2"
      },
      "source": [
        "import nltk\n",
        "nltk.download('all')"
      ],
      "execution_count": null,
      "outputs": [
        {
          "output_type": "stream",
          "name": "stderr",
          "text": [
            "[nltk_data] Downloading collection 'all'\n",
            "[nltk_data]    | \n",
            "[nltk_data]    | Downloading package abc to\n",
            "[nltk_data]    |     C:\\Users\\MINA\\AppData\\Roaming\\nltk_data...\n",
            "[nltk_data]    |   Unzipping corpora\\abc.zip.\n",
            "[nltk_data]    | Downloading package alpino to\n",
            "[nltk_data]    |     C:\\Users\\MINA\\AppData\\Roaming\\nltk_data...\n",
            "[nltk_data]    |   Unzipping corpora\\alpino.zip.\n",
            "[nltk_data]    | Downloading package biocreative_ppi to\n",
            "[nltk_data]    |     C:\\Users\\MINA\\AppData\\Roaming\\nltk_data...\n",
            "[nltk_data]    |   Unzipping corpora\\biocreative_ppi.zip.\n",
            "[nltk_data]    | Downloading package brown to\n",
            "[nltk_data]    |     C:\\Users\\MINA\\AppData\\Roaming\\nltk_data...\n",
            "[nltk_data]    |   Unzipping corpora\\brown.zip.\n",
            "[nltk_data]    | Downloading package brown_tei to\n",
            "[nltk_data]    |     C:\\Users\\MINA\\AppData\\Roaming\\nltk_data...\n",
            "[nltk_data]    |   Unzipping corpora\\brown_tei.zip.\n",
            "[nltk_data]    | Downloading package cess_cat to\n",
            "[nltk_data]    |     C:\\Users\\MINA\\AppData\\Roaming\\nltk_data...\n",
            "[nltk_data]    |   Unzipping corpora\\cess_cat.zip.\n",
            "[nltk_data]    | Downloading package cess_esp to\n",
            "[nltk_data]    |     C:\\Users\\MINA\\AppData\\Roaming\\nltk_data...\n",
            "[nltk_data]    |   Unzipping corpora\\cess_esp.zip.\n",
            "[nltk_data]    | Downloading package chat80 to\n",
            "[nltk_data]    |     C:\\Users\\MINA\\AppData\\Roaming\\nltk_data...\n",
            "[nltk_data]    |   Unzipping corpora\\chat80.zip.\n",
            "[nltk_data]    | Downloading package city_database to\n",
            "[nltk_data]    |     C:\\Users\\MINA\\AppData\\Roaming\\nltk_data...\n",
            "[nltk_data]    |   Unzipping corpora\\city_database.zip.\n",
            "[nltk_data]    | Downloading package cmudict to\n",
            "[nltk_data]    |     C:\\Users\\MINA\\AppData\\Roaming\\nltk_data...\n",
            "[nltk_data]    |   Unzipping corpora\\cmudict.zip.\n",
            "[nltk_data]    | Downloading package comparative_sentences to\n",
            "[nltk_data]    |     C:\\Users\\MINA\\AppData\\Roaming\\nltk_data...\n",
            "[nltk_data]    |   Unzipping corpora\\comparative_sentences.zip.\n",
            "[nltk_data]    | Downloading package comtrans to\n",
            "[nltk_data]    |     C:\\Users\\MINA\\AppData\\Roaming\\nltk_data...\n",
            "[nltk_data]    | Downloading package conll2000 to\n",
            "[nltk_data]    |     C:\\Users\\MINA\\AppData\\Roaming\\nltk_data...\n",
            "[nltk_data]    |   Unzipping corpora\\conll2000.zip.\n",
            "[nltk_data]    | Downloading package conll2002 to\n",
            "[nltk_data]    |     C:\\Users\\MINA\\AppData\\Roaming\\nltk_data...\n",
            "[nltk_data]    |   Unzipping corpora\\conll2002.zip.\n",
            "[nltk_data]    | Downloading package conll2007 to\n",
            "[nltk_data]    |     C:\\Users\\MINA\\AppData\\Roaming\\nltk_data...\n",
            "[nltk_data]    | Downloading package crubadan to\n",
            "[nltk_data]    |     C:\\Users\\MINA\\AppData\\Roaming\\nltk_data...\n",
            "[nltk_data]    |   Unzipping corpora\\crubadan.zip.\n",
            "[nltk_data]    | Downloading package dependency_treebank to\n",
            "[nltk_data]    |     C:\\Users\\MINA\\AppData\\Roaming\\nltk_data...\n",
            "[nltk_data]    |   Unzipping corpora\\dependency_treebank.zip.\n",
            "[nltk_data]    | Downloading package dolch to\n",
            "[nltk_data]    |     C:\\Users\\MINA\\AppData\\Roaming\\nltk_data...\n",
            "[nltk_data]    |   Unzipping corpora\\dolch.zip.\n",
            "[nltk_data]    | Downloading package europarl_raw to\n",
            "[nltk_data]    |     C:\\Users\\MINA\\AppData\\Roaming\\nltk_data...\n",
            "[nltk_data]    |   Unzipping corpora\\europarl_raw.zip.\n",
            "[nltk_data]    | Downloading package floresta to\n",
            "[nltk_data]    |     C:\\Users\\MINA\\AppData\\Roaming\\nltk_data...\n",
            "[nltk_data]    |   Unzipping corpora\\floresta.zip.\n",
            "[nltk_data]    | Downloading package framenet_v15 to\n",
            "[nltk_data]    |     C:\\Users\\MINA\\AppData\\Roaming\\nltk_data...\n",
            "[nltk_data]    |   Unzipping corpora\\framenet_v15.zip.\n",
            "[nltk_data]    | Downloading package framenet_v17 to\n",
            "[nltk_data]    |     C:\\Users\\MINA\\AppData\\Roaming\\nltk_data...\n",
            "[nltk_data]    |   Unzipping corpora\\framenet_v17.zip.\n",
            "[nltk_data]    | Downloading package gazetteers to\n",
            "[nltk_data]    |     C:\\Users\\MINA\\AppData\\Roaming\\nltk_data...\n",
            "[nltk_data]    |   Unzipping corpora\\gazetteers.zip.\n",
            "[nltk_data]    | Downloading package genesis to\n",
            "[nltk_data]    |     C:\\Users\\MINA\\AppData\\Roaming\\nltk_data...\n",
            "[nltk_data]    |   Unzipping corpora\\genesis.zip.\n",
            "[nltk_data]    | Downloading package gutenberg to\n",
            "[nltk_data]    |     C:\\Users\\MINA\\AppData\\Roaming\\nltk_data...\n",
            "[nltk_data]    |   Unzipping corpora\\gutenberg.zip.\n",
            "[nltk_data]    | Downloading package ieer to\n",
            "[nltk_data]    |     C:\\Users\\MINA\\AppData\\Roaming\\nltk_data...\n",
            "[nltk_data]    |   Unzipping corpora\\ieer.zip.\n",
            "[nltk_data]    | Downloading package inaugural to\n",
            "[nltk_data]    |     C:\\Users\\MINA\\AppData\\Roaming\\nltk_data...\n",
            "[nltk_data]    |   Unzipping corpora\\inaugural.zip.\n",
            "[nltk_data]    | Downloading package indian to\n",
            "[nltk_data]    |     C:\\Users\\MINA\\AppData\\Roaming\\nltk_data...\n",
            "[nltk_data]    |   Unzipping corpora\\indian.zip.\n",
            "[nltk_data]    | Downloading package jeita to\n",
            "[nltk_data]    |     C:\\Users\\MINA\\AppData\\Roaming\\nltk_data...\n",
            "[nltk_data]    | Downloading package kimmo to\n",
            "[nltk_data]    |     C:\\Users\\MINA\\AppData\\Roaming\\nltk_data...\n",
            "[nltk_data]    |   Unzipping corpora\\kimmo.zip.\n",
            "[nltk_data]    | Downloading package knbc to\n",
            "[nltk_data]    |     C:\\Users\\MINA\\AppData\\Roaming\\nltk_data...\n",
            "[nltk_data]    | Downloading package lin_thesaurus to\n",
            "[nltk_data]    |     C:\\Users\\MINA\\AppData\\Roaming\\nltk_data...\n",
            "[nltk_data]    |   Unzipping corpora\\lin_thesaurus.zip.\n",
            "[nltk_data]    | Downloading package mac_morpho to\n",
            "[nltk_data]    |     C:\\Users\\MINA\\AppData\\Roaming\\nltk_data...\n",
            "[nltk_data]    |   Unzipping corpora\\mac_morpho.zip.\n",
            "[nltk_data]    | Downloading package machado to\n",
            "[nltk_data]    |     C:\\Users\\MINA\\AppData\\Roaming\\nltk_data...\n",
            "[nltk_data]    | Downloading package masc_tagged to\n",
            "[nltk_data]    |     C:\\Users\\MINA\\AppData\\Roaming\\nltk_data...\n",
            "[nltk_data]    | Downloading package moses_sample to\n",
            "[nltk_data]    |     C:\\Users\\MINA\\AppData\\Roaming\\nltk_data...\n",
            "[nltk_data]    |   Unzipping models\\moses_sample.zip.\n",
            "[nltk_data]    | Downloading package movie_reviews to\n",
            "[nltk_data]    |     C:\\Users\\MINA\\AppData\\Roaming\\nltk_data...\n",
            "[nltk_data]    |   Unzipping corpora\\movie_reviews.zip.\n",
            "[nltk_data]    | Downloading package names to\n",
            "[nltk_data]    |     C:\\Users\\MINA\\AppData\\Roaming\\nltk_data...\n",
            "[nltk_data]    |   Unzipping corpora\\names.zip.\n",
            "[nltk_data]    | Downloading package nombank.1.0 to\n",
            "[nltk_data]    |     C:\\Users\\MINA\\AppData\\Roaming\\nltk_data...\n",
            "[nltk_data]    | Downloading package nps_chat to\n",
            "[nltk_data]    |     C:\\Users\\MINA\\AppData\\Roaming\\nltk_data...\n",
            "[nltk_data]    |   Unzipping corpora\\nps_chat.zip.\n",
            "[nltk_data]    | Downloading package omw to\n",
            "[nltk_data]    |     C:\\Users\\MINA\\AppData\\Roaming\\nltk_data...\n",
            "[nltk_data]    |   Unzipping corpora\\omw.zip.\n",
            "[nltk_data]    | Downloading package opinion_lexicon to\n",
            "[nltk_data]    |     C:\\Users\\MINA\\AppData\\Roaming\\nltk_data...\n",
            "[nltk_data]    |   Unzipping corpora\\opinion_lexicon.zip.\n",
            "[nltk_data]    | Downloading package paradigms to\n",
            "[nltk_data]    |     C:\\Users\\MINA\\AppData\\Roaming\\nltk_data...\n",
            "[nltk_data]    |   Unzipping corpora\\paradigms.zip.\n",
            "[nltk_data]    | Downloading package pil to\n",
            "[nltk_data]    |     C:\\Users\\MINA\\AppData\\Roaming\\nltk_data...\n",
            "[nltk_data]    |   Unzipping corpora\\pil.zip.\n",
            "[nltk_data]    | Downloading package pl196x to\n",
            "[nltk_data]    |     C:\\Users\\MINA\\AppData\\Roaming\\nltk_data...\n",
            "[nltk_data]    |   Unzipping corpora\\pl196x.zip.\n",
            "[nltk_data]    | Downloading package ppattach to\n",
            "[nltk_data]    |     C:\\Users\\MINA\\AppData\\Roaming\\nltk_data...\n",
            "[nltk_data]    |   Unzipping corpora\\ppattach.zip.\n",
            "[nltk_data]    | Downloading package problem_reports to\n",
            "[nltk_data]    |     C:\\Users\\MINA\\AppData\\Roaming\\nltk_data...\n",
            "[nltk_data]    |   Unzipping corpora\\problem_reports.zip.\n",
            "[nltk_data]    | Downloading package propbank to\n",
            "[nltk_data]    |     C:\\Users\\MINA\\AppData\\Roaming\\nltk_data...\n",
            "[nltk_data]    | Downloading package ptb to\n",
            "[nltk_data]    |     C:\\Users\\MINA\\AppData\\Roaming\\nltk_data...\n",
            "[nltk_data]    |   Unzipping corpora\\ptb.zip.\n",
            "[nltk_data]    | Downloading package product_reviews_1 to\n",
            "[nltk_data]    |     C:\\Users\\MINA\\AppData\\Roaming\\nltk_data...\n",
            "[nltk_data]    |   Unzipping corpora\\product_reviews_1.zip.\n",
            "[nltk_data]    | Downloading package product_reviews_2 to\n",
            "[nltk_data]    |     C:\\Users\\MINA\\AppData\\Roaming\\nltk_data...\n",
            "[nltk_data]    |   Unzipping corpora\\product_reviews_2.zip.\n",
            "[nltk_data]    | Downloading package pros_cons to\n",
            "[nltk_data]    |     C:\\Users\\MINA\\AppData\\Roaming\\nltk_data...\n",
            "[nltk_data]    |   Unzipping corpora\\pros_cons.zip.\n",
            "[nltk_data]    | Downloading package qc to\n",
            "[nltk_data]    |     C:\\Users\\MINA\\AppData\\Roaming\\nltk_data...\n",
            "[nltk_data]    |   Unzipping corpora\\qc.zip.\n",
            "[nltk_data]    | Downloading package reuters to\n",
            "[nltk_data]    |     C:\\Users\\MINA\\AppData\\Roaming\\nltk_data...\n",
            "[nltk_data]    | Downloading package rte to\n",
            "[nltk_data]    |     C:\\Users\\MINA\\AppData\\Roaming\\nltk_data...\n",
            "[nltk_data]    |   Unzipping corpora\\rte.zip.\n",
            "[nltk_data]    | Downloading package semcor to\n",
            "[nltk_data]    |     C:\\Users\\MINA\\AppData\\Roaming\\nltk_data...\n",
            "[nltk_data]    | Downloading package senseval to\n",
            "[nltk_data]    |     C:\\Users\\MINA\\AppData\\Roaming\\nltk_data...\n",
            "[nltk_data]    |   Unzipping corpora\\senseval.zip.\n",
            "[nltk_data]    | Downloading package sentiwordnet to\n",
            "[nltk_data]    |     C:\\Users\\MINA\\AppData\\Roaming\\nltk_data...\n",
            "[nltk_data]    |   Unzipping corpora\\sentiwordnet.zip.\n",
            "[nltk_data]    | Downloading package sentence_polarity to\n",
            "[nltk_data]    |     C:\\Users\\MINA\\AppData\\Roaming\\nltk_data...\n",
            "[nltk_data]    |   Unzipping corpora\\sentence_polarity.zip.\n",
            "[nltk_data]    | Downloading package shakespeare to\n",
            "[nltk_data]    |     C:\\Users\\MINA\\AppData\\Roaming\\nltk_data...\n",
            "[nltk_data]    |   Unzipping corpora\\shakespeare.zip.\n",
            "[nltk_data]    | Downloading package sinica_treebank to\n",
            "[nltk_data]    |     C:\\Users\\MINA\\AppData\\Roaming\\nltk_data...\n",
            "[nltk_data]    |   Unzipping corpora\\sinica_treebank.zip.\n",
            "[nltk_data]    | Downloading package smultron to\n",
            "[nltk_data]    |     C:\\Users\\MINA\\AppData\\Roaming\\nltk_data...\n",
            "[nltk_data]    |   Unzipping corpora\\smultron.zip.\n",
            "[nltk_data]    | Downloading package state_union to\n",
            "[nltk_data]    |     C:\\Users\\MINA\\AppData\\Roaming\\nltk_data...\n",
            "[nltk_data]    |   Unzipping corpora\\state_union.zip.\n",
            "[nltk_data]    | Downloading package stopwords to\n",
            "[nltk_data]    |     C:\\Users\\MINA\\AppData\\Roaming\\nltk_data...\n",
            "[nltk_data]    |   Package stopwords is already up-to-date!\n",
            "[nltk_data]    | Downloading package subjectivity to\n",
            "[nltk_data]    |     C:\\Users\\MINA\\AppData\\Roaming\\nltk_data...\n",
            "[nltk_data]    |   Unzipping corpora\\subjectivity.zip.\n",
            "[nltk_data]    | Downloading package swadesh to\n",
            "[nltk_data]    |     C:\\Users\\MINA\\AppData\\Roaming\\nltk_data...\n",
            "[nltk_data]    |   Unzipping corpora\\swadesh.zip.\n",
            "[nltk_data]    | Downloading package switchboard to\n",
            "[nltk_data]    |     C:\\Users\\MINA\\AppData\\Roaming\\nltk_data...\n",
            "[nltk_data]    |   Unzipping corpora\\switchboard.zip.\n",
            "[nltk_data]    | Downloading package timit to\n",
            "[nltk_data]    |     C:\\Users\\MINA\\AppData\\Roaming\\nltk_data...\n",
            "[nltk_data]    |   Unzipping corpora\\timit.zip.\n",
            "[nltk_data]    | Downloading package toolbox to\n",
            "[nltk_data]    |     C:\\Users\\MINA\\AppData\\Roaming\\nltk_data...\n",
            "[nltk_data]    |   Unzipping corpora\\toolbox.zip.\n",
            "[nltk_data]    | Downloading package treebank to\n",
            "[nltk_data]    |     C:\\Users\\MINA\\AppData\\Roaming\\nltk_data...\n",
            "[nltk_data]    |   Unzipping corpora\\treebank.zip.\n",
            "[nltk_data]    | Downloading package twitter_samples to\n",
            "[nltk_data]    |     C:\\Users\\MINA\\AppData\\Roaming\\nltk_data...\n",
            "[nltk_data]    |   Unzipping corpora\\twitter_samples.zip.\n",
            "[nltk_data]    | Downloading package udhr to\n",
            "[nltk_data]    |     C:\\Users\\MINA\\AppData\\Roaming\\nltk_data...\n",
            "[nltk_data]    |   Unzipping corpora\\udhr.zip.\n",
            "[nltk_data]    | Downloading package udhr2 to\n",
            "[nltk_data]    |     C:\\Users\\MINA\\AppData\\Roaming\\nltk_data...\n",
            "[nltk_data]    |   Unzipping corpora\\udhr2.zip.\n",
            "[nltk_data]    | Downloading package unicode_samples to\n",
            "[nltk_data]    |     C:\\Users\\MINA\\AppData\\Roaming\\nltk_data...\n",
            "[nltk_data]    |   Unzipping corpora\\unicode_samples.zip.\n",
            "[nltk_data]    | Downloading package universal_treebanks_v20 to\n",
            "[nltk_data]    |     C:\\Users\\MINA\\AppData\\Roaming\\nltk_data...\n",
            "[nltk_data]    | Downloading package verbnet to\n",
            "[nltk_data]    |     C:\\Users\\MINA\\AppData\\Roaming\\nltk_data...\n",
            "[nltk_data]    |   Unzipping corpora\\verbnet.zip.\n",
            "[nltk_data]    | Downloading package verbnet3 to\n",
            "[nltk_data]    |     C:\\Users\\MINA\\AppData\\Roaming\\nltk_data...\n",
            "[nltk_data]    |   Unzipping corpora\\verbnet3.zip.\n",
            "[nltk_data]    | Downloading package webtext to\n",
            "[nltk_data]    |     C:\\Users\\MINA\\AppData\\Roaming\\nltk_data...\n",
            "[nltk_data]    |   Unzipping corpora\\webtext.zip.\n",
            "[nltk_data]    | Downloading package wordnet to\n",
            "[nltk_data]    |     C:\\Users\\MINA\\AppData\\Roaming\\nltk_data...\n",
            "[nltk_data]    |   Package wordnet is already up-to-date!\n",
            "[nltk_data]    | Downloading package wordnet_ic to\n",
            "[nltk_data]    |     C:\\Users\\MINA\\AppData\\Roaming\\nltk_data...\n",
            "[nltk_data]    |   Unzipping corpora\\wordnet_ic.zip.\n",
            "[nltk_data]    | Downloading package words to\n",
            "[nltk_data]    |     C:\\Users\\MINA\\AppData\\Roaming\\nltk_data...\n",
            "[nltk_data]    |   Unzipping corpora\\words.zip.\n",
            "[nltk_data]    | Downloading package ycoe to\n",
            "[nltk_data]    |     C:\\Users\\MINA\\AppData\\Roaming\\nltk_data...\n",
            "[nltk_data]    |   Unzipping corpora\\ycoe.zip.\n",
            "[nltk_data]    | Downloading package rslp to\n",
            "[nltk_data]    |     C:\\Users\\MINA\\AppData\\Roaming\\nltk_data...\n",
            "[nltk_data]    |   Unzipping stemmers\\rslp.zip.\n",
            "[nltk_data]    | Downloading package maxent_treebank_pos_tagger to\n",
            "[nltk_data]    |     C:\\Users\\MINA\\AppData\\Roaming\\nltk_data...\n",
            "[nltk_data]    |   Unzipping taggers\\maxent_treebank_pos_tagger.zip.\n",
            "[nltk_data]    | Downloading package universal_tagset to\n",
            "[nltk_data]    |     C:\\Users\\MINA\\AppData\\Roaming\\nltk_data...\n",
            "[nltk_data]    |   Unzipping taggers\\universal_tagset.zip.\n",
            "[nltk_data]    | Downloading package maxent_ne_chunker to\n",
            "[nltk_data]    |     C:\\Users\\MINA\\AppData\\Roaming\\nltk_data...\n",
            "[nltk_data]    |   Unzipping chunkers\\maxent_ne_chunker.zip.\n",
            "[nltk_data]    | Downloading package punkt to\n",
            "[nltk_data]    |     C:\\Users\\MINA\\AppData\\Roaming\\nltk_data...\n",
            "[nltk_data]    |   Package punkt is already up-to-date!\n",
            "[nltk_data]    | Downloading package book_grammars to\n",
            "[nltk_data]    |     C:\\Users\\MINA\\AppData\\Roaming\\nltk_data...\n",
            "[nltk_data]    |   Unzipping grammars\\book_grammars.zip.\n",
            "[nltk_data]    | Downloading package sample_grammars to\n",
            "[nltk_data]    |     C:\\Users\\MINA\\AppData\\Roaming\\nltk_data...\n",
            "[nltk_data]    |   Unzipping grammars\\sample_grammars.zip.\n",
            "[nltk_data]    | Downloading package spanish_grammars to\n",
            "[nltk_data]    |     C:\\Users\\MINA\\AppData\\Roaming\\nltk_data...\n",
            "[nltk_data]    |   Unzipping grammars\\spanish_grammars.zip.\n",
            "[nltk_data]    | Downloading package basque_grammars to\n",
            "[nltk_data]    |     C:\\Users\\MINA\\AppData\\Roaming\\nltk_data...\n",
            "[nltk_data]    |   Unzipping grammars\\basque_grammars.zip.\n",
            "[nltk_data]    | Downloading package large_grammars to\n",
            "[nltk_data]    |     C:\\Users\\MINA\\AppData\\Roaming\\nltk_data...\n",
            "[nltk_data]    |   Unzipping grammars\\large_grammars.zip.\n",
            "[nltk_data]    | Downloading package tagsets to\n",
            "[nltk_data]    |     C:\\Users\\MINA\\AppData\\Roaming\\nltk_data...\n",
            "[nltk_data]    |   Unzipping help\\tagsets.zip.\n",
            "[nltk_data]    | Downloading package snowball_data to\n",
            "[nltk_data]    |     C:\\Users\\MINA\\AppData\\Roaming\\nltk_data...\n",
            "[nltk_data]    | Downloading package bllip_wsj_no_aux to\n",
            "[nltk_data]    |     C:\\Users\\MINA\\AppData\\Roaming\\nltk_data...\n",
            "[nltk_data]    |   Unzipping models\\bllip_wsj_no_aux.zip.\n",
            "[nltk_data]    | Downloading package word2vec_sample to\n",
            "[nltk_data]    |     C:\\Users\\MINA\\AppData\\Roaming\\nltk_data...\n",
            "[nltk_data]    |   Unzipping models\\word2vec_sample.zip.\n",
            "[nltk_data]    | Downloading package panlex_swadesh to\n",
            "[nltk_data]    |     C:\\Users\\MINA\\AppData\\Roaming\\nltk_data...\n",
            "[nltk_data]    | Downloading package mte_teip5 to\n",
            "[nltk_data]    |     C:\\Users\\MINA\\AppData\\Roaming\\nltk_data...\n",
            "[nltk_data]    |   Unzipping corpora\\mte_teip5.zip.\n",
            "[nltk_data]    | Downloading package averaged_perceptron_tagger to\n",
            "[nltk_data]    |     C:\\Users\\MINA\\AppData\\Roaming\\nltk_data...\n",
            "[nltk_data]    |   Unzipping taggers\\averaged_perceptron_tagger.zip.\n",
            "[nltk_data]    | Downloading package averaged_perceptron_tagger_ru to\n",
            "[nltk_data]    |     C:\\Users\\MINA\\AppData\\Roaming\\nltk_data...\n",
            "[nltk_data]    |   Unzipping\n",
            "[nltk_data]    |       taggers\\averaged_perceptron_tagger_ru.zip.\n",
            "[nltk_data]    | Downloading package perluniprops to\n",
            "[nltk_data]    |     C:\\Users\\MINA\\AppData\\Roaming\\nltk_data...\n",
            "[nltk_data]    |   Unzipping misc\\perluniprops.zip.\n",
            "[nltk_data]    | Downloading package nonbreaking_prefixes to\n",
            "[nltk_data]    |     C:\\Users\\MINA\\AppData\\Roaming\\nltk_data...\n",
            "[nltk_data]    |   Unzipping corpora\\nonbreaking_prefixes.zip.\n",
            "[nltk_data]    | Downloading package vader_lexicon to\n",
            "[nltk_data]    |     C:\\Users\\MINA\\AppData\\Roaming\\nltk_data...\n",
            "[nltk_data]    | Downloading package porter_test to\n",
            "[nltk_data]    |     C:\\Users\\MINA\\AppData\\Roaming\\nltk_data...\n",
            "[nltk_data]    |   Unzipping stemmers\\porter_test.zip.\n",
            "[nltk_data]    | Downloading package wmt15_eval to\n",
            "[nltk_data]    |     C:\\Users\\MINA\\AppData\\Roaming\\nltk_data...\n",
            "[nltk_data]    |   Unzipping models\\wmt15_eval.zip.\n",
            "[nltk_data]    | Downloading package mwa_ppdb to\n",
            "[nltk_data]    |     C:\\Users\\MINA\\AppData\\Roaming\\nltk_data...\n",
            "[nltk_data]    |   Unzipping misc\\mwa_ppdb.zip.\n",
            "[nltk_data]    | \n",
            "[nltk_data]  Done downloading collection all\n"
          ]
        },
        {
          "output_type": "execute_result",
          "data": {
            "text/plain": [
              "True"
            ]
          },
          "metadata": {},
          "execution_count": 14
        }
      ]
    },
    {
      "cell_type": "code",
      "metadata": {
        "id": "t-PxsgoNbeI8",
        "outputId": "5007a44c-ddc1-4f6e-f54f-73aa19778dfb"
      },
      "source": [
        "from nltk.sentiment.vader import SentimentIntensityAnalyzer\n",
        "\n",
        "senti_analyzer = SentimentIntensityAnalyzer()\n",
        "senti_scores = senti_analyzer.polarity_scores(review_df['review'][0])\n",
        "print(senti_scores)  # dictionary 형태"
      ],
      "execution_count": null,
      "outputs": [
        {
          "output_type": "stream",
          "name": "stdout",
          "text": [
            "{'neg': 0.13, 'neu': 0.743, 'pos': 0.127, 'compound': -0.7943}\n"
          ]
        }
      ]
    },
    {
      "cell_type": "code",
      "metadata": {
        "id": "eygm96z4beI9",
        "outputId": "7abc87a7-3804-4e9f-839b-efa7d1e9d418"
      },
      "source": [
        "# SentimentIntensityAnalyzer().polarity_score의 compound로\n",
        "# 긍정,부정 평가하는 사용자함수 만들기\n",
        "def vader_polarity(review, threshold=0.1):\n",
        "    analyzer = SentimentIntensityAnalyzer()\n",
        "    scores = analyzer.polarity_scores(review)\n",
        "    agg_score = scores['compound']\n",
        "    final_sentiment = 1 if agg_score >= threshold else 0\n",
        "    return final_sentiment\n",
        "\n",
        "# vader 평가\n",
        "from sklearn.metrics import confusion_matrix, accuracy_score, precision_score, recall_score\n",
        "import numpy as np\n",
        "\n",
        "review_df['vader_preds'] = review_df['review'].apply(lambda x:vader_polarity(x,0.1))\n",
        "y_target = review_df['sentiment'].values\n",
        "vader_preds = review_df['vader_preds'].values\n",
        "\n",
        "print(confusion_matrix(y_target, vader_preds))\n",
        "print(f'accuracy score : {np.round(accuracy_score(y_target, vader_preds),4)}')\n",
        "print(f'precision score : {np.round(precision_score(y_target, vader_preds),4)}')\n",
        "print(f'recall score : {np.round(recall_score(y_target, vader_preds),4)}')"
      ],
      "execution_count": null,
      "outputs": [
        {
          "output_type": "stream",
          "name": "stdout",
          "text": [
            "[[ 6747  5753]\n",
            " [ 1858 10642]]\n",
            "accuracy score : 0.6956\n",
            "precision score : 0.6491\n",
            "recall score : 0.8514\n"
          ]
        }
      ]
    },
    {
      "cell_type": "markdown",
      "metadata": {
        "id": "uhwiIi9EbeI9"
      },
      "source": [
        "## 6. Topic Modeling: 20 뉴스그룹\n",
        "- 문서 집합에 숨어 있는 주제를 찾아내는 것. 머신러닝 기반의 토픽 모델은 숨겨진 주제를 효과적으로 표현할 수 있는 중심 단어를 함축적으로 추출\n",
        "- LSA(Latent Semantic Analysis), LDA(Latent Dirichlet Allocation) 기법을 사용"
      ]
    },
    {
      "cell_type": "markdown",
      "metadata": {
        "id": "cJGA5Rx7beI9"
      },
      "source": [
        "## 7. 문서 군집화 소개와 실습: Opinion Review datasets\n",
        "- Document Clustering(문서 군집화): 비슷한 텍스트 구성의 문서를 군집화 하는것. 동일한 군집에 속하는 문서를 같은 카테고리로 분류할 수 있으므로 텍스트 분류 기반의 문서 분류와 유사함. 텍스트 분류 기반의 문서 분류는 지도학습, 문서 군집화는 비지도학습"
      ]
    },
    {
      "cell_type": "code",
      "metadata": {
        "id": "RGSYSg25beI9",
        "outputId": "93647482-0ade-4755-dc3f-af82f2937ebf"
      },
      "source": [
        "import pandas as pd\n",
        "import glob, os\n",
        "\n",
        "path = r'C:/workspace/cakd3/수업/dataset/OpinosisDataset1.0/topics'\n",
        "all_files = glob.glob(os.path.join(path, \"*.data\"))\n",
        "filename_list = []\n",
        "opinion_text = []\n",
        "\n",
        "for file_ in all_files:\n",
        "    df = pd.read_table(file_, index_col=None, header=0, encoding='latin1')\n",
        "    filename_ = file_.split('\\\\')[-1]\n",
        "    filename = filename_.split('.')[0]\n",
        "    filename_list.append(filename)\n",
        "    opinion_text.append(df.to_string())\n",
        "document_df = pd.DataFrame({'filename':filename_list, 'opinion_text': opinion_text})\n",
        "document_df.head()"
      ],
      "execution_count": null,
      "outputs": [
        {
          "output_type": "execute_result",
          "data": {
            "text/html": [
              "<div>\n",
              "<style scoped>\n",
              "    .dataframe tbody tr th:only-of-type {\n",
              "        vertical-align: middle;\n",
              "    }\n",
              "\n",
              "    .dataframe tbody tr th {\n",
              "        vertical-align: top;\n",
              "    }\n",
              "\n",
              "    .dataframe thead th {\n",
              "        text-align: right;\n",
              "    }\n",
              "</style>\n",
              "<table border=\"1\" class=\"dataframe\">\n",
              "  <thead>\n",
              "    <tr style=\"text-align: right;\">\n",
              "      <th></th>\n",
              "      <th>filename</th>\n",
              "      <th>opinion_text</th>\n",
              "    </tr>\n",
              "  </thead>\n",
              "  <tbody>\n",
              "    <tr>\n",
              "      <th>0</th>\n",
              "      <td>accuracy_garmin_nuvi_255W_gps</td>\n",
              "      <td>, and is very, very accurate .\\n0                                                                                                                                                                           but for the most part, we find that the Garmin software provides accurate directions, whereever we intend to go .\\n1                                                                                                              This function is not accurate if you don't leave it in battery mode say, when you stop at the Cracker Barrell for lunch and to play one of those trangle games with the tees .\\n2                                                                                                                                      ...</td>\n",
              "    </tr>\n",
              "    <tr>\n",
              "      <th>1</th>\n",
              "      <td>bathroom_bestwestern_hotel_sfo</td>\n",
              "      <td>The room was not overly big, but clean and very comfortable beds, a great shower and very clean bathrooms .\\n0                                                                                                                                                                                                                          The second room was smaller, with a very inconvenient bathroom layout, but at least it was quieter and we were able to sleep .\\n1                                                                                                                                                                                                                                                                                                            L...</td>\n",
              "    </tr>\n",
              "    <tr>\n",
              "      <th>2</th>\n",
              "      <td>battery-life_amazon_kindle</td>\n",
              "      <td>After I plugged it in to my USB hub on my computer to charge the battery the charging cord design is very clever !\\n0                                                                                                                                     After you have paged tru a 500, page book one, page, at, a, time to get from Chapter 2 to Chapter 15, see how excited you are about a low battery and all the time it took to get there !\\n1                                                                                                                                                                                                                                                 NO USER REPLACEABLE BATTERY, , Unless you buy the extended warranty for $65 .\\n2                                ...</td>\n",
              "    </tr>\n",
              "    <tr>\n",
              "      <th>3</th>\n",
              "      <td>battery-life_ipod_nano_8gb</td>\n",
              "      <td>short battery life  I moved up from an 8gb .\\n0                                                                                                                                                                                                                                                                                            I love this ipod except for the battery life .\\n1                                                                                                                                                                                                                                                                                                           long battery  scratch resistan...</td>\n",
              "    </tr>\n",
              "    <tr>\n",
              "      <th>4</th>\n",
              "      <td>battery-life_netbook_1005ha</td>\n",
              "      <td>6GHz 533FSB cpu, glossy display, 3, Cell 23Wh Li, ion Battery  , and a 1 .\\n0                                                                                                                                                                                                                                                                                              Not to mention that as of now Asus will not sell you a spare 3 or 6, cell Li, Ion battery .\\n1                                                                                                                                                                                                                                           ...</td>\n",
              "    </tr>\n",
              "  </tbody>\n",
              "</table>\n",
              "</div>"
            ],
            "text/plain": [
              "                         filename  \\\n",
              "0   accuracy_garmin_nuvi_255W_gps   \n",
              "1  bathroom_bestwestern_hotel_sfo   \n",
              "2      battery-life_amazon_kindle   \n",
              "3      battery-life_ipod_nano_8gb   \n",
              "4     battery-life_netbook_1005ha   \n",
              "\n",
              "                                                                                                                                                                                                                                                                                                                                                                                                                                                                                                                                                                                                                                                                                                                                                                                                                                                                                                                                                                                                                              opinion_text  \n",
              "0                                                                                                                                                                                                                                                                 , and is very, very accurate .\\n0                                                                                                                                                                           but for the most part, we find that the Garmin software provides accurate directions, whereever we intend to go .\\n1                                                                                                              This function is not accurate if you don't leave it in battery mode say, when you stop at the Cracker Barrell for lunch and to play one of those trangle games with the tees .\\n2                                                                                                                                      ...  \n",
              "1                                                                                                                                                                                                                                                The room was not overly big, but clean and very comfortable beds, a great shower and very clean bathrooms .\\n0                                                                                                                                                                                                                          The second room was smaller, with a very inconvenient bathroom layout, but at least it was quieter and we were able to sleep .\\n1                                                                                                                                                                                                                                                                                                            L...  \n",
              "2                                                                                                                                                                                                               After I plugged it in to my USB hub on my computer to charge the battery the charging cord design is very clever !\\n0                                                                                                                                     After you have paged tru a 500, page book one, page, at, a, time to get from Chapter 2 to Chapter 15, see how excited you are about a low battery and all the time it took to get there !\\n1                                                                                                                                                                                                                                                 NO USER REPLACEABLE BATTERY, , Unless you buy the extended warranty for $65 .\\n2                                ...  \n",
              "3                                                                                                                                                                                                                                                                                                 short battery life  I moved up from an 8gb .\\n0                                                                                                                                                                                                                                                                                            I love this ipod except for the battery life .\\n1                                                                                                                                                                                                                                                                                                           long battery  scratch resistan...  \n",
              "4                                                                                                                                                                                                                                                                                                                  6GHz 533FSB cpu, glossy display, 3, Cell 23Wh Li, ion Battery  , and a 1 .\\n0                                                                                                                                                                                                                                                                                              Not to mention that as of now Asus will not sell you a spare 3 or 6, cell Li, Ion battery .\\n1                                                                                                                                                                                                                                           ...  "
            ]
          },
          "metadata": {},
          "execution_count": 12
        }
      ]
    },
    {
      "cell_type": "code",
      "metadata": {
        "id": "gTR2qUMmbeI9"
      },
      "source": [
        "import nltk\n",
        "from nltk.stem import WordNetLemmatizer\n",
        "import string\n",
        "\n",
        "remove_punct_dict = dict((ord(punct),None) for punct in string.punctuation)\n",
        "lemmar = WordNetLemmatizer()\n",
        "\n",
        "def LemTokens(tokens):\n",
        "    return [lemmar.lemmatize(token) for token in tokens]\n",
        "def LemNormalize(text):\n",
        "    return LemTokens(nltk.word_tokenize(text.lower().translate(remove_punct_dict)))"
      ],
      "execution_count": null,
      "outputs": []
    },
    {
      "cell_type": "code",
      "metadata": {
        "id": "wdC4SBbrbeI9",
        "outputId": "5382b1e3-cf54-40ee-9c24-57ed28f80a78"
      },
      "source": [
        "# review를 TF-IDF로 피쳐 벡터화\n",
        "from sklearn.feature_extraction.text import TfidfVectorizer\n",
        "\n",
        "tfidf_vect = TfidfVectorizer(tokenizer=LemNormalize, stop_words='english', ngram_range=(1,2), min_df=0.05, max_df=0.85)\n",
        "feature_vect = tfidf_vect.fit_transform(document_df['opinion_text'])"
      ],
      "execution_count": null,
      "outputs": [
        {
          "output_type": "stream",
          "name": "stderr",
          "text": [
            "C:\\Anaconda3\\envs\\cakd3\\lib\\site-packages\\sklearn\\feature_extraction\\text.py:388: UserWarning: Your stop_words may be inconsistent with your preprocessing. Tokenizing the stop words generated tokens ['ha', 'le', 'u', 'wa'] not in stop_words.\n",
            "  warnings.warn('Your stop_words may be inconsistent with '\n"
          ]
        }
      ]
    },
    {
      "cell_type": "code",
      "metadata": {
        "id": "VBLm7WQ1beI-"
      },
      "source": [
        "# 변환된 행렬을 5개 집단으로 군집화\n",
        "from sklearn.cluster import KMeans\n",
        "\n",
        "km_cluster = KMeans(n_clusters=5, max_iter=10000, random_state=0)\n",
        "km_cluster.fit(feature_vect)\n",
        "cluster_label = km_cluster.labels_\n",
        "cluster_centers = km_cluster.cluster_centers_"
      ],
      "execution_count": null,
      "outputs": []
    },
    {
      "cell_type": "code",
      "metadata": {
        "id": "5k4Oz2P-beI-",
        "outputId": "7b835137-a10c-4864-c7d0-0c24ed3ec182"
      },
      "source": [
        "pd.set_option('display.max.colwidth', 1000)\n",
        "document_df['cluster_label'] = cluster_label\n",
        "document_df.head(3)"
      ],
      "execution_count": null,
      "outputs": [
        {
          "output_type": "execute_result",
          "data": {
            "text/html": [
              "<div>\n",
              "<style scoped>\n",
              "    .dataframe tbody tr th:only-of-type {\n",
              "        vertical-align: middle;\n",
              "    }\n",
              "\n",
              "    .dataframe tbody tr th {\n",
              "        vertical-align: top;\n",
              "    }\n",
              "\n",
              "    .dataframe thead th {\n",
              "        text-align: right;\n",
              "    }\n",
              "</style>\n",
              "<table border=\"1\" class=\"dataframe\">\n",
              "  <thead>\n",
              "    <tr style=\"text-align: right;\">\n",
              "      <th></th>\n",
              "      <th>filename</th>\n",
              "      <th>opinion_text</th>\n",
              "      <th>cluster_label</th>\n",
              "    </tr>\n",
              "  </thead>\n",
              "  <tbody>\n",
              "    <tr>\n",
              "      <th>0</th>\n",
              "      <td>accuracy_garmin_nuvi_255W_gps</td>\n",
              "      <td>, and is very, very accurate .\\n0                                                                                                                                                                           but for the most part, we find that the Garmin software provides accurate directions, whereever we intend to go .\\n1                                                                                                              This function is not accurate if you don't leave it in battery mode say, when you stop at the Cracker Barrell for lunch and to play one of those trangle games with the tees .\\n2                                                                                                                                      ...</td>\n",
              "      <td>2</td>\n",
              "    </tr>\n",
              "    <tr>\n",
              "      <th>1</th>\n",
              "      <td>bathroom_bestwestern_hotel_sfo</td>\n",
              "      <td>The room was not overly big, but clean and very comfortable beds, a great shower and very clean bathrooms .\\n0                                                                                                                                                                                                                          The second room was smaller, with a very inconvenient bathroom layout, but at least it was quieter and we were able to sleep .\\n1                                                                                                                                                                                                                                                                                                            L...</td>\n",
              "      <td>0</td>\n",
              "    </tr>\n",
              "    <tr>\n",
              "      <th>2</th>\n",
              "      <td>battery-life_amazon_kindle</td>\n",
              "      <td>After I plugged it in to my USB hub on my computer to charge the battery the charging cord design is very clever !\\n0                                                                                                                                     After you have paged tru a 500, page book one, page, at, a, time to get from Chapter 2 to Chapter 15, see how excited you are about a low battery and all the time it took to get there !\\n1                                                                                                                                                                                                                                                 NO USER REPLACEABLE BATTERY, , Unless you buy the extended warranty for $65 .\\n2                                ...</td>\n",
              "      <td>1</td>\n",
              "    </tr>\n",
              "  </tbody>\n",
              "</table>\n",
              "</div>"
            ],
            "text/plain": [
              "                         filename  \\\n",
              "0   accuracy_garmin_nuvi_255W_gps   \n",
              "1  bathroom_bestwestern_hotel_sfo   \n",
              "2      battery-life_amazon_kindle   \n",
              "\n",
              "                                                                                                                                                                                                                                                                                                                                                                                                                                                                                                                                                                                                                                                                                                                                                                                                                                                                                                                                                                                                                              opinion_text  \\\n",
              "0                                                                                                                                                                                                                                                                 , and is very, very accurate .\\n0                                                                                                                                                                           but for the most part, we find that the Garmin software provides accurate directions, whereever we intend to go .\\n1                                                                                                              This function is not accurate if you don't leave it in battery mode say, when you stop at the Cracker Barrell for lunch and to play one of those trangle games with the tees .\\n2                                                                                                                                      ...   \n",
              "1                                                                                                                                                                                                                                                The room was not overly big, but clean and very comfortable beds, a great shower and very clean bathrooms .\\n0                                                                                                                                                                                                                          The second room was smaller, with a very inconvenient bathroom layout, but at least it was quieter and we were able to sleep .\\n1                                                                                                                                                                                                                                                                                                            L...   \n",
              "2                                                                                                                                                                                                               After I plugged it in to my USB hub on my computer to charge the battery the charging cord design is very clever !\\n0                                                                                                                                     After you have paged tru a 500, page book one, page, at, a, time to get from Chapter 2 to Chapter 15, see how excited you are about a low battery and all the time it took to get there !\\n1                                                                                                                                                                                                                                                 NO USER REPLACEABLE BATTERY, , Unless you buy the extended warranty for $65 .\\n2                                ...   \n",
              "\n",
              "   cluster_label  \n",
              "0              2  \n",
              "1              0  \n",
              "2              1  "
            ]
          },
          "metadata": {},
          "execution_count": 16
        }
      ]
    },
    {
      "cell_type": "code",
      "metadata": {
        "id": "OosIt1UXbeI-",
        "outputId": "d4ac1324-5862-4a9d-fd98-152148a3e954"
      },
      "source": [
        "document_df[document_df['cluster_label']==0].sort_values(by='filename')\n",
        "### cluster0: 호텔에 대한 리뷰"
      ],
      "execution_count": null,
      "outputs": [
        {
          "output_type": "execute_result",
          "data": {
            "text/html": [
              "<div>\n",
              "<style scoped>\n",
              "    .dataframe tbody tr th:only-of-type {\n",
              "        vertical-align: middle;\n",
              "    }\n",
              "\n",
              "    .dataframe tbody tr th {\n",
              "        vertical-align: top;\n",
              "    }\n",
              "\n",
              "    .dataframe thead th {\n",
              "        text-align: right;\n",
              "    }\n",
              "</style>\n",
              "<table border=\"1\" class=\"dataframe\">\n",
              "  <thead>\n",
              "    <tr style=\"text-align: right;\">\n",
              "      <th></th>\n",
              "      <th>filename</th>\n",
              "      <th>opinion_text</th>\n",
              "      <th>cluster_label</th>\n",
              "    </tr>\n",
              "  </thead>\n",
              "  <tbody>\n",
              "    <tr>\n",
              "      <th>1</th>\n",
              "      <td>bathroom_bestwestern_hotel_sfo</td>\n",
              "      <td>The room was not overly big, but clean and very comfortable beds, a great shower and very clean bathrooms .\\n0                                                                                                                                                                                                                          The second room was smaller, with a very inconvenient bathroom layout, but at least it was quieter and we were able to sleep .\\n1                                                                                                                                                                                                                                                                                                            L...</td>\n",
              "      <td>0</td>\n",
              "    </tr>\n",
              "    <tr>\n",
              "      <th>32</th>\n",
              "      <td>room_holiday_inn_london</td>\n",
              "      <td>We arrived at 23,30 hours and they could not recommend a restaurant so we decided to go to Tesco, with very limited choices but when you are hingry you do not careNext day they rang the bell at 8,00 hours to clean the room, not being very nice being waken up so earlyEvery day they gave us a candy bar and two bottlets of water whic is a very nice touch .\\n0                                                                                                                                                                                                                                      ...</td>\n",
              "      <td>0</td>\n",
              "    </tr>\n",
              "    <tr>\n",
              "      <th>30</th>\n",
              "      <td>rooms_bestwestern_hotel_sfo</td>\n",
              "      <td>Great Location ,  Nice   Rooms ,  Helpless Concierge\\n0                                                                                                                                                                                                                                                                                        ...</td>\n",
              "      <td>0</td>\n",
              "    </tr>\n",
              "    <tr>\n",
              "      <th>31</th>\n",
              "      <td>rooms_swissotel_chicago</td>\n",
              "      <td>The Swissotel is one of our favorite hotels in Chicago and the corner rooms have the most fantastic views in the city .\\n0                                                                                                                                   The rooms look like they were just remodled and upgraded, there was an HD TV and a nice iHome docking station to put my iPod so I could set the alarm to wake up with my music instead of the radio .\\n1                                                                                                                                                                                                                                                                                  Great rooms staff and location but extras overpriced .\\n2  ...</td>\n",
              "      <td>0</td>\n",
              "    </tr>\n",
              "  </tbody>\n",
              "</table>\n",
              "</div>"
            ],
            "text/plain": [
              "                          filename  \\\n",
              "1   bathroom_bestwestern_hotel_sfo   \n",
              "32         room_holiday_inn_london   \n",
              "30     rooms_bestwestern_hotel_sfo   \n",
              "31         rooms_swissotel_chicago   \n",
              "\n",
              "                                                                                                                                                                                                                                                                                                                                                                                                                                                                                                                                                                                                                                                                                                                                                                                                                                                                                                                                                                                                                               opinion_text  \\\n",
              "1                                                                                                                                                                                                                                                 The room was not overly big, but clean and very comfortable beds, a great shower and very clean bathrooms .\\n0                                                                                                                                                                                                                          The second room was smaller, with a very inconvenient bathroom layout, but at least it was quieter and we were able to sleep .\\n1                                                                                                                                                                                                                                                                                                            L...   \n",
              "32                                                                                                                                                                                                                                                                                                                                                                                                                          We arrived at 23,30 hours and they could not recommend a restaurant so we decided to go to Tesco, with very limited choices but when you are hingry you do not careNext day they rang the bell at 8,00 hours to clean the room, not being very nice being waken up so earlyEvery day they gave us a candy bar and two bottlets of water whic is a very nice touch .\\n0                                                                                                                                                                                                                                      ...   \n",
              "30                                                                                                                                                                                                                                                                                                                                                                                                                                                                                                                                                                                                                                                                                       Great Location ,  Nice   Rooms ,  Helpless Concierge\\n0                                                                                                                                                                                                                                                                                        ...   \n",
              "31                                                                                                                                                                                                                    The Swissotel is one of our favorite hotels in Chicago and the corner rooms have the most fantastic views in the city .\\n0                                                                                                                                   The rooms look like they were just remodled and upgraded, there was an HD TV and a nice iHome docking station to put my iPod so I could set the alarm to wake up with my music instead of the radio .\\n1                                                                                                                                                                                                                                                                                  Great rooms staff and location but extras overpriced .\\n2  ...   \n",
              "\n",
              "    cluster_label  \n",
              "1               0  \n",
              "32              0  \n",
              "30              0  \n",
              "31              0  "
            ]
          },
          "metadata": {},
          "execution_count": 17
        }
      ]
    },
    {
      "cell_type": "code",
      "metadata": {
        "id": "TdigeOn5beI-",
        "outputId": "66b1f877-575e-45aa-b179-fb0ab30031d7"
      },
      "source": [
        "document_df[document_df['cluster_label']==1].sort_values(by='filename')\n",
        "### cluster1: 전자기기 리뷰"
      ],
      "execution_count": null,
      "outputs": [
        {
          "output_type": "execute_result",
          "data": {
            "text/html": [
              "<div>\n",
              "<style scoped>\n",
              "    .dataframe tbody tr th:only-of-type {\n",
              "        vertical-align: middle;\n",
              "    }\n",
              "\n",
              "    .dataframe tbody tr th {\n",
              "        vertical-align: top;\n",
              "    }\n",
              "\n",
              "    .dataframe thead th {\n",
              "        text-align: right;\n",
              "    }\n",
              "</style>\n",
              "<table border=\"1\" class=\"dataframe\">\n",
              "  <thead>\n",
              "    <tr style=\"text-align: right;\">\n",
              "      <th></th>\n",
              "      <th>filename</th>\n",
              "      <th>opinion_text</th>\n",
              "      <th>cluster_label</th>\n",
              "    </tr>\n",
              "  </thead>\n",
              "  <tbody>\n",
              "    <tr>\n",
              "      <th>2</th>\n",
              "      <td>battery-life_amazon_kindle</td>\n",
              "      <td>After I plugged it in to my USB hub on my computer to charge the battery the charging cord design is very clever !\\n0                                                                                                                                     After you have paged tru a 500, page book one, page, at, a, time to get from Chapter 2 to Chapter 15, see how excited you are about a low battery and all the time it took to get there !\\n1                                                                                                                                                                                                                                                 NO USER REPLACEABLE BATTERY, , Unless you buy the extended warranty for $65 .\\n2                                ...</td>\n",
              "      <td>1</td>\n",
              "    </tr>\n",
              "    <tr>\n",
              "      <th>3</th>\n",
              "      <td>battery-life_ipod_nano_8gb</td>\n",
              "      <td>short battery life  I moved up from an 8gb .\\n0                                                                                                                                                                                                                                                                                            I love this ipod except for the battery life .\\n1                                                                                                                                                                                                                                                                                                           long battery  scratch resistan...</td>\n",
              "      <td>1</td>\n",
              "    </tr>\n",
              "    <tr>\n",
              "      <th>4</th>\n",
              "      <td>battery-life_netbook_1005ha</td>\n",
              "      <td>6GHz 533FSB cpu, glossy display, 3, Cell 23Wh Li, ion Battery  , and a 1 .\\n0                                                                                                                                                                                                                                                                                              Not to mention that as of now Asus will not sell you a spare 3 or 6, cell Li, Ion battery .\\n1                                                                                                                                                                                                                                           ...</td>\n",
              "      <td>1</td>\n",
              "    </tr>\n",
              "    <tr>\n",
              "      <th>19</th>\n",
              "      <td>keyboard_netbook_1005ha</td>\n",
              "      <td>,  I think the new keyboard rivals the great hp mini keyboards .\\n0                                                                                                                                 Since the battery life difference is minimum, the only reason to upgrade would be to get the better keyboard .\\n1                                                                                                                                                                                   The keyboard is now as good as the HP and Samsung netbooks .\\n2                                                                                                                                       The keyboards are 92% the size of those found on a standard computer and the machines run a little hot .\\n3                           ...</td>\n",
              "      <td>1</td>\n",
              "    </tr>\n",
              "    <tr>\n",
              "      <th>26</th>\n",
              "      <td>performance_netbook_1005ha</td>\n",
              "      <td>The Eee Super Hybrid Engine utility lets users overclock or underclock their Eee PC's to boost performance or provide better battery life depending on their immediate requirements .\\n0                                                                                                                                                                                                                  In Super Performance mode CPU, Z shows the bus speed to increase up to 169 .\\n1                                                                                                                  One word of advice is to be really careful about which anti, malware software you install since it will degrade performance both on and off the internet on these netbooks .\\n2                                                                                                                                ...</td>\n",
              "      <td>1</td>\n",
              "    </tr>\n",
              "    <tr>\n",
              "      <th>41</th>\n",
              "      <td>size_asus_netbook_1005ha</td>\n",
              "      <td>A few other things I'd like to point out is that you must push the micro, sized right angle end of the ac adapter until it snaps in place or the battery may not charge .\\n0                                                                                                                                                                                                                                                                                                           The full size right shift key was enough for me to drop my 1000HE .\\n1                                                                                                                                                                                                                                                                 ...</td>\n",
              "      <td>1</td>\n",
              "    </tr>\n",
              "    <tr>\n",
              "      <th>42</th>\n",
              "      <td>sound_ipod_nano_8gb</td>\n",
              "      <td>headphone jack i got a clear case for it and it  i got a clear case for it and it like prvents me from being able to put the jack all the way in so the sound can b messsed up or i can get it in there and its playing well them go to move or something and it slides out .\\n0                                                                                                                                                                                                                 Picture and sound quality are excellent for this typ of devic .\\n1                                                                                                                                                                                                                  Great sound, easy to load &amp; use once I read the instructions .\\n2                                                                                                                                                                          ...</td>\n",
              "      <td>1</td>\n",
              "    </tr>\n",
              "    <tr>\n",
              "      <th>44</th>\n",
              "      <td>speed_windows7</td>\n",
              "      <td>Windows 7 is quite simply faster, more stable, boots faster, goes to sleep faster, comes back from sleep faster, manages your files better and on top of that it's beautiful to look at and easy to use .\\n0                                                                                                                                                                                                                                           , faster about 20% to 30% faster at running applications than my Vista ,  seriously\\n1                                                                                                                                                                                                                                                                            Yes, it'll make your computer run a bit slower but\\n2                                ...</td>\n",
              "      <td>1</td>\n",
              "    </tr>\n",
              "  </tbody>\n",
              "</table>\n",
              "</div>"
            ],
            "text/plain": [
              "                       filename  \\\n",
              "2    battery-life_amazon_kindle   \n",
              "3    battery-life_ipod_nano_8gb   \n",
              "4   battery-life_netbook_1005ha   \n",
              "19      keyboard_netbook_1005ha   \n",
              "26   performance_netbook_1005ha   \n",
              "41     size_asus_netbook_1005ha   \n",
              "42          sound_ipod_nano_8gb   \n",
              "44               speed_windows7   \n",
              "\n",
              "                                                                                                                                                                                                                                                                                                                                                                                                                                                                                                                                                                                                                                                                                                                                                                                                                                                                                                                                                                                                                               opinion_text  \\\n",
              "2                                                                                                                                                                                                                After I plugged it in to my USB hub on my computer to charge the battery the charging cord design is very clever !\\n0                                                                                                                                     After you have paged tru a 500, page book one, page, at, a, time to get from Chapter 2 to Chapter 15, see how excited you are about a low battery and all the time it took to get there !\\n1                                                                                                                                                                                                                                                 NO USER REPLACEABLE BATTERY, , Unless you buy the extended warranty for $65 .\\n2                                ...   \n",
              "3                                                                                                                                                                                                                                                                                                  short battery life  I moved up from an 8gb .\\n0                                                                                                                                                                                                                                                                                            I love this ipod except for the battery life .\\n1                                                                                                                                                                                                                                                                                                           long battery  scratch resistan...   \n",
              "4                                                                                                                                                                                                                                                                                                                   6GHz 533FSB cpu, glossy display, 3, Cell 23Wh Li, ion Battery  , and a 1 .\\n0                                                                                                                                                                                                                                                                                              Not to mention that as of now Asus will not sell you a spare 3 or 6, cell Li, Ion battery .\\n1                                                                                                                                                                                                                                           ...   \n",
              "19                                                                                                                                                                                  ,  I think the new keyboard rivals the great hp mini keyboards .\\n0                                                                                                                                 Since the battery life difference is minimum, the only reason to upgrade would be to get the better keyboard .\\n1                                                                                                                                                                                   The keyboard is now as good as the HP and Samsung netbooks .\\n2                                                                                                                                       The keyboards are 92% the size of those found on a standard computer and the machines run a little hot .\\n3                           ...   \n",
              "26                                                                                                            The Eee Super Hybrid Engine utility lets users overclock or underclock their Eee PC's to boost performance or provide better battery life depending on their immediate requirements .\\n0                                                                                                                                                                                                                  In Super Performance mode CPU, Z shows the bus speed to increase up to 169 .\\n1                                                                                                                  One word of advice is to be really careful about which anti, malware software you install since it will degrade performance both on and off the internet on these netbooks .\\n2                                                                                                                                ...   \n",
              "41                                                                                                                                                                                                        A few other things I'd like to point out is that you must push the micro, sized right angle end of the ac adapter until it snaps in place or the battery may not charge .\\n0                                                                                                                                                                                                                                                                                                           The full size right shift key was enough for me to drop my 1000HE .\\n1                                                                                                                                                                                                                                                                 ...   \n",
              "42      headphone jack i got a clear case for it and it  i got a clear case for it and it like prvents me from being able to put the jack all the way in so the sound can b messsed up or i can get it in there and its playing well them go to move or something and it slides out .\\n0                                                                                                                                                                                                                 Picture and sound quality are excellent for this typ of devic .\\n1                                                                                                                                                                                                                  Great sound, easy to load & use once I read the instructions .\\n2                                                                                                                                                                          ...   \n",
              "44                                                                                                                        Windows 7 is quite simply faster, more stable, boots faster, goes to sleep faster, comes back from sleep faster, manages your files better and on top of that it's beautiful to look at and easy to use .\\n0                                                                                                                                                                                                                                           , faster about 20% to 30% faster at running applications than my Vista ,  seriously\\n1                                                                                                                                                                                                                                                                            Yes, it'll make your computer run a bit slower but\\n2                                ...   \n",
              "\n",
              "    cluster_label  \n",
              "2               1  \n",
              "3               1  \n",
              "4               1  \n",
              "19              1  \n",
              "26              1  \n",
              "41              1  \n",
              "42              1  \n",
              "44              1  "
            ]
          },
          "metadata": {},
          "execution_count": 18
        }
      ]
    },
    {
      "cell_type": "code",
      "metadata": {
        "id": "akarJ4rXbeI-",
        "outputId": "2e1685ba-ffc7-4985-febf-98c6ff083a07"
      },
      "source": [
        "document_df[document_df['cluster_label']==2].sort_values(by='filename')\n",
        "### cluster2: 킨들, 아이팟, 넷북등이 있으나 차량용 네비게이션 위주로 이루어짐"
      ],
      "execution_count": null,
      "outputs": [
        {
          "output_type": "execute_result",
          "data": {
            "text/html": [
              "<div>\n",
              "<style scoped>\n",
              "    .dataframe tbody tr th:only-of-type {\n",
              "        vertical-align: middle;\n",
              "    }\n",
              "\n",
              "    .dataframe tbody tr th {\n",
              "        vertical-align: top;\n",
              "    }\n",
              "\n",
              "    .dataframe thead th {\n",
              "        text-align: right;\n",
              "    }\n",
              "</style>\n",
              "<table border=\"1\" class=\"dataframe\">\n",
              "  <thead>\n",
              "    <tr style=\"text-align: right;\">\n",
              "      <th></th>\n",
              "      <th>filename</th>\n",
              "      <th>opinion_text</th>\n",
              "      <th>cluster_label</th>\n",
              "    </tr>\n",
              "  </thead>\n",
              "  <tbody>\n",
              "    <tr>\n",
              "      <th>0</th>\n",
              "      <td>accuracy_garmin_nuvi_255W_gps</td>\n",
              "      <td>, and is very, very accurate .\\n0                                                                                                                                                                           but for the most part, we find that the Garmin software provides accurate directions, whereever we intend to go .\\n1                                                                                                              This function is not accurate if you don't leave it in battery mode say, when you stop at the Cracker Barrell for lunch and to play one of those trangle games with the tees .\\n2                                                                                                                                      ...</td>\n",
              "      <td>2</td>\n",
              "    </tr>\n",
              "    <tr>\n",
              "      <th>5</th>\n",
              "      <td>buttons_amazon_kindle</td>\n",
              "      <td>I thought it would be fitting to christen my Kindle with the Stephen King novella UR, so went to the Amazon site on my computer and clicked on the button to buy it .\\n0                                                                                                                                                                                                            As soon as I'd clicked the button to confirm my order it appeared on my Kindle almost immediately !\\n1                                                                                                                After reading through the introductory guide that loads up automatically at the start and following along it took me almost no time to learn which buttons are where and what each of them do .\\n2                                                   I started reading with the...</td>\n",
              "      <td>2</td>\n",
              "    </tr>\n",
              "    <tr>\n",
              "      <th>8</th>\n",
              "      <td>directions_garmin_nuvi_255W_gps</td>\n",
              "      <td>You also get upscale features like spoken directions including street names and programmable POIs .\\n0                                                                                                                                                                                                                                                                                                I used to hesitate to go out of my directions but not any more .\\n1                                                                                                                                                                                                                                                            the directions didn't tell me any...</td>\n",
              "      <td>2</td>\n",
              "    </tr>\n",
              "    <tr>\n",
              "      <th>9</th>\n",
              "      <td>display_garmin_nuvi_255W_gps</td>\n",
              "      <td>3 quot  widescreen display was a bonus .\\n0                                                                                                                                           This made for smoother graphics on the 255w of the vehicle moving along displayed roads, where the 750's display was more of a  jerky  movement .\\n1                                                                                                                                                       I also found that the display on the 255w was a bit brighter, clearer, and more vivid than on the 750 in both daylight and at night .\\n2                                                                                                                                      ...</td>\n",
              "      <td>2</td>\n",
              "    </tr>\n",
              "    <tr>\n",
              "      <th>10</th>\n",
              "      <td>eyesight-issues_amazon_kindle</td>\n",
              "      <td>It feels as easy to read as the K1 but doesn't seem any crisper to my eyes   .\\n0                                                                                                                                                            the white is really GREY, and to avoid considerable eye, strain I had to refresh pages   every other page .\\n1                                    The dream has always been a portable electronic device that could hold a ton of reading material, automate subscriptions and facilitate quick easy downloads, and be as portable, as easy on the eyes, and as intuitive as a book .\\n2                                                                                                                                                                                                     ...</td>\n",
              "      <td>2</td>\n",
              "    </tr>\n",
              "    <tr>\n",
              "      <th>11</th>\n",
              "      <td>features_windows7</td>\n",
              "      <td>I had to uninstall anti, virus and selected other programs, some of which did not have listings in the  Programs and Features  Control Panel section .\\n0                                                                                                                                                                                                                           This review briefly touches upon some of the key features and enhancements of Microsoft's latest OS .\\n1                                                                                                                                                                                                                                      All of these features combine to create a much improved and enjoyable desktop experience .\\n2                          ...</td>\n",
              "      <td>2</td>\n",
              "    </tr>\n",
              "    <tr>\n",
              "      <th>12</th>\n",
              "      <td>fonts_amazon_kindle</td>\n",
              "      <td>Being able to change the font sizes is awesome !\\n0                                                                                                                                                                                                                                                                        For whatever reason, Amazon decided to make the Font on the Home Screen   than on the K1 .\\n1                                                                                                                                                                                                                                      I found myself constantly changing the angle of the...</td>\n",
              "      <td>2</td>\n",
              "    </tr>\n",
              "    <tr>\n",
              "      <th>23</th>\n",
              "      <td>navigation_amazon_kindle</td>\n",
              "      <td>In fact, the entire navigation structure has been completely revised ,  I'm still getting used to it but it's a huge step forward .\\n0                                                                                                                                                                                                                                                                                                                                                                                                                 Navigation is a huge improvement .\\n1                                                                                                                       ...</td>\n",
              "      <td>2</td>\n",
              "    </tr>\n",
              "    <tr>\n",
              "      <th>33</th>\n",
              "      <td>satellite_garmin_nuvi_255W_gps</td>\n",
              "      <td>It's fast to acquire satellites .\\n0    If you've ever had a  Brand X  GPS take you on some strange route that adds 20 minutes to your trip, has you turn the wrong way down a one way road, tell you to turn AFTER you've passed the street, frequently loses the satellite signal, or has old maps missing streets, you know how important this stuff is .\\n1                                                                                                                                                                       The Garmin Nuvi 255W connects to satellites extremely fast, , So when I get in my car and turn it on, we're pretty much ready to go immediately .\\n2                                                  ...</td>\n",
              "      <td>2</td>\n",
              "    </tr>\n",
              "    <tr>\n",
              "      <th>34</th>\n",
              "      <td>screen_garmin_nuvi_255W_gps</td>\n",
              "      <td>It is easy to read and when touching the screen it works great !\\n0                                                                                                                                                                    and zoom out   buttons on the 255w to the same side of the screen which makes it a bit easier .\\n1                                                                                                                                                                                                  On the 750 the zoom buttons are on opposite sides of the screen .\\n2                                                                                                                                                                   The screen is easily readable in the sun, and ...</td>\n",
              "      <td>2</td>\n",
              "    </tr>\n",
              "    <tr>\n",
              "      <th>35</th>\n",
              "      <td>screen_ipod_nano_8gb</td>\n",
              "      <td>As always, the video screen is sharp and bright .\\n0                                                                                                                                                                                                        2, inch screen   and a glossy, polished aluminum finish that one CNET editor described as looking like a Christmas tree ornament .\\n1                                                                                                                                                                                                                    Still, video fans should consider stepping up to a product with a larger screen, such as the Zune HD   or iPod Touch ...</td>\n",
              "      <td>2</td>\n",
              "    </tr>\n",
              "    <tr>\n",
              "      <th>36</th>\n",
              "      <td>screen_netbook_1005ha</td>\n",
              "      <td>Keep in mind that once you get in a room full of light or step outdoors screen reflections could become annoying .\\n0                                                                                                                                                                                                                                                                                                       I've used mine outside on a sunny day, and the screen is still very much legible .\\n1                                                                                                                                                                                                                                           ...</td>\n",
              "      <td>2</td>\n",
              "    </tr>\n",
              "    <tr>\n",
              "      <th>43</th>\n",
              "      <td>speed_garmin_nuvi_255W_gps</td>\n",
              "      <td>Another feature on the 255w is a display of the posted speed limit on the road which you are currently on right above your current displayed speed .\\n0                                                                                                                                                                   I found myself not even looking at my car speedometer as I could easily see my current speed and the speed limit of my route at a glance .\\n1                                                                                                                                        My final decision was to keep the 255w and return the 750 because I really liked the graphic turn indicator and the posted speed limit and current speed indicators .\\n2                                                                                   ...</td>\n",
              "      <td>2</td>\n",
              "    </tr>\n",
              "    <tr>\n",
              "      <th>48</th>\n",
              "      <td>updates_garmin_nuvi_255W_gps</td>\n",
              "      <td>Another thing to consider was that I paid $50 less for the 750 and it came with the FM transmitter cable and a USB cord to connect it to your computer for updates and downloads .\\n0                                                                                                                                                                                                update and reroute much _more_ quickly than my other GPS   .\\n1                                                                                                       UPDATE ON THIS ,  It finally turned out that to see the elevation contours at lower zoom levels   you have to reduce the amount of detail displayed .\\n2                                                                                                                                                                                           it's a curiousity for most of us, traffic a...</td>\n",
              "      <td>2</td>\n",
              "    </tr>\n",
              "    <tr>\n",
              "      <th>49</th>\n",
              "      <td>video_ipod_nano_8gb</td>\n",
              "      <td>I bought the 8, gig Ipod Nano that has the built, in video camera .\\n0                                                                                                                                                                                                                      Itunes has an on, line store, where you may purchase and download music and videos which will install onto the ipod .\\n1                                                                                                                                                           I have lots of music cd's and dvd's, so currently I'm just interested in storing some of my music and videos on the ipod so I can enjoy them on my vacation, and while at wo...</td>\n",
              "      <td>2</td>\n",
              "    </tr>\n",
              "    <tr>\n",
              "      <th>50</th>\n",
              "      <td>voice_garmin_nuvi_255W_gps</td>\n",
              "      <td>The voice prompts and maps are wonderful especially when driving after dark .\\n0                                                                                                                                                                               I also thought the the voice prompts of the 750 where more pleasant sounding than the 255w's .\\n1                                                                                                                                                                                           The 750 sounds more like a real female voice, where the 255w sounds more robotic .\\n2                                                                                                                                                                                   ...</td>\n",
              "      <td>2</td>\n",
              "    </tr>\n",
              "  </tbody>\n",
              "</table>\n",
              "</div>"
            ],
            "text/plain": [
              "                           filename  \\\n",
              "0     accuracy_garmin_nuvi_255W_gps   \n",
              "5             buttons_amazon_kindle   \n",
              "8   directions_garmin_nuvi_255W_gps   \n",
              "9      display_garmin_nuvi_255W_gps   \n",
              "10    eyesight-issues_amazon_kindle   \n",
              "11                features_windows7   \n",
              "12              fonts_amazon_kindle   \n",
              "23         navigation_amazon_kindle   \n",
              "33   satellite_garmin_nuvi_255W_gps   \n",
              "34      screen_garmin_nuvi_255W_gps   \n",
              "35             screen_ipod_nano_8gb   \n",
              "36            screen_netbook_1005ha   \n",
              "43       speed_garmin_nuvi_255W_gps   \n",
              "48     updates_garmin_nuvi_255W_gps   \n",
              "49              video_ipod_nano_8gb   \n",
              "50       voice_garmin_nuvi_255W_gps   \n",
              "\n",
              "                                                                                                                                                                                                                                                                                                                                                                                                                                                                                                                                                                                                                                                                                                                                                                                                                                                                                                                                                                                                                               opinion_text  \\\n",
              "0                                                                                                                                                                                                                                                                  , and is very, very accurate .\\n0                                                                                                                                                                           but for the most part, we find that the Garmin software provides accurate directions, whereever we intend to go .\\n1                                                                                                              This function is not accurate if you don't leave it in battery mode say, when you stop at the Cracker Barrell for lunch and to play one of those trangle games with the tees .\\n2                                                                                                                                      ...   \n",
              "5                                                                                                                                              I thought it would be fitting to christen my Kindle with the Stephen King novella UR, so went to the Amazon site on my computer and clicked on the button to buy it .\\n0                                                                                                                                                                                                            As soon as I'd clicked the button to confirm my order it appeared on my Kindle almost immediately !\\n1                                                                                                                After reading through the introductory guide that loads up automatically at the start and following along it took me almost no time to learn which buttons are where and what each of them do .\\n2                                                   I started reading with the...   \n",
              "8                                                                                                                                                                                                                                                                 You also get upscale features like spoken directions including street names and programmable POIs .\\n0                                                                                                                                                                                                                                                                                                I used to hesitate to go out of my directions but not any more .\\n1                                                                                                                                                                                                                                                            the directions didn't tell me any...   \n",
              "9                                                                                                                                                                                                                                                        3 quot  widescreen display was a bonus .\\n0                                                                                                                                           This made for smoother graphics on the 255w of the vehicle moving along displayed roads, where the 750's display was more of a  jerky  movement .\\n1                                                                                                                                                       I also found that the display on the 255w was a bit brighter, clearer, and more vivid than on the 750 in both daylight and at night .\\n2                                                                                                                                      ...   \n",
              "10                                                                                                                                                                                            It feels as easy to read as the K1 but doesn't seem any crisper to my eyes   .\\n0                                                                                                                                                            the white is really GREY, and to avoid considerable eye, strain I had to refresh pages   every other page .\\n1                                    The dream has always been a portable electronic device that could hold a ton of reading material, automate subscriptions and facilitate quick easy downloads, and be as portable, as easy on the eyes, and as intuitive as a book .\\n2                                                                                                                                                                                                     ...   \n",
              "11                                                                                                                                                                             I had to uninstall anti, virus and selected other programs, some of which did not have listings in the  Programs and Features  Control Panel section .\\n0                                                                                                                                                                                                                           This review briefly touches upon some of the key features and enhancements of Microsoft's latest OS .\\n1                                                                                                                                                                                                                                      All of these features combine to create a much improved and enjoyable desktop experience .\\n2                          ...   \n",
              "12                                                                                                                                                                                                                                                                                                                     Being able to change the font sizes is awesome !\\n0                                                                                                                                                                                                                                                                        For whatever reason, Amazon decided to make the Font on the Home Screen   than on the K1 .\\n1                                                                                                                                                                                                                                      I found myself constantly changing the angle of the...   \n",
              "23                                                                                                                                                                                                                                                                                                                   In fact, the entire navigation structure has been completely revised ,  I'm still getting used to it but it's a huge step forward .\\n0                                                                                                                                                                                                                                                                                                                                                                                                                 Navigation is a huge improvement .\\n1                                                                                                                       ...   \n",
              "33                                                                                                                                                                                                                                                                                          It's fast to acquire satellites .\\n0    If you've ever had a  Brand X  GPS take you on some strange route that adds 20 minutes to your trip, has you turn the wrong way down a one way road, tell you to turn AFTER you've passed the street, frequently loses the satellite signal, or has old maps missing streets, you know how important this stuff is .\\n1                                                                                                                                                                       The Garmin Nuvi 255W connects to satellites extremely fast, , So when I get in my car and turn it on, we're pretty much ready to go immediately .\\n2                                                  ...   \n",
              "34                                                                                                                                                                                                      It is easy to read and when touching the screen it works great !\\n0                                                                                                                                                                    and zoom out   buttons on the 255w to the same side of the screen which makes it a bit easier .\\n1                                                                                                                                                                                                  On the 750 the zoom buttons are on opposite sides of the screen .\\n2                                                                                                                                                                   The screen is easily readable in the sun, and ...   \n",
              "35                                                                                                                                                                                                                                                                                            As always, the video screen is sharp and bright .\\n0                                                                                                                                                                                                        2, inch screen   and a glossy, polished aluminum finish that one CNET editor described as looking like a Christmas tree ornament .\\n1                                                                                                                                                                                                                    Still, video fans should consider stepping up to a product with a larger screen, such as the Zune HD   or iPod Touch ...   \n",
              "36                                                                                                                                                                                                                                                                          Keep in mind that once you get in a room full of light or step outdoors screen reflections could become annoying .\\n0                                                                                                                                                                                                                                                                                                       I've used mine outside on a sunny day, and the screen is still very much legible .\\n1                                                                                                                                                                                                                                           ...   \n",
              "43                                                                                                                                                            Another feature on the 255w is a display of the posted speed limit on the road which you are currently on right above your current displayed speed .\\n0                                                                                                                                                                   I found myself not even looking at my car speedometer as I could easily see my current speed and the speed limit of my route at a glance .\\n1                                                                                                                                        My final decision was to keep the 255w and return the 750 because I really liked the graphic turn indicator and the posted speed limit and current speed indicators .\\n2                                                                                   ...   \n",
              "48                                                                             Another thing to consider was that I paid $50 less for the 750 and it came with the FM transmitter cable and a USB cord to connect it to your computer for updates and downloads .\\n0                                                                                                                                                                                                update and reroute much _more_ quickly than my other GPS   .\\n1                                                                                                       UPDATE ON THIS ,  It finally turned out that to see the elevation contours at lower zoom levels   you have to reduce the amount of detail displayed .\\n2                                                                                                                                                                                           it's a curiousity for most of us, traffic a...   \n",
              "49                                                                                                                                                                                                                                                                           I bought the 8, gig Ipod Nano that has the built, in video camera .\\n0                                                                                                                                                                                                                      Itunes has an on, line store, where you may purchase and download music and videos which will install onto the ipod .\\n1                                                                                                                                                           I have lots of music cd's and dvd's, so currently I'm just interested in storing some of my music and videos on the ipod so I can enjoy them on my vacation, and while at wo...   \n",
              "50                                                                                                                                                                                                   The voice prompts and maps are wonderful especially when driving after dark .\\n0                                                                                                                                                                               I also thought the the voice prompts of the 750 where more pleasant sounding than the 255w's .\\n1                                                                                                                                                                                           The 750 sounds more like a real female voice, where the 255w sounds more robotic .\\n2                                                                                                                                                                                   ...   \n",
              "\n",
              "    cluster_label  \n",
              "0               2  \n",
              "5               2  \n",
              "8               2  \n",
              "9               2  \n",
              "10              2  \n",
              "11              2  \n",
              "12              2  \n",
              "23              2  \n",
              "33              2  \n",
              "34              2  \n",
              "35              2  \n",
              "36              2  \n",
              "43              2  \n",
              "48              2  \n",
              "49              2  \n",
              "50              2  "
            ]
          },
          "metadata": {},
          "execution_count": 19
        }
      ]
    },
    {
      "cell_type": "code",
      "metadata": {
        "id": "akUt9MlibeI_",
        "outputId": "c64bbd81-f569-4079-e03e-26aa29f97517"
      },
      "source": [
        "document_df[document_df['cluster_label']==3].sort_values(by='filename')\n",
        "### cluster3: 호텔 리뷰 + 킨들"
      ],
      "execution_count": null,
      "outputs": [
        {
          "output_type": "execute_result",
          "data": {
            "text/html": [
              "<div>\n",
              "<style scoped>\n",
              "    .dataframe tbody tr th:only-of-type {\n",
              "        vertical-align: middle;\n",
              "    }\n",
              "\n",
              "    .dataframe tbody tr th {\n",
              "        vertical-align: top;\n",
              "    }\n",
              "\n",
              "    .dataframe thead th {\n",
              "        text-align: right;\n",
              "    }\n",
              "</style>\n",
              "<table border=\"1\" class=\"dataframe\">\n",
              "  <thead>\n",
              "    <tr style=\"text-align: right;\">\n",
              "      <th></th>\n",
              "      <th>filename</th>\n",
              "      <th>opinion_text</th>\n",
              "      <th>cluster_label</th>\n",
              "    </tr>\n",
              "  </thead>\n",
              "  <tbody>\n",
              "    <tr>\n",
              "      <th>13</th>\n",
              "      <td>food_holiday_inn_london</td>\n",
              "      <td>The room was packed to capacity with queues at the food buffets .\\n0                                                                                                                                                   The over zealous   staff cleared our unfinished drinks while we were collecting cooked food and movement around the room with plates was difficult in the crowded circumstances .\\n1                                                                                                                                                                                                                                         There are a couple pubs, a great patisserie and even fast food restaurants within a block .\\n2              ...</td>\n",
              "      <td>3</td>\n",
              "    </tr>\n",
              "    <tr>\n",
              "      <th>14</th>\n",
              "      <td>food_swissotel_chicago</td>\n",
              "      <td>The food for our event was delicious .\\n0                                                                                                                                                                                                                                                                                                                         The food in the lounge was great and very fresh, , , salads, sandwiches etc .\\n1                                                                                                                                                                                                                 ...</td>\n",
              "      <td>3</td>\n",
              "    </tr>\n",
              "    <tr>\n",
              "      <th>15</th>\n",
              "      <td>free_bestwestern_hotel_sfo</td>\n",
              "      <td>The wine reception is a great idea as it is nice to meet other travellers and great having access to the free Internet access in our room .\\n0                                                                                      They also have a computer available with free internet which is a nice bonus but I didn't find that out till the day before we left but was still able to get on there to check our flight to Vegas the next day .\\n1                                                                                                                                                                                                             The service was good, very friendly staff and we loved the free wine reception each night .\\n2                                                                                                  ...</td>\n",
              "      <td>3</td>\n",
              "    </tr>\n",
              "    <tr>\n",
              "      <th>20</th>\n",
              "      <td>location_bestwestern_hotel_sfo</td>\n",
              "      <td>Good Value good location ,  ideal choice .\\n0                                                                                                                                                                                                                                                                                          Great Location ,  Nice   Rooms ,  Helpless Concierge\\n1                                                                                                                                                                                                                                     The location is good, and the overall decor is nice, but there was nothing that I can really...</td>\n",
              "      <td>3</td>\n",
              "    </tr>\n",
              "    <tr>\n",
              "      <th>21</th>\n",
              "      <td>location_holiday_inn_london</td>\n",
              "      <td>Great location for tube and we crammed in a fair amount of sightseeing in a short time .\\n0                                                                                                                                                                                                                                                                All in all, a normal chain hotel on a nice location  , I will be back if I do not find anthing closer to Picadilly for a better price .\\n1                                                                                                                                                                                                               ...</td>\n",
              "      <td>3</td>\n",
              "    </tr>\n",
              "    <tr>\n",
              "      <th>24</th>\n",
              "      <td>parking_bestwestern_hotel_sfo</td>\n",
              "      <td>Parking was expensive but I think this is common for San Fran .\\n0                                                                                                                                                                                        there is a fee for parking but well worth it seeing no where to park if you do have a car .\\n1                                                                                                                                                        The parking was free, which was great, and the hotel was conveniently located for public transport, and local attractions .\\n2                                                                                                                                                                 ...</td>\n",
              "      <td>3</td>\n",
              "    </tr>\n",
              "    <tr>\n",
              "      <th>27</th>\n",
              "      <td>price_amazon_kindle</td>\n",
              "      <td>If a case was included, as with the Kindle 1, that would have been reflected in a higher price .\\n0                                                                                                                                                                                                                                                                                lower overall price, with nice leather cover .\\n1                                                                                                                                          If you have the first Kindle and are deciding whether to upgrade, do it now while you can still get a good price for your old Kindle on Amazon's Marketplace, craigslist, wherever .\\n2    Before purchasing, I was obs...</td>\n",
              "      <td>3</td>\n",
              "    </tr>\n",
              "    <tr>\n",
              "      <th>28</th>\n",
              "      <td>price_holiday_inn_london</td>\n",
              "      <td>All in all, a normal chain hotel on a nice location  , I will be back if I do not find anthing closer to Picadilly for a better price .\\n0                                                                                                                                                                                                                                                                                                                                                                                                                                                                    Great Price Terrific Location .\\n1                       ...</td>\n",
              "      <td>3</td>\n",
              "    </tr>\n",
              "    <tr>\n",
              "      <th>38</th>\n",
              "      <td>service_bestwestern_hotel_sfo</td>\n",
              "      <td>Both of us having worked in tourism for over 14 years were very disappointed at the level of service provided by this gentleman .\\n0                                                                                                                                                                                              The service was good, very friendly staff and we loved the free wine reception each night .\\n1                                                                                                                                                                                                                  Also, thanks to Ken the concierge for recommending Grand Limo service .\\n2                                                                                                                                               ...</td>\n",
              "      <td>3</td>\n",
              "    </tr>\n",
              "    <tr>\n",
              "      <th>39</th>\n",
              "      <td>service_holiday_inn_london</td>\n",
              "      <td>not customer, oriented hotelvery low service levelboor reception\\n0                                                                                                                                                                                                                                                                    The room was quiet, clean, the bed and pillows were comfortable, and the service was adequate .\\n1                                                                                                                                                                                                                                                                                 There ...</td>\n",
              "      <td>3</td>\n",
              "    </tr>\n",
              "    <tr>\n",
              "      <th>40</th>\n",
              "      <td>service_swissotel_hotel_chicago</td>\n",
              "      <td>Mediocre room and service for a very extravagant price .\\n0                                                                                                                                                                                                                                                                                                                                                The accomodations and support services are phenomenal .\\n1                                                                                                                                                                                                 no robes in th...</td>\n",
              "      <td>3</td>\n",
              "    </tr>\n",
              "    <tr>\n",
              "      <th>45</th>\n",
              "      <td>staff_bestwestern_hotel_sfo</td>\n",
              "      <td>Staff are friendly and helpful   .\\n0                                                                                                                                                                                                                                                                                        ...</td>\n",
              "      <td>3</td>\n",
              "    </tr>\n",
              "    <tr>\n",
              "      <th>46</th>\n",
              "      <td>staff_swissotel_chicago</td>\n",
              "      <td>The staff at Swissotel were not particularly nice .\\n0                                                                                                                                                               Each time I waited at the counter for staff   for several minutes and then was waved to the desk upon my turn with no hello or anything, or apology for waiting in line .\\n1                                                                                                                                                                                                                                     All staff members are very courteous and go the extra mile in meeting your needs during your stay .\\n2  ...</td>\n",
              "      <td>3</td>\n",
              "    </tr>\n",
              "  </tbody>\n",
              "</table>\n",
              "</div>"
            ],
            "text/plain": [
              "                           filename  \\\n",
              "13          food_holiday_inn_london   \n",
              "14           food_swissotel_chicago   \n",
              "15       free_bestwestern_hotel_sfo   \n",
              "20   location_bestwestern_hotel_sfo   \n",
              "21      location_holiday_inn_london   \n",
              "24    parking_bestwestern_hotel_sfo   \n",
              "27              price_amazon_kindle   \n",
              "28         price_holiday_inn_london   \n",
              "38    service_bestwestern_hotel_sfo   \n",
              "39       service_holiday_inn_london   \n",
              "40  service_swissotel_hotel_chicago   \n",
              "45      staff_bestwestern_hotel_sfo   \n",
              "46          staff_swissotel_chicago   \n",
              "\n",
              "                                                                                                                                                                                                                                                                                                                                                                                                                                                                                                                                                                                                                                                                                                                                                                                                                                                                                                                                                                                                                               opinion_text  \\\n",
              "13                                                                                                                                                                                                                                                                      The room was packed to capacity with queues at the food buffets .\\n0                                                                                                                                                   The over zealous   staff cleared our unfinished drinks while we were collecting cooked food and movement around the room with plates was difficult in the crowded circumstances .\\n1                                                                                                                                                                                                                                         There are a couple pubs, a great patisserie and even fast food restaurants within a block .\\n2              ...   \n",
              "14                                                                                                                                                                                                                                                                                                                                                                   The food for our event was delicious .\\n0                                                                                                                                                                                                                                                                                                                         The food in the lounge was great and very fresh, , , salads, sandwiches etc .\\n1                                                                                                                                                                                                                 ...   \n",
              "15                                                                                                                                                                The wine reception is a great idea as it is nice to meet other travellers and great having access to the free Internet access in our room .\\n0                                                                                      They also have a computer available with free internet which is a nice bonus but I didn't find that out till the day before we left but was still able to get on there to check our flight to Vegas the next day .\\n1                                                                                                                                                                                                             The service was good, very friendly staff and we loved the free wine reception each night .\\n2                                                                                                  ...   \n",
              "20                                                                                                                                                                                                                                                                                                       Good Value good location ,  ideal choice .\\n0                                                                                                                                                                                                                                                                                          Great Location ,  Nice   Rooms ,  Helpless Concierge\\n1                                                                                                                                                                                                                                     The location is good, and the overall decor is nice, but there was nothing that I can really...   \n",
              "21                                                                                                                                                                                                                                                                                                                  Great location for tube and we crammed in a fair amount of sightseeing in a short time .\\n0                                                                                                                                                                                                                                                                All in all, a normal chain hotel on a nice location  , I will be back if I do not find anthing closer to Picadilly for a better price .\\n1                                                                                                                                                                                                               ...   \n",
              "24                                                                                                                                                                                                                       Parking was expensive but I think this is common for San Fran .\\n0                                                                                                                                                                                        there is a fee for parking but well worth it seeing no where to park if you do have a car .\\n1                                                                                                                                                        The parking was free, which was great, and the hotel was conveniently located for public transport, and local attractions .\\n2                                                                                                                                                                 ...   \n",
              "27                                                                                                                                                                                                                                 If a case was included, as with the Kindle 1, that would have been reflected in a higher price .\\n0                                                                                                                                                                                                                                                                                lower overall price, with nice leather cover .\\n1                                                                                                                                          If you have the first Kindle and are deciding whether to upgrade, do it now while you can still get a good price for your old Kindle on Amazon's Marketplace, craigslist, wherever .\\n2    Before purchasing, I was obs...   \n",
              "28                                                                                                                                                                                                                                                                                                                                                               All in all, a normal chain hotel on a nice location  , I will be back if I do not find anthing closer to Picadilly for a better price .\\n0                                                                                                                                                                                                                                                                                                                                                                                                                                                                    Great Price Terrific Location .\\n1                       ...   \n",
              "38                                                                                                                                                           Both of us having worked in tourism for over 14 years were very disappointed at the level of service provided by this gentleman .\\n0                                                                                                                                                                                              The service was good, very friendly staff and we loved the free wine reception each night .\\n1                                                                                                                                                                                                                  Also, thanks to Ken the concierge for recommending Grand Limo service .\\n2                                                                                                                                               ...   \n",
              "39                                                                                                                                                                                                                                                                                                      not customer, oriented hotelvery low service levelboor reception\\n0                                                                                                                                                                                                                                                                    The room was quiet, clean, the bed and pillows were comfortable, and the service was adequate .\\n1                                                                                                                                                                                                                                                                                 There ...   \n",
              "40                                                                                                                                                                                                                                                                                                                                                  Mediocre room and service for a very extravagant price .\\n0                                                                                                                                                                                                                                                                                                                                                The accomodations and support services are phenomenal .\\n1                                                                                                                                                                                                 no robes in th...   \n",
              "45                                                                                                                                                                                                                                                                                                                                                                                                                                                                                                                                                                                                                                                                                                         Staff are friendly and helpful   .\\n0                                                                                                                                                                                                                                                                                        ...   \n",
              "46                                                                                                                                                                                                                                                                                        The staff at Swissotel were not particularly nice .\\n0                                                                                                                                                               Each time I waited at the counter for staff   for several minutes and then was waved to the desk upon my turn with no hello or anything, or apology for waiting in line .\\n1                                                                                                                                                                                                                                     All staff members are very courteous and go the extra mile in meeting your needs during your stay .\\n2  ...   \n",
              "\n",
              "    cluster_label  \n",
              "13              3  \n",
              "14              3  \n",
              "15              3  \n",
              "20              3  \n",
              "21              3  \n",
              "24              3  \n",
              "27              3  \n",
              "28              3  \n",
              "38              3  \n",
              "39              3  \n",
              "40              3  \n",
              "45              3  \n",
              "46              3  "
            ]
          },
          "metadata": {},
          "execution_count": 20
        }
      ]
    },
    {
      "cell_type": "code",
      "metadata": {
        "id": "7xGFOirfbeI_",
        "outputId": "78585832-0ebc-4dc8-95f9-2f8040edbed1"
      },
      "source": [
        "document_df[document_df['cluster_label']==4].sort_values(by='filename')\n",
        "### cluster4: 자동차 리뷰"
      ],
      "execution_count": null,
      "outputs": [
        {
          "output_type": "execute_result",
          "data": {
            "text/html": [
              "<div>\n",
              "<style scoped>\n",
              "    .dataframe tbody tr th:only-of-type {\n",
              "        vertical-align: middle;\n",
              "    }\n",
              "\n",
              "    .dataframe tbody tr th {\n",
              "        vertical-align: top;\n",
              "    }\n",
              "\n",
              "    .dataframe thead th {\n",
              "        text-align: right;\n",
              "    }\n",
              "</style>\n",
              "<table border=\"1\" class=\"dataframe\">\n",
              "  <thead>\n",
              "    <tr style=\"text-align: right;\">\n",
              "      <th></th>\n",
              "      <th>filename</th>\n",
              "      <th>opinion_text</th>\n",
              "      <th>cluster_label</th>\n",
              "    </tr>\n",
              "  </thead>\n",
              "  <tbody>\n",
              "    <tr>\n",
              "      <th>6</th>\n",
              "      <td>comfort_honda_accord_2008</td>\n",
              "      <td>Drivers seat not comfortable, the car itself compared to other models of similar class .\\n0                                                                                                                                                                                                                                                                                                                                                                                                   It's very comfortable, remarkably large inside and just an overall great vehicle .\\n1                                                   ...</td>\n",
              "      <td>4</td>\n",
              "    </tr>\n",
              "    <tr>\n",
              "      <th>7</th>\n",
              "      <td>comfort_toyota_camry_2007</td>\n",
              "      <td>Ride seems comfortable and gas mileage fairly good averaging 26 city and 30 open road .\\n0                                                                                                        Seats are fine, in fact of all the smaller sedans this is the most comfortable I found for the price as I am 6', 2  and 250# .\\n1                                                                                                                                                                                     Great gas mileage and comfortable on long trips .\\n2                                                                                                                                                                             Good gas mileage, comfortable seating, lots of leg room .\\n3                                                               ...</td>\n",
              "      <td>4</td>\n",
              "    </tr>\n",
              "    <tr>\n",
              "      <th>16</th>\n",
              "      <td>gas_mileage_toyota_camry_2007</td>\n",
              "      <td>Ride seems comfortable and gas mileage fairly good averaging 26 city and 30 open road .\\n0                                                                                                                                                                                                                                                                                                                                                                                                                                     It gets great gas mileage   .\\n1                                                                                         ...</td>\n",
              "      <td>4</td>\n",
              "    </tr>\n",
              "    <tr>\n",
              "      <th>17</th>\n",
              "      <td>interior_honda_accord_2008</td>\n",
              "      <td>I love the new body style and the interior is a simple pleasure except for the center dash .\\n0                                                                                                                                                                                                                                                                             However, there are a couple of things that kill it for me 1 terrible driver seat comfort, kills my back 2 lack luster interior design, my Acadia has much better comfort 3 th...</td>\n",
              "      <td>4</td>\n",
              "    </tr>\n",
              "    <tr>\n",
              "      <th>18</th>\n",
              "      <td>interior_toyota_camry_2007</td>\n",
              "      <td>First of all, the interior has way too many cheap plastic parts like the cheap plastic center piece that houses the clock .\\n0                                                                                                                                                                       3 blown struts at 30,000 miles, interior trim coming loose and rattling squeaking, stains on paint, and bug splats taking paint off, premature uneven brake wear, on 3rd windshield   .\\n1                                                                                                                                                                                                                                                                                                 ...</td>\n",
              "      <td>4</td>\n",
              "    </tr>\n",
              "    <tr>\n",
              "      <th>22</th>\n",
              "      <td>mileage_honda_accord_2008</td>\n",
              "      <td>It's quiet, get good gas mileage and looks clean inside and out .\\n0                                                                                                                                                                     The mileage is great, and I've had to get used to stopping less for gas .\\n1                                                                                                                                                                                                         Thought gas mileage would be better .\\n2                                               There are trade offs that I have no problems with, my mileage after two tanks with mostly city driving is 21 but acceleration is very good, smooth, ride a little firm but enjoy the handling .\\n3                               ...</td>\n",
              "      <td>4</td>\n",
              "    </tr>\n",
              "    <tr>\n",
              "      <th>25</th>\n",
              "      <td>performance_honda_accord_2008</td>\n",
              "      <td>Very happy with my 08 Accord, performance is quite adequate it has nice looks and is a great long,  distance cruiser .\\n0                                                                                                                                 6, 4, 3 eco engine has poor performance and gas mileage of 22 highway .\\n1                                                                                                                                                 Overall performance is good but comfort level is poor .\\n2                                                                                                                                        I'm impressed with the performance as well as efficiency gains .\\n3                                                                                                                             It has room, performance, good MPG for its size and excell...</td>\n",
              "      <td>4</td>\n",
              "    </tr>\n",
              "    <tr>\n",
              "      <th>29</th>\n",
              "      <td>quality_toyota_camry_2007</td>\n",
              "      <td>I previously owned a Toyota 4Runner which had incredible build quality and reliability .\\n0                                                                                                                                                                                                                                                                                               I bought the Camry because of Toyota reliability and quality .\\n1                                                                                                                                                                                                                        I purchased a 2007 Camry because of the looks of the redesigned model and b...</td>\n",
              "      <td>4</td>\n",
              "    </tr>\n",
              "    <tr>\n",
              "      <th>37</th>\n",
              "      <td>seats_honda_accord_2008</td>\n",
              "      <td>Front seats are very uncomfortable .\\n0                                                                                                                                                                                                                                  No memory seats, no trip computer, can only display outside temp with trip odometer .\\n1                                                                                                                                                                                                                                                                              needs power seats on the passenger side .\\n2                                                     ...</td>\n",
              "      <td>4</td>\n",
              "    </tr>\n",
              "    <tr>\n",
              "      <th>47</th>\n",
              "      <td>transmission_toyota_camry_2007</td>\n",
              "      <td>After slowing down, transmission has to be  kicked  to speed up .\\n0                                                                                                                                                                                                                                                                                                                                                I wonder if the people who have problems with rattles and transmission were built in the US .\\n1                                                                                                                                   ...</td>\n",
              "      <td>4</td>\n",
              "    </tr>\n",
              "  </tbody>\n",
              "</table>\n",
              "</div>"
            ],
            "text/plain": [
              "                          filename  \\\n",
              "6        comfort_honda_accord_2008   \n",
              "7        comfort_toyota_camry_2007   \n",
              "16   gas_mileage_toyota_camry_2007   \n",
              "17      interior_honda_accord_2008   \n",
              "18      interior_toyota_camry_2007   \n",
              "22       mileage_honda_accord_2008   \n",
              "25   performance_honda_accord_2008   \n",
              "29       quality_toyota_camry_2007   \n",
              "37         seats_honda_accord_2008   \n",
              "47  transmission_toyota_camry_2007   \n",
              "\n",
              "                                                                                                                                                                                                                                                                                                                                                                                                                                                                                                                                                                                                                                                                                                                                                                                                                                                                                                                                                                                                                               opinion_text  \\\n",
              "6                                                                                                                                                                                                                                                                                                                                                                                                 Drivers seat not comfortable, the car itself compared to other models of similar class .\\n0                                                                                                                                                                                                                                                                                                                                                                                                   It's very comfortable, remarkably large inside and just an overall great vehicle .\\n1                                                   ...   \n",
              "7                                                                                                                                                   Ride seems comfortable and gas mileage fairly good averaging 26 city and 30 open road .\\n0                                                                                                        Seats are fine, in fact of all the smaller sedans this is the most comfortable I found for the price as I am 6', 2  and 250# .\\n1                                                                                                                                                                                     Great gas mileage and comfortable on long trips .\\n2                                                                                                                                                                             Good gas mileage, comfortable seating, lots of leg room .\\n3                                                               ...   \n",
              "16                                                                                                                                                                                                                                                                                                                                                                              Ride seems comfortable and gas mileage fairly good averaging 26 city and 30 open road .\\n0                                                                                                                                                                                                                                                                                                                                                                                                                                     It gets great gas mileage   .\\n1                                                                                         ...   \n",
              "17                                                                                                                                                                                                                                                                                                                                                                                                                                                                             I love the new body style and the interior is a simple pleasure except for the center dash .\\n0                                                                                                                                                                                                                                                                             However, there are a couple of things that kill it for me 1 terrible driver seat comfort, kills my back 2 lack luster interior design, my Acadia has much better comfort 3 th...   \n",
              "18                                                                                                                                                                                                                                      First of all, the interior has way too many cheap plastic parts like the cheap plastic center piece that houses the clock .\\n0                                                                                                                                                                       3 blown struts at 30,000 miles, interior trim coming loose and rattling squeaking, stains on paint, and bug splats taking paint off, premature uneven brake wear, on 3rd windshield   .\\n1                                                                                                                                                                                                                                                                                                 ...   \n",
              "22                                                                                                                                                                                It's quiet, get good gas mileage and looks clean inside and out .\\n0                                                                                                                                                                     The mileage is great, and I've had to get used to stopping less for gas .\\n1                                                                                                                                                                                                         Thought gas mileage would be better .\\n2                                               There are trade offs that I have no problems with, my mileage after two tanks with mostly city driving is 21 but acceleration is very good, smooth, ride a little firm but enjoy the handling .\\n3                               ...   \n",
              "25                                                                                     Very happy with my 08 Accord, performance is quite adequate it has nice looks and is a great long,  distance cruiser .\\n0                                                                                                                                 6, 4, 3 eco engine has poor performance and gas mileage of 22 highway .\\n1                                                                                                                                                 Overall performance is good but comfort level is poor .\\n2                                                                                                                                        I'm impressed with the performance as well as efficiency gains .\\n3                                                                                                                             It has room, performance, good MPG for its size and excell...   \n",
              "29                                                                                                                                                                                                                                                                        I previously owned a Toyota 4Runner which had incredible build quality and reliability .\\n0                                                                                                                                                                                                                                                                                               I bought the Camry because of Toyota reliability and quality .\\n1                                                                                                                                                                                                                        I purchased a 2007 Camry because of the looks of the redesigned model and b...   \n",
              "37                                                                                                                                                                                                                                                                                      Front seats are very uncomfortable .\\n0                                                                                                                                                                                                                                  No memory seats, no trip computer, can only display outside temp with trip odometer .\\n1                                                                                                                                                                                                                                                                              needs power seats on the passenger side .\\n2                                                     ...   \n",
              "47                                                                                                                                                                                                                                                                                                                                                                               After slowing down, transmission has to be  kicked  to speed up .\\n0                                                                                                                                                                                                                                                                                                                                                I wonder if the people who have problems with rattles and transmission were built in the US .\\n1                                                                                                                                   ...   \n",
              "\n",
              "    cluster_label  \n",
              "6               4  \n",
              "7               4  \n",
              "16              4  \n",
              "17              4  \n",
              "18              4  \n",
              "22              4  \n",
              "25              4  \n",
              "29              4  \n",
              "37              4  \n",
              "47              4  "
            ]
          },
          "metadata": {},
          "execution_count": 21
        }
      ]
    },
    {
      "cell_type": "code",
      "metadata": {
        "id": "NP3loQICbeI_",
        "outputId": "fb8ad7bd-007e-4536-cde6-81e631495993"
      },
      "source": [
        "### cluster0~5중 겹치는 군집이 2개. 군집을 3개로 줄이기\n",
        "km_cluster = KMeans(n_clusters=3, max_iter=10000, random_state=0)\n",
        "km_cluster.fit(feature_vect)\n",
        "cluster_label = km_cluster.labels_\n",
        "cluster_centers = km_cluster.cluster_centers_\n",
        "\n",
        "document_df['cluster_label'] = cluster_label\n",
        "document_df.sort_values(by='cluster_label')\n",
        "### cluster0:전자기기, cluster1:호텔, cluster2:자동차리뷰 로 군집화가 잘 됨"
      ],
      "execution_count": null,
      "outputs": [
        {
          "output_type": "execute_result",
          "data": {
            "text/html": [
              "<div>\n",
              "<style scoped>\n",
              "    .dataframe tbody tr th:only-of-type {\n",
              "        vertical-align: middle;\n",
              "    }\n",
              "\n",
              "    .dataframe tbody tr th {\n",
              "        vertical-align: top;\n",
              "    }\n",
              "\n",
              "    .dataframe thead th {\n",
              "        text-align: right;\n",
              "    }\n",
              "</style>\n",
              "<table border=\"1\" class=\"dataframe\">\n",
              "  <thead>\n",
              "    <tr style=\"text-align: right;\">\n",
              "      <th></th>\n",
              "      <th>filename</th>\n",
              "      <th>opinion_text</th>\n",
              "      <th>cluster_label</th>\n",
              "    </tr>\n",
              "  </thead>\n",
              "  <tbody>\n",
              "    <tr>\n",
              "      <th>0</th>\n",
              "      <td>accuracy_garmin_nuvi_255W_gps</td>\n",
              "      <td>, and is very, very accurate .\\n0                                                                                                                                                                           but for the most part, we find that the Garmin software provides accurate directions, whereever we intend to go .\\n1                                                                                                              This function is not accurate if you don't leave it in battery mode say, when you stop at the Cracker Barrell for lunch and to play one of those trangle games with the tees .\\n2                                                                                                                                      ...</td>\n",
              "      <td>0</td>\n",
              "    </tr>\n",
              "    <tr>\n",
              "      <th>48</th>\n",
              "      <td>updates_garmin_nuvi_255W_gps</td>\n",
              "      <td>Another thing to consider was that I paid $50 less for the 750 and it came with the FM transmitter cable and a USB cord to connect it to your computer for updates and downloads .\\n0                                                                                                                                                                                                update and reroute much _more_ quickly than my other GPS   .\\n1                                                                                                       UPDATE ON THIS ,  It finally turned out that to see the elevation contours at lower zoom levels   you have to reduce the amount of detail displayed .\\n2                                                                                                                                                                                           it's a curiousity for most of us, traffic a...</td>\n",
              "      <td>0</td>\n",
              "    </tr>\n",
              "    <tr>\n",
              "      <th>44</th>\n",
              "      <td>speed_windows7</td>\n",
              "      <td>Windows 7 is quite simply faster, more stable, boots faster, goes to sleep faster, comes back from sleep faster, manages your files better and on top of that it's beautiful to look at and easy to use .\\n0                                                                                                                                                                                                                                           , faster about 20% to 30% faster at running applications than my Vista ,  seriously\\n1                                                                                                                                                                                                                                                                            Yes, it'll make your computer run a bit slower but\\n2                                ...</td>\n",
              "      <td>0</td>\n",
              "    </tr>\n",
              "    <tr>\n",
              "      <th>43</th>\n",
              "      <td>speed_garmin_nuvi_255W_gps</td>\n",
              "      <td>Another feature on the 255w is a display of the posted speed limit on the road which you are currently on right above your current displayed speed .\\n0                                                                                                                                                                   I found myself not even looking at my car speedometer as I could easily see my current speed and the speed limit of my route at a glance .\\n1                                                                                                                                        My final decision was to keep the 255w and return the 750 because I really liked the graphic turn indicator and the posted speed limit and current speed indicators .\\n2                                                                                   ...</td>\n",
              "      <td>0</td>\n",
              "    </tr>\n",
              "    <tr>\n",
              "      <th>42</th>\n",
              "      <td>sound_ipod_nano_8gb</td>\n",
              "      <td>headphone jack i got a clear case for it and it  i got a clear case for it and it like prvents me from being able to put the jack all the way in so the sound can b messsed up or i can get it in there and its playing well them go to move or something and it slides out .\\n0                                                                                                                                                                                                                 Picture and sound quality are excellent for this typ of devic .\\n1                                                                                                                                                                                                                  Great sound, easy to load &amp; use once I read the instructions .\\n2                                                                                                                                                                          ...</td>\n",
              "      <td>0</td>\n",
              "    </tr>\n",
              "    <tr>\n",
              "      <th>41</th>\n",
              "      <td>size_asus_netbook_1005ha</td>\n",
              "      <td>A few other things I'd like to point out is that you must push the micro, sized right angle end of the ac adapter until it snaps in place or the battery may not charge .\\n0                                                                                                                                                                                                                                                                                                           The full size right shift key was enough for me to drop my 1000HE .\\n1                                                                                                                                                                                                                                                                 ...</td>\n",
              "      <td>0</td>\n",
              "    </tr>\n",
              "    <tr>\n",
              "      <th>36</th>\n",
              "      <td>screen_netbook_1005ha</td>\n",
              "      <td>Keep in mind that once you get in a room full of light or step outdoors screen reflections could become annoying .\\n0                                                                                                                                                                                                                                                                                                       I've used mine outside on a sunny day, and the screen is still very much legible .\\n1                                                                                                                                                                                                                                           ...</td>\n",
              "      <td>0</td>\n",
              "    </tr>\n",
              "    <tr>\n",
              "      <th>35</th>\n",
              "      <td>screen_ipod_nano_8gb</td>\n",
              "      <td>As always, the video screen is sharp and bright .\\n0                                                                                                                                                                                                        2, inch screen   and a glossy, polished aluminum finish that one CNET editor described as looking like a Christmas tree ornament .\\n1                                                                                                                                                                                                                    Still, video fans should consider stepping up to a product with a larger screen, such as the Zune HD   or iPod Touch ...</td>\n",
              "      <td>0</td>\n",
              "    </tr>\n",
              "    <tr>\n",
              "      <th>34</th>\n",
              "      <td>screen_garmin_nuvi_255W_gps</td>\n",
              "      <td>It is easy to read and when touching the screen it works great !\\n0                                                                                                                                                                    and zoom out   buttons on the 255w to the same side of the screen which makes it a bit easier .\\n1                                                                                                                                                                                                  On the 750 the zoom buttons are on opposite sides of the screen .\\n2                                                                                                                                                                   The screen is easily readable in the sun, and ...</td>\n",
              "      <td>0</td>\n",
              "    </tr>\n",
              "    <tr>\n",
              "      <th>33</th>\n",
              "      <td>satellite_garmin_nuvi_255W_gps</td>\n",
              "      <td>It's fast to acquire satellites .\\n0    If you've ever had a  Brand X  GPS take you on some strange route that adds 20 minutes to your trip, has you turn the wrong way down a one way road, tell you to turn AFTER you've passed the street, frequently loses the satellite signal, or has old maps missing streets, you know how important this stuff is .\\n1                                                                                                                                                                       The Garmin Nuvi 255W connects to satellites extremely fast, , So when I get in my car and turn it on, we're pretty much ready to go immediately .\\n2                                                  ...</td>\n",
              "      <td>0</td>\n",
              "    </tr>\n",
              "    <tr>\n",
              "      <th>27</th>\n",
              "      <td>price_amazon_kindle</td>\n",
              "      <td>If a case was included, as with the Kindle 1, that would have been reflected in a higher price .\\n0                                                                                                                                                                                                                                                                                lower overall price, with nice leather cover .\\n1                                                                                                                                          If you have the first Kindle and are deciding whether to upgrade, do it now while you can still get a good price for your old Kindle on Amazon's Marketplace, craigslist, wherever .\\n2    Before purchasing, I was obs...</td>\n",
              "      <td>0</td>\n",
              "    </tr>\n",
              "    <tr>\n",
              "      <th>26</th>\n",
              "      <td>performance_netbook_1005ha</td>\n",
              "      <td>The Eee Super Hybrid Engine utility lets users overclock or underclock their Eee PC's to boost performance or provide better battery life depending on their immediate requirements .\\n0                                                                                                                                                                                                                  In Super Performance mode CPU, Z shows the bus speed to increase up to 169 .\\n1                                                                                                                  One word of advice is to be really careful about which anti, malware software you install since it will degrade performance both on and off the internet on these netbooks .\\n2                                                                                                                                ...</td>\n",
              "      <td>0</td>\n",
              "    </tr>\n",
              "    <tr>\n",
              "      <th>49</th>\n",
              "      <td>video_ipod_nano_8gb</td>\n",
              "      <td>I bought the 8, gig Ipod Nano that has the built, in video camera .\\n0                                                                                                                                                                                                                      Itunes has an on, line store, where you may purchase and download music and videos which will install onto the ipod .\\n1                                                                                                                                                           I have lots of music cd's and dvd's, so currently I'm just interested in storing some of my music and videos on the ipod so I can enjoy them on my vacation, and while at wo...</td>\n",
              "      <td>0</td>\n",
              "    </tr>\n",
              "    <tr>\n",
              "      <th>23</th>\n",
              "      <td>navigation_amazon_kindle</td>\n",
              "      <td>In fact, the entire navigation structure has been completely revised ,  I'm still getting used to it but it's a huge step forward .\\n0                                                                                                                                                                                                                                                                                                                                                                                                                 Navigation is a huge improvement .\\n1                                                                                                                       ...</td>\n",
              "      <td>0</td>\n",
              "    </tr>\n",
              "    <tr>\n",
              "      <th>19</th>\n",
              "      <td>keyboard_netbook_1005ha</td>\n",
              "      <td>,  I think the new keyboard rivals the great hp mini keyboards .\\n0                                                                                                                                 Since the battery life difference is minimum, the only reason to upgrade would be to get the better keyboard .\\n1                                                                                                                                                                                   The keyboard is now as good as the HP and Samsung netbooks .\\n2                                                                                                                                       The keyboards are 92% the size of those found on a standard computer and the machines run a little hot .\\n3                           ...</td>\n",
              "      <td>0</td>\n",
              "    </tr>\n",
              "    <tr>\n",
              "      <th>50</th>\n",
              "      <td>voice_garmin_nuvi_255W_gps</td>\n",
              "      <td>The voice prompts and maps are wonderful especially when driving after dark .\\n0                                                                                                                                                                               I also thought the the voice prompts of the 750 where more pleasant sounding than the 255w's .\\n1                                                                                                                                                                                           The 750 sounds more like a real female voice, where the 255w sounds more robotic .\\n2                                                                                                                                                                                   ...</td>\n",
              "      <td>0</td>\n",
              "    </tr>\n",
              "    <tr>\n",
              "      <th>9</th>\n",
              "      <td>display_garmin_nuvi_255W_gps</td>\n",
              "      <td>3 quot  widescreen display was a bonus .\\n0                                                                                                                                           This made for smoother graphics on the 255w of the vehicle moving along displayed roads, where the 750's display was more of a  jerky  movement .\\n1                                                                                                                                                       I also found that the display on the 255w was a bit brighter, clearer, and more vivid than on the 750 in both daylight and at night .\\n2                                                                                                                                      ...</td>\n",
              "      <td>0</td>\n",
              "    </tr>\n",
              "    <tr>\n",
              "      <th>2</th>\n",
              "      <td>battery-life_amazon_kindle</td>\n",
              "      <td>After I plugged it in to my USB hub on my computer to charge the battery the charging cord design is very clever !\\n0                                                                                                                                     After you have paged tru a 500, page book one, page, at, a, time to get from Chapter 2 to Chapter 15, see how excited you are about a low battery and all the time it took to get there !\\n1                                                                                                                                                                                                                                                 NO USER REPLACEABLE BATTERY, , Unless you buy the extended warranty for $65 .\\n2                                ...</td>\n",
              "      <td>0</td>\n",
              "    </tr>\n",
              "    <tr>\n",
              "      <th>3</th>\n",
              "      <td>battery-life_ipod_nano_8gb</td>\n",
              "      <td>short battery life  I moved up from an 8gb .\\n0                                                                                                                                                                                                                                                                                            I love this ipod except for the battery life .\\n1                                                                                                                                                                                                                                                                                                           long battery  scratch resistan...</td>\n",
              "      <td>0</td>\n",
              "    </tr>\n",
              "    <tr>\n",
              "      <th>4</th>\n",
              "      <td>battery-life_netbook_1005ha</td>\n",
              "      <td>6GHz 533FSB cpu, glossy display, 3, Cell 23Wh Li, ion Battery  , and a 1 .\\n0                                                                                                                                                                                                                                                                                              Not to mention that as of now Asus will not sell you a spare 3 or 6, cell Li, Ion battery .\\n1                                                                                                                                                                                                                                           ...</td>\n",
              "      <td>0</td>\n",
              "    </tr>\n",
              "    <tr>\n",
              "      <th>5</th>\n",
              "      <td>buttons_amazon_kindle</td>\n",
              "      <td>I thought it would be fitting to christen my Kindle with the Stephen King novella UR, so went to the Amazon site on my computer and clicked on the button to buy it .\\n0                                                                                                                                                                                                            As soon as I'd clicked the button to confirm my order it appeared on my Kindle almost immediately !\\n1                                                                                                                After reading through the introductory guide that loads up automatically at the start and following along it took me almost no time to learn which buttons are where and what each of them do .\\n2                                                   I started reading with the...</td>\n",
              "      <td>0</td>\n",
              "    </tr>\n",
              "    <tr>\n",
              "      <th>12</th>\n",
              "      <td>fonts_amazon_kindle</td>\n",
              "      <td>Being able to change the font sizes is awesome !\\n0                                                                                                                                                                                                                                                                        For whatever reason, Amazon decided to make the Font on the Home Screen   than on the K1 .\\n1                                                                                                                                                                                                                                      I found myself constantly changing the angle of the...</td>\n",
              "      <td>0</td>\n",
              "    </tr>\n",
              "    <tr>\n",
              "      <th>11</th>\n",
              "      <td>features_windows7</td>\n",
              "      <td>I had to uninstall anti, virus and selected other programs, some of which did not have listings in the  Programs and Features  Control Panel section .\\n0                                                                                                                                                                                                                           This review briefly touches upon some of the key features and enhancements of Microsoft's latest OS .\\n1                                                                                                                                                                                                                                      All of these features combine to create a much improved and enjoyable desktop experience .\\n2                          ...</td>\n",
              "      <td>0</td>\n",
              "    </tr>\n",
              "    <tr>\n",
              "      <th>10</th>\n",
              "      <td>eyesight-issues_amazon_kindle</td>\n",
              "      <td>It feels as easy to read as the K1 but doesn't seem any crisper to my eyes   .\\n0                                                                                                                                                            the white is really GREY, and to avoid considerable eye, strain I had to refresh pages   every other page .\\n1                                    The dream has always been a portable electronic device that could hold a ton of reading material, automate subscriptions and facilitate quick easy downloads, and be as portable, as easy on the eyes, and as intuitive as a book .\\n2                                                                                                                                                                                                     ...</td>\n",
              "      <td>0</td>\n",
              "    </tr>\n",
              "    <tr>\n",
              "      <th>8</th>\n",
              "      <td>directions_garmin_nuvi_255W_gps</td>\n",
              "      <td>You also get upscale features like spoken directions including street names and programmable POIs .\\n0                                                                                                                                                                                                                                                                                                I used to hesitate to go out of my directions but not any more .\\n1                                                                                                                                                                                                                                                            the directions didn't tell me any...</td>\n",
              "      <td>0</td>\n",
              "    </tr>\n",
              "    <tr>\n",
              "      <th>47</th>\n",
              "      <td>transmission_toyota_camry_2007</td>\n",
              "      <td>After slowing down, transmission has to be  kicked  to speed up .\\n0                                                                                                                                                                                                                                                                                                                                                I wonder if the people who have problems with rattles and transmission were built in the US .\\n1                                                                                                                                   ...</td>\n",
              "      <td>1</td>\n",
              "    </tr>\n",
              "    <tr>\n",
              "      <th>37</th>\n",
              "      <td>seats_honda_accord_2008</td>\n",
              "      <td>Front seats are very uncomfortable .\\n0                                                                                                                                                                                                                                  No memory seats, no trip computer, can only display outside temp with trip odometer .\\n1                                                                                                                                                                                                                                                                              needs power seats on the passenger side .\\n2                                                     ...</td>\n",
              "      <td>1</td>\n",
              "    </tr>\n",
              "    <tr>\n",
              "      <th>6</th>\n",
              "      <td>comfort_honda_accord_2008</td>\n",
              "      <td>Drivers seat not comfortable, the car itself compared to other models of similar class .\\n0                                                                                                                                                                                                                                                                                                                                                                                                   It's very comfortable, remarkably large inside and just an overall great vehicle .\\n1                                                   ...</td>\n",
              "      <td>1</td>\n",
              "    </tr>\n",
              "    <tr>\n",
              "      <th>7</th>\n",
              "      <td>comfort_toyota_camry_2007</td>\n",
              "      <td>Ride seems comfortable and gas mileage fairly good averaging 26 city and 30 open road .\\n0                                                                                                        Seats are fine, in fact of all the smaller sedans this is the most comfortable I found for the price as I am 6', 2  and 250# .\\n1                                                                                                                                                                                     Great gas mileage and comfortable on long trips .\\n2                                                                                                                                                                             Good gas mileage, comfortable seating, lots of leg room .\\n3                                                               ...</td>\n",
              "      <td>1</td>\n",
              "    </tr>\n",
              "    <tr>\n",
              "      <th>16</th>\n",
              "      <td>gas_mileage_toyota_camry_2007</td>\n",
              "      <td>Ride seems comfortable and gas mileage fairly good averaging 26 city and 30 open road .\\n0                                                                                                                                                                                                                                                                                                                                                                                                                                     It gets great gas mileage   .\\n1                                                                                         ...</td>\n",
              "      <td>1</td>\n",
              "    </tr>\n",
              "    <tr>\n",
              "      <th>25</th>\n",
              "      <td>performance_honda_accord_2008</td>\n",
              "      <td>Very happy with my 08 Accord, performance is quite adequate it has nice looks and is a great long,  distance cruiser .\\n0                                                                                                                                 6, 4, 3 eco engine has poor performance and gas mileage of 22 highway .\\n1                                                                                                                                                 Overall performance is good but comfort level is poor .\\n2                                                                                                                                        I'm impressed with the performance as well as efficiency gains .\\n3                                                                                                                             It has room, performance, good MPG for its size and excell...</td>\n",
              "      <td>1</td>\n",
              "    </tr>\n",
              "    <tr>\n",
              "      <th>17</th>\n",
              "      <td>interior_honda_accord_2008</td>\n",
              "      <td>I love the new body style and the interior is a simple pleasure except for the center dash .\\n0                                                                                                                                                                                                                                                                             However, there are a couple of things that kill it for me 1 terrible driver seat comfort, kills my back 2 lack luster interior design, my Acadia has much better comfort 3 th...</td>\n",
              "      <td>1</td>\n",
              "    </tr>\n",
              "    <tr>\n",
              "      <th>18</th>\n",
              "      <td>interior_toyota_camry_2007</td>\n",
              "      <td>First of all, the interior has way too many cheap plastic parts like the cheap plastic center piece that houses the clock .\\n0                                                                                                                                                                       3 blown struts at 30,000 miles, interior trim coming loose and rattling squeaking, stains on paint, and bug splats taking paint off, premature uneven brake wear, on 3rd windshield   .\\n1                                                                                                                                                                                                                                                                                                 ...</td>\n",
              "      <td>1</td>\n",
              "    </tr>\n",
              "    <tr>\n",
              "      <th>22</th>\n",
              "      <td>mileage_honda_accord_2008</td>\n",
              "      <td>It's quiet, get good gas mileage and looks clean inside and out .\\n0                                                                                                                                                                     The mileage is great, and I've had to get used to stopping less for gas .\\n1                                                                                                                                                                                                         Thought gas mileage would be better .\\n2                                               There are trade offs that I have no problems with, my mileage after two tanks with mostly city driving is 21 but acceleration is very good, smooth, ride a little firm but enjoy the handling .\\n3                               ...</td>\n",
              "      <td>1</td>\n",
              "    </tr>\n",
              "    <tr>\n",
              "      <th>29</th>\n",
              "      <td>quality_toyota_camry_2007</td>\n",
              "      <td>I previously owned a Toyota 4Runner which had incredible build quality and reliability .\\n0                                                                                                                                                                                                                                                                                               I bought the Camry because of Toyota reliability and quality .\\n1                                                                                                                                                                                                                        I purchased a 2007 Camry because of the looks of the redesigned model and b...</td>\n",
              "      <td>1</td>\n",
              "    </tr>\n",
              "    <tr>\n",
              "      <th>1</th>\n",
              "      <td>bathroom_bestwestern_hotel_sfo</td>\n",
              "      <td>The room was not overly big, but clean and very comfortable beds, a great shower and very clean bathrooms .\\n0                                                                                                                                                                                                                          The second room was smaller, with a very inconvenient bathroom layout, but at least it was quieter and we were able to sleep .\\n1                                                                                                                                                                                                                                                                                                            L...</td>\n",
              "      <td>2</td>\n",
              "    </tr>\n",
              "    <tr>\n",
              "      <th>46</th>\n",
              "      <td>staff_swissotel_chicago</td>\n",
              "      <td>The staff at Swissotel were not particularly nice .\\n0                                                                                                                                                               Each time I waited at the counter for staff   for several minutes and then was waved to the desk upon my turn with no hello or anything, or apology for waiting in line .\\n1                                                                                                                                                                                                                                     All staff members are very courteous and go the extra mile in meeting your needs during your stay .\\n2  ...</td>\n",
              "      <td>2</td>\n",
              "    </tr>\n",
              "    <tr>\n",
              "      <th>45</th>\n",
              "      <td>staff_bestwestern_hotel_sfo</td>\n",
              "      <td>Staff are friendly and helpful   .\\n0                                                                                                                                                                                                                                                                                        ...</td>\n",
              "      <td>2</td>\n",
              "    </tr>\n",
              "    <tr>\n",
              "      <th>14</th>\n",
              "      <td>food_swissotel_chicago</td>\n",
              "      <td>The food for our event was delicious .\\n0                                                                                                                                                                                                                                                                                                                         The food in the lounge was great and very fresh, , , salads, sandwiches etc .\\n1                                                                                                                                                                                                                 ...</td>\n",
              "      <td>2</td>\n",
              "    </tr>\n",
              "    <tr>\n",
              "      <th>20</th>\n",
              "      <td>location_bestwestern_hotel_sfo</td>\n",
              "      <td>Good Value good location ,  ideal choice .\\n0                                                                                                                                                                                                                                                                                          Great Location ,  Nice   Rooms ,  Helpless Concierge\\n1                                                                                                                                                                                                                                     The location is good, and the overall decor is nice, but there was nothing that I can really...</td>\n",
              "      <td>2</td>\n",
              "    </tr>\n",
              "    <tr>\n",
              "      <th>21</th>\n",
              "      <td>location_holiday_inn_london</td>\n",
              "      <td>Great location for tube and we crammed in a fair amount of sightseeing in a short time .\\n0                                                                                                                                                                                                                                                                All in all, a normal chain hotel on a nice location  , I will be back if I do not find anthing closer to Picadilly for a better price .\\n1                                                                                                                                                                                                               ...</td>\n",
              "      <td>2</td>\n",
              "    </tr>\n",
              "    <tr>\n",
              "      <th>30</th>\n",
              "      <td>rooms_bestwestern_hotel_sfo</td>\n",
              "      <td>Great Location ,  Nice   Rooms ,  Helpless Concierge\\n0                                                                                                                                                                                                                                                                                        ...</td>\n",
              "      <td>2</td>\n",
              "    </tr>\n",
              "    <tr>\n",
              "      <th>38</th>\n",
              "      <td>service_bestwestern_hotel_sfo</td>\n",
              "      <td>Both of us having worked in tourism for over 14 years were very disappointed at the level of service provided by this gentleman .\\n0                                                                                                                                                                                              The service was good, very friendly staff and we loved the free wine reception each night .\\n1                                                                                                                                                                                                                  Also, thanks to Ken the concierge for recommending Grand Limo service .\\n2                                                                                                                                               ...</td>\n",
              "      <td>2</td>\n",
              "    </tr>\n",
              "    <tr>\n",
              "      <th>13</th>\n",
              "      <td>food_holiday_inn_london</td>\n",
              "      <td>The room was packed to capacity with queues at the food buffets .\\n0                                                                                                                                                   The over zealous   staff cleared our unfinished drinks while we were collecting cooked food and movement around the room with plates was difficult in the crowded circumstances .\\n1                                                                                                                                                                                                                                         There are a couple pubs, a great patisserie and even fast food restaurants within a block .\\n2              ...</td>\n",
              "      <td>2</td>\n",
              "    </tr>\n",
              "    <tr>\n",
              "      <th>24</th>\n",
              "      <td>parking_bestwestern_hotel_sfo</td>\n",
              "      <td>Parking was expensive but I think this is common for San Fran .\\n0                                                                                                                                                                                        there is a fee for parking but well worth it seeing no where to park if you do have a car .\\n1                                                                                                                                                        The parking was free, which was great, and the hotel was conveniently located for public transport, and local attractions .\\n2                                                                                                                                                                 ...</td>\n",
              "      <td>2</td>\n",
              "    </tr>\n",
              "    <tr>\n",
              "      <th>28</th>\n",
              "      <td>price_holiday_inn_london</td>\n",
              "      <td>All in all, a normal chain hotel on a nice location  , I will be back if I do not find anthing closer to Picadilly for a better price .\\n0                                                                                                                                                                                                                                                                                                                                                                                                                                                                    Great Price Terrific Location .\\n1                       ...</td>\n",
              "      <td>2</td>\n",
              "    </tr>\n",
              "    <tr>\n",
              "      <th>15</th>\n",
              "      <td>free_bestwestern_hotel_sfo</td>\n",
              "      <td>The wine reception is a great idea as it is nice to meet other travellers and great having access to the free Internet access in our room .\\n0                                                                                      They also have a computer available with free internet which is a nice bonus but I didn't find that out till the day before we left but was still able to get on there to check our flight to Vegas the next day .\\n1                                                                                                                                                                                                             The service was good, very friendly staff and we loved the free wine reception each night .\\n2                                                                                                  ...</td>\n",
              "      <td>2</td>\n",
              "    </tr>\n",
              "    <tr>\n",
              "      <th>32</th>\n",
              "      <td>room_holiday_inn_london</td>\n",
              "      <td>We arrived at 23,30 hours and they could not recommend a restaurant so we decided to go to Tesco, with very limited choices but when you are hingry you do not careNext day they rang the bell at 8,00 hours to clean the room, not being very nice being waken up so earlyEvery day they gave us a candy bar and two bottlets of water whic is a very nice touch .\\n0                                                                                                                                                                                                                                      ...</td>\n",
              "      <td>2</td>\n",
              "    </tr>\n",
              "    <tr>\n",
              "      <th>31</th>\n",
              "      <td>rooms_swissotel_chicago</td>\n",
              "      <td>The Swissotel is one of our favorite hotels in Chicago and the corner rooms have the most fantastic views in the city .\\n0                                                                                                                                   The rooms look like they were just remodled and upgraded, there was an HD TV and a nice iHome docking station to put my iPod so I could set the alarm to wake up with my music instead of the radio .\\n1                                                                                                                                                                                                                                                                                  Great rooms staff and location but extras overpriced .\\n2  ...</td>\n",
              "      <td>2</td>\n",
              "    </tr>\n",
              "    <tr>\n",
              "      <th>39</th>\n",
              "      <td>service_holiday_inn_london</td>\n",
              "      <td>not customer, oriented hotelvery low service levelboor reception\\n0                                                                                                                                                                                                                                                                    The room was quiet, clean, the bed and pillows were comfortable, and the service was adequate .\\n1                                                                                                                                                                                                                                                                                 There ...</td>\n",
              "      <td>2</td>\n",
              "    </tr>\n",
              "    <tr>\n",
              "      <th>40</th>\n",
              "      <td>service_swissotel_hotel_chicago</td>\n",
              "      <td>Mediocre room and service for a very extravagant price .\\n0                                                                                                                                                                                                                                                                                                                                                The accomodations and support services are phenomenal .\\n1                                                                                                                                                                                                 no robes in th...</td>\n",
              "      <td>2</td>\n",
              "    </tr>\n",
              "  </tbody>\n",
              "</table>\n",
              "</div>"
            ],
            "text/plain": [
              "                           filename  \\\n",
              "0     accuracy_garmin_nuvi_255W_gps   \n",
              "48     updates_garmin_nuvi_255W_gps   \n",
              "44                   speed_windows7   \n",
              "43       speed_garmin_nuvi_255W_gps   \n",
              "42              sound_ipod_nano_8gb   \n",
              "41         size_asus_netbook_1005ha   \n",
              "36            screen_netbook_1005ha   \n",
              "35             screen_ipod_nano_8gb   \n",
              "34      screen_garmin_nuvi_255W_gps   \n",
              "33   satellite_garmin_nuvi_255W_gps   \n",
              "27              price_amazon_kindle   \n",
              "26       performance_netbook_1005ha   \n",
              "49              video_ipod_nano_8gb   \n",
              "23         navigation_amazon_kindle   \n",
              "19          keyboard_netbook_1005ha   \n",
              "50       voice_garmin_nuvi_255W_gps   \n",
              "9      display_garmin_nuvi_255W_gps   \n",
              "2        battery-life_amazon_kindle   \n",
              "3        battery-life_ipod_nano_8gb   \n",
              "4       battery-life_netbook_1005ha   \n",
              "5             buttons_amazon_kindle   \n",
              "12              fonts_amazon_kindle   \n",
              "11                features_windows7   \n",
              "10    eyesight-issues_amazon_kindle   \n",
              "8   directions_garmin_nuvi_255W_gps   \n",
              "47   transmission_toyota_camry_2007   \n",
              "37          seats_honda_accord_2008   \n",
              "6         comfort_honda_accord_2008   \n",
              "7         comfort_toyota_camry_2007   \n",
              "16    gas_mileage_toyota_camry_2007   \n",
              "25    performance_honda_accord_2008   \n",
              "17       interior_honda_accord_2008   \n",
              "18       interior_toyota_camry_2007   \n",
              "22        mileage_honda_accord_2008   \n",
              "29        quality_toyota_camry_2007   \n",
              "1    bathroom_bestwestern_hotel_sfo   \n",
              "46          staff_swissotel_chicago   \n",
              "45      staff_bestwestern_hotel_sfo   \n",
              "14           food_swissotel_chicago   \n",
              "20   location_bestwestern_hotel_sfo   \n",
              "21      location_holiday_inn_london   \n",
              "30      rooms_bestwestern_hotel_sfo   \n",
              "38    service_bestwestern_hotel_sfo   \n",
              "13          food_holiday_inn_london   \n",
              "24    parking_bestwestern_hotel_sfo   \n",
              "28         price_holiday_inn_london   \n",
              "15       free_bestwestern_hotel_sfo   \n",
              "32          room_holiday_inn_london   \n",
              "31          rooms_swissotel_chicago   \n",
              "39       service_holiday_inn_london   \n",
              "40  service_swissotel_hotel_chicago   \n",
              "\n",
              "                                                                                                                                                                                                                                                                                                                                                                                                                                                                                                                                                                                                                                                                                                                                                                                                                                                                                                                                                                                                                               opinion_text  \\\n",
              "0                                                                                                                                                                                                                                                                  , and is very, very accurate .\\n0                                                                                                                                                                           but for the most part, we find that the Garmin software provides accurate directions, whereever we intend to go .\\n1                                                                                                              This function is not accurate if you don't leave it in battery mode say, when you stop at the Cracker Barrell for lunch and to play one of those trangle games with the tees .\\n2                                                                                                                                      ...   \n",
              "48                                                                             Another thing to consider was that I paid $50 less for the 750 and it came with the FM transmitter cable and a USB cord to connect it to your computer for updates and downloads .\\n0                                                                                                                                                                                                update and reroute much _more_ quickly than my other GPS   .\\n1                                                                                                       UPDATE ON THIS ,  It finally turned out that to see the elevation contours at lower zoom levels   you have to reduce the amount of detail displayed .\\n2                                                                                                                                                                                           it's a curiousity for most of us, traffic a...   \n",
              "44                                                                                                                        Windows 7 is quite simply faster, more stable, boots faster, goes to sleep faster, comes back from sleep faster, manages your files better and on top of that it's beautiful to look at and easy to use .\\n0                                                                                                                                                                                                                                           , faster about 20% to 30% faster at running applications than my Vista ,  seriously\\n1                                                                                                                                                                                                                                                                            Yes, it'll make your computer run a bit slower but\\n2                                ...   \n",
              "43                                                                                                                                                            Another feature on the 255w is a display of the posted speed limit on the road which you are currently on right above your current displayed speed .\\n0                                                                                                                                                                   I found myself not even looking at my car speedometer as I could easily see my current speed and the speed limit of my route at a glance .\\n1                                                                                                                                        My final decision was to keep the 255w and return the 750 because I really liked the graphic turn indicator and the posted speed limit and current speed indicators .\\n2                                                                                   ...   \n",
              "42      headphone jack i got a clear case for it and it  i got a clear case for it and it like prvents me from being able to put the jack all the way in so the sound can b messsed up or i can get it in there and its playing well them go to move or something and it slides out .\\n0                                                                                                                                                                                                                 Picture and sound quality are excellent for this typ of devic .\\n1                                                                                                                                                                                                                  Great sound, easy to load & use once I read the instructions .\\n2                                                                                                                                                                          ...   \n",
              "41                                                                                                                                                                                                        A few other things I'd like to point out is that you must push the micro, sized right angle end of the ac adapter until it snaps in place or the battery may not charge .\\n0                                                                                                                                                                                                                                                                                                           The full size right shift key was enough for me to drop my 1000HE .\\n1                                                                                                                                                                                                                                                                 ...   \n",
              "36                                                                                                                                                                                                                                                                          Keep in mind that once you get in a room full of light or step outdoors screen reflections could become annoying .\\n0                                                                                                                                                                                                                                                                                                       I've used mine outside on a sunny day, and the screen is still very much legible .\\n1                                                                                                                                                                                                                                           ...   \n",
              "35                                                                                                                                                                                                                                                                                            As always, the video screen is sharp and bright .\\n0                                                                                                                                                                                                        2, inch screen   and a glossy, polished aluminum finish that one CNET editor described as looking like a Christmas tree ornament .\\n1                                                                                                                                                                                                                    Still, video fans should consider stepping up to a product with a larger screen, such as the Zune HD   or iPod Touch ...   \n",
              "34                                                                                                                                                                                                      It is easy to read and when touching the screen it works great !\\n0                                                                                                                                                                    and zoom out   buttons on the 255w to the same side of the screen which makes it a bit easier .\\n1                                                                                                                                                                                                  On the 750 the zoom buttons are on opposite sides of the screen .\\n2                                                                                                                                                                   The screen is easily readable in the sun, and ...   \n",
              "33                                                                                                                                                                                                                                                                                          It's fast to acquire satellites .\\n0    If you've ever had a  Brand X  GPS take you on some strange route that adds 20 minutes to your trip, has you turn the wrong way down a one way road, tell you to turn AFTER you've passed the street, frequently loses the satellite signal, or has old maps missing streets, you know how important this stuff is .\\n1                                                                                                                                                                       The Garmin Nuvi 255W connects to satellites extremely fast, , So when I get in my car and turn it on, we're pretty much ready to go immediately .\\n2                                                  ...   \n",
              "27                                                                                                                                                                                                                                 If a case was included, as with the Kindle 1, that would have been reflected in a higher price .\\n0                                                                                                                                                                                                                                                                                lower overall price, with nice leather cover .\\n1                                                                                                                                          If you have the first Kindle and are deciding whether to upgrade, do it now while you can still get a good price for your old Kindle on Amazon's Marketplace, craigslist, wherever .\\n2    Before purchasing, I was obs...   \n",
              "26                                                                                                            The Eee Super Hybrid Engine utility lets users overclock or underclock their Eee PC's to boost performance or provide better battery life depending on their immediate requirements .\\n0                                                                                                                                                                                                                  In Super Performance mode CPU, Z shows the bus speed to increase up to 169 .\\n1                                                                                                                  One word of advice is to be really careful about which anti, malware software you install since it will degrade performance both on and off the internet on these netbooks .\\n2                                                                                                                                ...   \n",
              "49                                                                                                                                                                                                                                                                           I bought the 8, gig Ipod Nano that has the built, in video camera .\\n0                                                                                                                                                                                                                      Itunes has an on, line store, where you may purchase and download music and videos which will install onto the ipod .\\n1                                                                                                                                                           I have lots of music cd's and dvd's, so currently I'm just interested in storing some of my music and videos on the ipod so I can enjoy them on my vacation, and while at wo...   \n",
              "23                                                                                                                                                                                                                                                                                                                   In fact, the entire navigation structure has been completely revised ,  I'm still getting used to it but it's a huge step forward .\\n0                                                                                                                                                                                                                                                                                                                                                                                                                 Navigation is a huge improvement .\\n1                                                                                                                       ...   \n",
              "19                                                                                                                                                                                  ,  I think the new keyboard rivals the great hp mini keyboards .\\n0                                                                                                                                 Since the battery life difference is minimum, the only reason to upgrade would be to get the better keyboard .\\n1                                                                                                                                                                                   The keyboard is now as good as the HP and Samsung netbooks .\\n2                                                                                                                                       The keyboards are 92% the size of those found on a standard computer and the machines run a little hot .\\n3                           ...   \n",
              "50                                                                                                                                                                                                   The voice prompts and maps are wonderful especially when driving after dark .\\n0                                                                                                                                                                               I also thought the the voice prompts of the 750 where more pleasant sounding than the 255w's .\\n1                                                                                                                                                                                           The 750 sounds more like a real female voice, where the 255w sounds more robotic .\\n2                                                                                                                                                                                   ...   \n",
              "9                                                                                                                                                                                                                                                        3 quot  widescreen display was a bonus .\\n0                                                                                                                                           This made for smoother graphics on the 255w of the vehicle moving along displayed roads, where the 750's display was more of a  jerky  movement .\\n1                                                                                                                                                       I also found that the display on the 255w was a bit brighter, clearer, and more vivid than on the 750 in both daylight and at night .\\n2                                                                                                                                      ...   \n",
              "2                                                                                                                                                                                                                After I plugged it in to my USB hub on my computer to charge the battery the charging cord design is very clever !\\n0                                                                                                                                     After you have paged tru a 500, page book one, page, at, a, time to get from Chapter 2 to Chapter 15, see how excited you are about a low battery and all the time it took to get there !\\n1                                                                                                                                                                                                                                                 NO USER REPLACEABLE BATTERY, , Unless you buy the extended warranty for $65 .\\n2                                ...   \n",
              "3                                                                                                                                                                                                                                                                                                  short battery life  I moved up from an 8gb .\\n0                                                                                                                                                                                                                                                                                            I love this ipod except for the battery life .\\n1                                                                                                                                                                                                                                                                                                           long battery  scratch resistan...   \n",
              "4                                                                                                                                                                                                                                                                                                                   6GHz 533FSB cpu, glossy display, 3, Cell 23Wh Li, ion Battery  , and a 1 .\\n0                                                                                                                                                                                                                                                                                              Not to mention that as of now Asus will not sell you a spare 3 or 6, cell Li, Ion battery .\\n1                                                                                                                                                                                                                                           ...   \n",
              "5                                                                                                                                              I thought it would be fitting to christen my Kindle with the Stephen King novella UR, so went to the Amazon site on my computer and clicked on the button to buy it .\\n0                                                                                                                                                                                                            As soon as I'd clicked the button to confirm my order it appeared on my Kindle almost immediately !\\n1                                                                                                                After reading through the introductory guide that loads up automatically at the start and following along it took me almost no time to learn which buttons are where and what each of them do .\\n2                                                   I started reading with the...   \n",
              "12                                                                                                                                                                                                                                                                                                                     Being able to change the font sizes is awesome !\\n0                                                                                                                                                                                                                                                                        For whatever reason, Amazon decided to make the Font on the Home Screen   than on the K1 .\\n1                                                                                                                                                                                                                                      I found myself constantly changing the angle of the...   \n",
              "11                                                                                                                                                                             I had to uninstall anti, virus and selected other programs, some of which did not have listings in the  Programs and Features  Control Panel section .\\n0                                                                                                                                                                                                                           This review briefly touches upon some of the key features and enhancements of Microsoft's latest OS .\\n1                                                                                                                                                                                                                                      All of these features combine to create a much improved and enjoyable desktop experience .\\n2                          ...   \n",
              "10                                                                                                                                                                                            It feels as easy to read as the K1 but doesn't seem any crisper to my eyes   .\\n0                                                                                                                                                            the white is really GREY, and to avoid considerable eye, strain I had to refresh pages   every other page .\\n1                                    The dream has always been a portable electronic device that could hold a ton of reading material, automate subscriptions and facilitate quick easy downloads, and be as portable, as easy on the eyes, and as intuitive as a book .\\n2                                                                                                                                                                                                     ...   \n",
              "8                                                                                                                                                                                                                                                                 You also get upscale features like spoken directions including street names and programmable POIs .\\n0                                                                                                                                                                                                                                                                                                I used to hesitate to go out of my directions but not any more .\\n1                                                                                                                                                                                                                                                            the directions didn't tell me any...   \n",
              "47                                                                                                                                                                                                                                                                                                                                                                               After slowing down, transmission has to be  kicked  to speed up .\\n0                                                                                                                                                                                                                                                                                                                                                I wonder if the people who have problems with rattles and transmission were built in the US .\\n1                                                                                                                                   ...   \n",
              "37                                                                                                                                                                                                                                                                                      Front seats are very uncomfortable .\\n0                                                                                                                                                                                                                                  No memory seats, no trip computer, can only display outside temp with trip odometer .\\n1                                                                                                                                                                                                                                                                              needs power seats on the passenger side .\\n2                                                     ...   \n",
              "6                                                                                                                                                                                                                                                                                                                                                                                                 Drivers seat not comfortable, the car itself compared to other models of similar class .\\n0                                                                                                                                                                                                                                                                                                                                                                                                   It's very comfortable, remarkably large inside and just an overall great vehicle .\\n1                                                   ...   \n",
              "7                                                                                                                                                   Ride seems comfortable and gas mileage fairly good averaging 26 city and 30 open road .\\n0                                                                                                        Seats are fine, in fact of all the smaller sedans this is the most comfortable I found for the price as I am 6', 2  and 250# .\\n1                                                                                                                                                                                     Great gas mileage and comfortable on long trips .\\n2                                                                                                                                                                             Good gas mileage, comfortable seating, lots of leg room .\\n3                                                               ...   \n",
              "16                                                                                                                                                                                                                                                                                                                                                                              Ride seems comfortable and gas mileage fairly good averaging 26 city and 30 open road .\\n0                                                                                                                                                                                                                                                                                                                                                                                                                                     It gets great gas mileage   .\\n1                                                                                         ...   \n",
              "25                                                                                     Very happy with my 08 Accord, performance is quite adequate it has nice looks and is a great long,  distance cruiser .\\n0                                                                                                                                 6, 4, 3 eco engine has poor performance and gas mileage of 22 highway .\\n1                                                                                                                                                 Overall performance is good but comfort level is poor .\\n2                                                                                                                                        I'm impressed with the performance as well as efficiency gains .\\n3                                                                                                                             It has room, performance, good MPG for its size and excell...   \n",
              "17                                                                                                                                                                                                                                                                                                                                                                                                                                                                             I love the new body style and the interior is a simple pleasure except for the center dash .\\n0                                                                                                                                                                                                                                                                             However, there are a couple of things that kill it for me 1 terrible driver seat comfort, kills my back 2 lack luster interior design, my Acadia has much better comfort 3 th...   \n",
              "18                                                                                                                                                                                                                                      First of all, the interior has way too many cheap plastic parts like the cheap plastic center piece that houses the clock .\\n0                                                                                                                                                                       3 blown struts at 30,000 miles, interior trim coming loose and rattling squeaking, stains on paint, and bug splats taking paint off, premature uneven brake wear, on 3rd windshield   .\\n1                                                                                                                                                                                                                                                                                                 ...   \n",
              "22                                                                                                                                                                                It's quiet, get good gas mileage and looks clean inside and out .\\n0                                                                                                                                                                     The mileage is great, and I've had to get used to stopping less for gas .\\n1                                                                                                                                                                                                         Thought gas mileage would be better .\\n2                                               There are trade offs that I have no problems with, my mileage after two tanks with mostly city driving is 21 but acceleration is very good, smooth, ride a little firm but enjoy the handling .\\n3                               ...   \n",
              "29                                                                                                                                                                                                                                                                        I previously owned a Toyota 4Runner which had incredible build quality and reliability .\\n0                                                                                                                                                                                                                                                                                               I bought the Camry because of Toyota reliability and quality .\\n1                                                                                                                                                                                                                        I purchased a 2007 Camry because of the looks of the redesigned model and b...   \n",
              "1                                                                                                                                                                                                                                                 The room was not overly big, but clean and very comfortable beds, a great shower and very clean bathrooms .\\n0                                                                                                                                                                                                                          The second room was smaller, with a very inconvenient bathroom layout, but at least it was quieter and we were able to sleep .\\n1                                                                                                                                                                                                                                                                                                            L...   \n",
              "46                                                                                                                                                                                                                                                                                        The staff at Swissotel were not particularly nice .\\n0                                                                                                                                                               Each time I waited at the counter for staff   for several minutes and then was waved to the desk upon my turn with no hello or anything, or apology for waiting in line .\\n1                                                                                                                                                                                                                                     All staff members are very courteous and go the extra mile in meeting your needs during your stay .\\n2  ...   \n",
              "45                                                                                                                                                                                                                                                                                                                                                                                                                                                                                                                                                                                                                                                                                                         Staff are friendly and helpful   .\\n0                                                                                                                                                                                                                                                                                        ...   \n",
              "14                                                                                                                                                                                                                                                                                                                                                                   The food for our event was delicious .\\n0                                                                                                                                                                                                                                                                                                                         The food in the lounge was great and very fresh, , , salads, sandwiches etc .\\n1                                                                                                                                                                                                                 ...   \n",
              "20                                                                                                                                                                                                                                                                                                       Good Value good location ,  ideal choice .\\n0                                                                                                                                                                                                                                                                                          Great Location ,  Nice   Rooms ,  Helpless Concierge\\n1                                                                                                                                                                                                                                     The location is good, and the overall decor is nice, but there was nothing that I can really...   \n",
              "21                                                                                                                                                                                                                                                                                                                  Great location for tube and we crammed in a fair amount of sightseeing in a short time .\\n0                                                                                                                                                                                                                                                                All in all, a normal chain hotel on a nice location  , I will be back if I do not find anthing closer to Picadilly for a better price .\\n1                                                                                                                                                                                                               ...   \n",
              "30                                                                                                                                                                                                                                                                                                                                                                                                                                                                                                                                                                                                                                                                                       Great Location ,  Nice   Rooms ,  Helpless Concierge\\n0                                                                                                                                                                                                                                                                                        ...   \n",
              "38                                                                                                                                                           Both of us having worked in tourism for over 14 years were very disappointed at the level of service provided by this gentleman .\\n0                                                                                                                                                                                              The service was good, very friendly staff and we loved the free wine reception each night .\\n1                                                                                                                                                                                                                  Also, thanks to Ken the concierge for recommending Grand Limo service .\\n2                                                                                                                                               ...   \n",
              "13                                                                                                                                                                                                                                                                      The room was packed to capacity with queues at the food buffets .\\n0                                                                                                                                                   The over zealous   staff cleared our unfinished drinks while we were collecting cooked food and movement around the room with plates was difficult in the crowded circumstances .\\n1                                                                                                                                                                                                                                         There are a couple pubs, a great patisserie and even fast food restaurants within a block .\\n2              ...   \n",
              "24                                                                                                                                                                                                                       Parking was expensive but I think this is common for San Fran .\\n0                                                                                                                                                                                        there is a fee for parking but well worth it seeing no where to park if you do have a car .\\n1                                                                                                                                                        The parking was free, which was great, and the hotel was conveniently located for public transport, and local attractions .\\n2                                                                                                                                                                 ...   \n",
              "28                                                                                                                                                                                                                                                                                                                                                               All in all, a normal chain hotel on a nice location  , I will be back if I do not find anthing closer to Picadilly for a better price .\\n0                                                                                                                                                                                                                                                                                                                                                                                                                                                                    Great Price Terrific Location .\\n1                       ...   \n",
              "15                                                                                                                                                                The wine reception is a great idea as it is nice to meet other travellers and great having access to the free Internet access in our room .\\n0                                                                                      They also have a computer available with free internet which is a nice bonus but I didn't find that out till the day before we left but was still able to get on there to check our flight to Vegas the next day .\\n1                                                                                                                                                                                                             The service was good, very friendly staff and we loved the free wine reception each night .\\n2                                                                                                  ...   \n",
              "32                                                                                                                                                                                                                                                                                                                                                                                                                          We arrived at 23,30 hours and they could not recommend a restaurant so we decided to go to Tesco, with very limited choices but when you are hingry you do not careNext day they rang the bell at 8,00 hours to clean the room, not being very nice being waken up so earlyEvery day they gave us a candy bar and two bottlets of water whic is a very nice touch .\\n0                                                                                                                                                                                                                                      ...   \n",
              "31                                                                                                                                                                                                                    The Swissotel is one of our favorite hotels in Chicago and the corner rooms have the most fantastic views in the city .\\n0                                                                                                                                   The rooms look like they were just remodled and upgraded, there was an HD TV and a nice iHome docking station to put my iPod so I could set the alarm to wake up with my music instead of the radio .\\n1                                                                                                                                                                                                                                                                                  Great rooms staff and location but extras overpriced .\\n2  ...   \n",
              "39                                                                                                                                                                                                                                                                                                      not customer, oriented hotelvery low service levelboor reception\\n0                                                                                                                                                                                                                                                                    The room was quiet, clean, the bed and pillows were comfortable, and the service was adequate .\\n1                                                                                                                                                                                                                                                                                 There ...   \n",
              "40                                                                                                                                                                                                                                                                                                                                                  Mediocre room and service for a very extravagant price .\\n0                                                                                                                                                                                                                                                                                                                                                The accomodations and support services are phenomenal .\\n1                                                                                                                                                                                                 no robes in th...   \n",
              "\n",
              "    cluster_label  \n",
              "0               0  \n",
              "48              0  \n",
              "44              0  \n",
              "43              0  \n",
              "42              0  \n",
              "41              0  \n",
              "36              0  \n",
              "35              0  \n",
              "34              0  \n",
              "33              0  \n",
              "27              0  \n",
              "26              0  \n",
              "49              0  \n",
              "23              0  \n",
              "19              0  \n",
              "50              0  \n",
              "9               0  \n",
              "2               0  \n",
              "3               0  \n",
              "4               0  \n",
              "5               0  \n",
              "12              0  \n",
              "11              0  \n",
              "10              0  \n",
              "8               0  \n",
              "47              1  \n",
              "37              1  \n",
              "6               1  \n",
              "7               1  \n",
              "16              1  \n",
              "25              1  \n",
              "17              1  \n",
              "18              1  \n",
              "22              1  \n",
              "29              1  \n",
              "1               2  \n",
              "46              2  \n",
              "45              2  \n",
              "14              2  \n",
              "20              2  \n",
              "21              2  \n",
              "30              2  \n",
              "38              2  \n",
              "13              2  \n",
              "24              2  \n",
              "28              2  \n",
              "15              2  \n",
              "32              2  \n",
              "31              2  \n",
              "39              2  \n",
              "40              2  "
            ]
          },
          "metadata": {},
          "execution_count": 22
        }
      ]
    },
    {
      "cell_type": "markdown",
      "metadata": {
        "id": "zMBwMVqkbeI_"
      },
      "source": [
        "## 8. 문서 유사도\n",
        "\n",
        "코사인 유사도(Cosine Similarity)\n",
        "- 두 벡터 사이의 사잇각을 구해서 얼마나 유사한지 수치로 적용. 벡터의 크기보다는 벡터의 상호 방향성이 얼마나 유사한지에 기반함\n",
        "- 두 벡터의 내적 / 총 벡터 크기의 합\n",
        "  - 내적 결과를 총 벡터 크기로 정규화(L2 Norm)한 개념\n",
        "- 코사인 유사도가 문서의 유사도 비교에 많이 사용되는 이유\n",
        "  - 문서를 피쳐 벡터화 변환하면 차원이 많은 희소행렬이 되기 쉬움. 희소행렬 기반에서 문서와 문서간의 크기에 기반한 유사도 지표(예: 유클리드 거리 기반 지표)는 정확도가 떨어지기 쉬움\n",
        "  - 문서가 매우 긴 경우 단어의 빈도수도 더 많을 것이기 때문에 빈도수에만 기반하는 경우 공정한 비교가 어려움"
      ]
    },
    {
      "cell_type": "code",
      "metadata": {
        "id": "fvLcaPzBbeI_"
      },
      "source": [
        "# 코사인 유사도 사용자함수\n",
        "import numpy as np\n",
        "def cos_simlarity(v1,v2):\n",
        "    dot_product = np.dot(v1,v2)\n",
        "    l2_norm = (np.sqrt(sum(np.square(v1)))*np.sqrt(sum(np.square(v2))))\n",
        "    similarity = dot_product / l2_norm\n",
        "    return similarity"
      ],
      "execution_count": null,
      "outputs": []
    },
    {
      "cell_type": "code",
      "metadata": {
        "id": "5dUTsg8UbeI_",
        "outputId": "9ea8b54d-ad69-4ab3-a35d-55c7c1aff653"
      },
      "source": [
        "from sklearn.feature_extraction.text import TfidfVectorizer\n",
        "doc_list = ['if you take the blue pill, the story ends',\\\n",
        "    'if you take the red pill, you stay in Wonderland',\\\n",
        "    'if you take the red pill, I show you how deep ㅋthe rabbit hole goes']\n",
        "tfidf_vect_simple = TfidfVectorizer()\n",
        "feature_vect_simple = tfidf_vect_simple.fit_transform(doc_list)\n",
        "print(feature_vect_simple.shape)\n",
        "print(feature_vect_simple) # 희소행렬"
      ],
      "execution_count": null,
      "outputs": [
        {
          "output_type": "stream",
          "name": "stdout",
          "text": [
            "(3, 18)\n",
            "  (0, 2)\t0.41556360057939173\n",
            "  (0, 13)\t0.41556360057939173\n",
            "  (0, 8)\t0.24543855687841593\n",
            "  (0, 0)\t0.41556360057939173\n",
            "  (0, 15)\t0.49087711375683185\n",
            "  (0, 14)\t0.24543855687841593\n",
            "  (0, 17)\t0.24543855687841593\n",
            "  (0, 6)\t0.24543855687841593\n",
            "  (1, 16)\t0.39624495215024286\n",
            "  (1, 7)\t0.39624495215024286\n",
            "  (1, 12)\t0.39624495215024286\n",
            "  (1, 10)\t0.3013544995034864\n",
            "  (1, 8)\t0.2340286519091622\n",
            "  (1, 15)\t0.2340286519091622\n",
            "  (1, 14)\t0.2340286519091622\n",
            "  (1, 17)\t0.4680573038183244\n",
            "  (1, 6)\t0.2340286519091622\n",
            "  (2, 3)\t0.3098560092999078\n",
            "  (2, 4)\t0.3098560092999078\n",
            "  (2, 9)\t0.3098560092999078\n",
            "  (2, 1)\t0.3098560092999078\n",
            "  (2, 5)\t0.3098560092999078\n",
            "  (2, 11)\t0.3098560092999078\n",
            "  (2, 10)\t0.23565348175165166\n",
            "  (2, 8)\t0.1830059506093466\n",
            "  (2, 15)\t0.3660119012186932\n",
            "  (2, 14)\t0.1830059506093466\n",
            "  (2, 17)\t0.3660119012186932\n",
            "  (2, 6)\t0.1830059506093466\n"
          ]
        }
      ]
    },
    {
      "cell_type": "markdown",
      "metadata": {
        "id": "RAsdiBNSbeJA"
      },
      "source": [
        "## 과제\n",
        "- Opinion Review 데이터 세트를 이용한 유사도 측정"
      ]
    },
    {
      "cell_type": "markdown",
      "metadata": {
        "id": "SAliiP-ZbeJA"
      },
      "source": [
        "## 10. 데이터 분석 실습: Mercari Price Suggestion Challenge\n",
        "아래 사항을 고려하여 대형 온라인 쇼핑몰 제품 가격 예측을 수행하세요.\n",
        "- 제공되는 데이터 세트 mercari_train.tsv는 제품에 대한 여러 속성 및 제품 설명 등의 텍스트 데이터로 구성된다.\n",
        "- 데이터 전처리\n",
        "  - Null 데이터는 적절한 문자열로 치환\n",
        "  - 데이터 분포도 확인 정규성 확보\n",
        "  - item_description이 'No description yet'인 경우 Null과 마찬가지로 적절한 값으로 변경\n",
        "  - category_name이 Null이 아닌 경우 대,중,소 분류를 분리\n",
        "- 피처 인코딩과 피처 벡터화\n",
        "- 릿지 회귀 모델 구축 및 평가\n",
        "- LightGBM 회귀 모델 구축과 앙상블을 이용한 최종 예측 평가"
      ]
    },
    {
      "cell_type": "code",
      "metadata": {
        "id": "xPe8xf_fbeJA",
        "outputId": "def2a9eb-4ff5-477c-c605-7c0b7036c661"
      },
      "source": [
        "import pandas as pd\n",
        "mercari_df = pd.read_csv('C:/workspace/cakd3/수업/dataset/mercari_train.tsv', sep='\\t')\n",
        "display(mercari_df.shape, mercari_df.head(3), mercari_df.info())"
      ],
      "execution_count": null,
      "outputs": [
        {
          "output_type": "stream",
          "name": "stdout",
          "text": [
            "<class 'pandas.core.frame.DataFrame'>\n",
            "RangeIndex: 1482535 entries, 0 to 1482534\n",
            "Data columns (total 8 columns):\n",
            " #   Column             Non-Null Count    Dtype  \n",
            "---  ------             --------------    -----  \n",
            " 0   train_id           1482535 non-null  int64  \n",
            " 1   name               1482535 non-null  object \n",
            " 2   item_condition_id  1482535 non-null  int64  \n",
            " 3   category_name      1476208 non-null  object \n",
            " 4   brand_name         849853 non-null   object \n",
            " 5   price              1482535 non-null  float64\n",
            " 6   shipping           1482535 non-null  int64  \n",
            " 7   item_description   1482531 non-null  object \n",
            "dtypes: float64(1), int64(3), object(4)\n",
            "memory usage: 90.5+ MB\n"
          ]
        },
        {
          "output_type": "display_data",
          "data": {
            "text/plain": [
              "(1482535, 8)"
            ]
          },
          "metadata": {}
        },
        {
          "output_type": "display_data",
          "data": {
            "text/html": [
              "<div>\n",
              "<style scoped>\n",
              "    .dataframe tbody tr th:only-of-type {\n",
              "        vertical-align: middle;\n",
              "    }\n",
              "\n",
              "    .dataframe tbody tr th {\n",
              "        vertical-align: top;\n",
              "    }\n",
              "\n",
              "    .dataframe thead th {\n",
              "        text-align: right;\n",
              "    }\n",
              "</style>\n",
              "<table border=\"1\" class=\"dataframe\">\n",
              "  <thead>\n",
              "    <tr style=\"text-align: right;\">\n",
              "      <th></th>\n",
              "      <th>train_id</th>\n",
              "      <th>name</th>\n",
              "      <th>item_condition_id</th>\n",
              "      <th>category_name</th>\n",
              "      <th>brand_name</th>\n",
              "      <th>price</th>\n",
              "      <th>shipping</th>\n",
              "      <th>item_description</th>\n",
              "    </tr>\n",
              "  </thead>\n",
              "  <tbody>\n",
              "    <tr>\n",
              "      <th>0</th>\n",
              "      <td>0</td>\n",
              "      <td>MLB Cincinnati Reds T Shirt Size XL</td>\n",
              "      <td>3</td>\n",
              "      <td>Men/Tops/T-shirts</td>\n",
              "      <td>NaN</td>\n",
              "      <td>10.0</td>\n",
              "      <td>1</td>\n",
              "      <td>No description yet</td>\n",
              "    </tr>\n",
              "    <tr>\n",
              "      <th>1</th>\n",
              "      <td>1</td>\n",
              "      <td>Razer BlackWidow Chroma Keyboard</td>\n",
              "      <td>3</td>\n",
              "      <td>Electronics/Computers &amp; Tablets/Components &amp; P...</td>\n",
              "      <td>Razer</td>\n",
              "      <td>52.0</td>\n",
              "      <td>0</td>\n",
              "      <td>This keyboard is in great condition and works ...</td>\n",
              "    </tr>\n",
              "    <tr>\n",
              "      <th>2</th>\n",
              "      <td>2</td>\n",
              "      <td>AVA-VIV Blouse</td>\n",
              "      <td>1</td>\n",
              "      <td>Women/Tops &amp; Blouses/Blouse</td>\n",
              "      <td>Target</td>\n",
              "      <td>10.0</td>\n",
              "      <td>1</td>\n",
              "      <td>Adorable top with a hint of lace and a key hol...</td>\n",
              "    </tr>\n",
              "  </tbody>\n",
              "</table>\n",
              "</div>"
            ],
            "text/plain": [
              "   train_id                                 name  item_condition_id  \\\n",
              "0         0  MLB Cincinnati Reds T Shirt Size XL                  3   \n",
              "1         1     Razer BlackWidow Chroma Keyboard                  3   \n",
              "2         2                       AVA-VIV Blouse                  1   \n",
              "\n",
              "                                       category_name brand_name  price  \\\n",
              "0                                  Men/Tops/T-shirts        NaN   10.0   \n",
              "1  Electronics/Computers & Tablets/Components & P...      Razer   52.0   \n",
              "2                        Women/Tops & Blouses/Blouse     Target   10.0   \n",
              "\n",
              "   shipping                                   item_description  \n",
              "0         1                                 No description yet  \n",
              "1         0  This keyboard is in great condition and works ...  \n",
              "2         1  Adorable top with a hint of lace and a key hol...  "
            ]
          },
          "metadata": {}
        },
        {
          "output_type": "display_data",
          "data": {
            "text/plain": [
              "None"
            ]
          },
          "metadata": {}
        }
      ]
    },
    {
      "cell_type": "markdown",
      "metadata": {
        "id": "WLSAcjbmbeJA"
      },
      "source": [
        "### 데이터 전처리"
      ]
    },
    {
      "cell_type": "code",
      "metadata": {
        "id": "OxdSc4vYbeJA",
        "outputId": "3a9b8111-6f29-4106-a8eb-d4d9cd25513d"
      },
      "source": [
        "import matplotlib.pyplot as plt\n",
        "import seaborn as sns\n",
        "%matplotlib inline\n",
        "\n",
        "y_train_df = mercari_df['price']\n",
        "plt.figure(figsize=(6,4))\n",
        "sns.distplot(y_train_df, kde=False)"
      ],
      "execution_count": null,
      "outputs": [
        {
          "output_type": "stream",
          "name": "stderr",
          "text": [
            "C:\\Anaconda3\\envs\\cakd3\\lib\\site-packages\\seaborn\\distributions.py:2557: FutureWarning: `distplot` is a deprecated function and will be removed in a future version. Please adapt your code to use either `displot` (a figure-level function with similar flexibility) or `histplot` (an axes-level function for histograms).\n",
            "  warnings.warn(msg, FutureWarning)\n"
          ]
        },
        {
          "output_type": "execute_result",
          "data": {
            "text/plain": [
              "<AxesSubplot:xlabel='price'>"
            ]
          },
          "metadata": {},
          "execution_count": 5
        },
        {
          "output_type": "display_data",
          "data": {
            "image/png": "[encoded data removed]",
            "text/plain": [
              "<Figure size 432x288 with 1 Axes>"
            ]
          },
          "metadata": {
            "needs_background": "light"
          }
        }
      ]
    },
    {
      "cell_type": "code",
      "metadata": {
        "id": "2sKJfVYObeJA",
        "outputId": "41d8dc9b-c43e-4cfb-ac2f-30d1f9cf1ed0"
      },
      "source": [
        "import numpy as np\n",
        "y_train_df = np.log1p(y_train_df)\n",
        "sns.distplot(y_train_df, kde=False)"
      ],
      "execution_count": null,
      "outputs": [
        {
          "output_type": "stream",
          "name": "stderr",
          "text": [
            "C:\\Anaconda3\\envs\\cakd3\\lib\\site-packages\\seaborn\\distributions.py:2557: FutureWarning: `distplot` is a deprecated function and will be removed in a future version. Please adapt your code to use either `displot` (a figure-level function with similar flexibility) or `histplot` (an axes-level function for histograms).\n",
            "  warnings.warn(msg, FutureWarning)\n"
          ]
        },
        {
          "output_type": "execute_result",
          "data": {
            "text/plain": [
              "<AxesSubplot:xlabel='price'>"
            ]
          },
          "metadata": {},
          "execution_count": 6
        },
        {
          "output_type": "display_data",
          "data": {
            "image/png": "[encoded data removed]",
            "text/plain": [
              "<Figure size 432x288 with 1 Axes>"
            ]
          },
          "metadata": {
            "needs_background": "light"
          }
        }
      ]
    },
    {
      "cell_type": "code",
      "metadata": {
        "id": "9gC8FiSobeJA",
        "outputId": "6f0d7433-10bc-40e8-894d-65fce33ebcab"
      },
      "source": [
        "mercari_df['price'] = np.log1p(mercari_df['price'])\n",
        "mercari_df['price'].head(3)"
      ],
      "execution_count": null,
      "outputs": [
        {
          "output_type": "execute_result",
          "data": {
            "text/plain": [
              "0    2.397895\n",
              "1    3.970292\n",
              "2    2.397895\n",
              "Name: price, dtype: float64"
            ]
          },
          "metadata": {},
          "execution_count": 8
        }
      ]
    },
    {
      "cell_type": "code",
      "metadata": {
        "id": "HDZBXQO2beJB",
        "outputId": "093d8b35-1520-4de2-9f10-525470c047a9"
      },
      "source": [
        "print(mercari_df.item_condition_id.value_counts())\n",
        "print(mercari_df.shipping.value_counts())\n",
        "print(mercari_df.item_description.value_counts())"
      ],
      "execution_count": null,
      "outputs": [
        {
          "output_type": "stream",
          "name": "stdout",
          "text": [
            "1    640549\n",
            "3    432161\n",
            "2    375479\n",
            "4     31962\n",
            "5      2384\n",
            "Name: item_condition_id, dtype: int64\n",
            "0    819435\n",
            "1    663100\n",
            "Name: shipping, dtype: int64\n",
            "No description yet                                                                                                                                                                                                                                                                                                                                                                                                                                                                                                      82489\n",
            "New                                                                                                                                                                                                                                                                                                                                                                                                                                                                                                                      4099\n",
            "Brand new                                                                                                                                                                                                                                                                                                                                                                                                                                                                                                                3058\n",
            "Good condition                                                                                                                                                                                                                                                                                                                                                                                                                                                                                                           1274\n",
            "Great condition                                                                                                                                                                                                                                                                                                                                                                                                                                                                                                          1158\n",
            "                                                                                                                                                                                                                                                                                                                                                                                                                                                                                                                        ...  \n",
            "Great Christmas Gift!!! Huggable Snorlax! Japan Import. 15\" Tall. 12\" Wide. Super Soft. Ships Within 1-2 Days.                                                                                                                                                                                                                                                                                                                                                                                                              1\n",
            "!!!green !!!! 1 pair of color contacts❤ If you want to bundle with more colors please message me for a discount listing❤ ❤Freshlook non prescription cosmetic lenses. ❤\"Natural\" look lenses ❤Expires 2020 ❤100% Authentic ❤ Safe and gentle ❤1 box contains 2 sterile lenses. ❤Same Day Shipping, after 2:00pm next day shipment ❤Let me know what color you like before you buy and if you want to buy more than one ❤ Kylie eyes. ❤Colors❤ ❤Gemstone green ❤True sapphire ❤Brilliant blue ❤Blue ❤Green ❤Turquoise        1\n",
            "Size 7 Worn a few times 2-3 maybe Has cute stitch design up the back! Bought on here and a little too small for me!                                                                                                                                                                                                                                                                                                                                                                                                         1\n",
            "Please excuse the wrinkles                                                                                                                                                                                                                                                                                                                                                                                                                                                                                                  1\n",
            "Floral wrap dress. NWOT. Small but was big on me. I would say it would fit more of a 6-8                                                                                                                                                                                                                                                                                                                                                                                                                                    1\n",
            "Name: item_description, Length: 1281426, dtype: int64\n"
          ]
        }
      ]
    },
    {
      "cell_type": "code",
      "metadata": {
        "id": "2p6ap29KbeJB",
        "outputId": "851f50f2-7eb2-477a-d3dc-b636d8bb56aa"
      },
      "source": [
        "def split_cat(category_name):\n",
        "    try:\n",
        "        return category_name.split('/')\n",
        "    except:\n",
        "        return ['Other_Null','Other_Null','Other_Null']\n",
        "\n",
        "mercari_df['cat_dae'],mercari_df['cat_jung'],mercari_df['cat_so'] =\\\n",
        "    zip(*mercari_df['category_name'].apply(lambda x:split_cat(x)))\n",
        "\n",
        "print(mercari_df['cat_dae'].value_counts())\n",
        "print(mercari_df['cat_jung'].nunique())\n",
        "print(mercari_df['cat_so'].nunique())"
      ],
      "execution_count": null,
      "outputs": [
        {
          "output_type": "stream",
          "name": "stdout",
          "text": [
            "Women                     664385\n",
            "Beauty                    207828\n",
            "Kids                      171689\n",
            "Electronics               122690\n",
            "Men                        93680\n",
            "Home                       67871\n",
            "Vintage & Collectibles     46530\n",
            "Other                      45351\n",
            "Handmade                   30842\n",
            "Sports & Outdoors          25342\n",
            "Other_Null                  6327\n",
            "Name: cat_dae, dtype: int64\n",
            "114\n",
            "871\n"
          ]
        }
      ]
    },
    {
      "cell_type": "code",
      "metadata": {
        "id": "1OTf7fmObeJB",
        "outputId": "e22eb2e1-5849-4ba6-87e5-bb5be43684b8"
      },
      "source": [
        "mercari_df['brand_name'] = mercari_df['brand_name'].fillna(value='Other_Null')\n",
        "mercari_df['category_name'] = mercari_df['category_name'].fillna(value='Other_Null')\n",
        "mercari_df['item_description'] = mercari_df['item_description'].fillna(value='Other_Null')\n",
        "mercari_df.isnull().sum()"
      ],
      "execution_count": null,
      "outputs": [
        {
          "output_type": "execute_result",
          "data": {
            "text/plain": [
              "train_id             0\n",
              "name                 0\n",
              "item_condition_id    0\n",
              "category_name        0\n",
              "brand_name           0\n",
              "price                0\n",
              "shipping             0\n",
              "item_description     0\n",
              "cat_dae              0\n",
              "cat_jung             0\n",
              "cat_so               0\n",
              "dtype: int64"
            ]
          },
          "metadata": {},
          "execution_count": 24
        }
      ]
    },
    {
      "cell_type": "markdown",
      "metadata": {
        "id": "1D8fZ6qcbeJB"
      },
      "source": [
        "### 피쳐 인코딩, 피쳐 벡터화"
      ]
    },
    {
      "cell_type": "code",
      "metadata": {
        "id": "H7rU_0WgbeJB",
        "outputId": "dc24eb51-e053-4225-e280-e97e24c3c13e"
      },
      "source": [
        "print(mercari_df['brand_name'].nunique())\n",
        "mercari_df['brand_name'].value_counts()[:10]\n",
        "\n",
        "### 대부분 명료한 분자열로 되어 있음\n",
        "### 별도의 피쳐 벡터화 형태로 만들 필요 없이 인코딩 변환 적용"
      ],
      "execution_count": null,
      "outputs": [
        {
          "output_type": "stream",
          "name": "stdout",
          "text": [
            "4810\n"
          ]
        },
        {
          "output_type": "execute_result",
          "data": {
            "text/plain": [
              "Other_Null           632682\n",
              "PINK                  54088\n",
              "Nike                  54043\n",
              "Victoria's Secret     48036\n",
              "LuLaRoe               31024\n",
              "Apple                 17322\n",
              "FOREVER 21            15186\n",
              "Nintendo              15007\n",
              "Lululemon             14558\n",
              "Michael Kors          13928\n",
              "Name: brand_name, dtype: int64"
            ]
          },
          "metadata": {},
          "execution_count": 28
        }
      ]
    },
    {
      "cell_type": "code",
      "metadata": {
        "id": "q_FMSZ32beJC",
        "outputId": "8fc8e930-5ee6-482e-fddf-2719fc4d22e9"
      },
      "source": [
        "mercari_df.head(3)"
      ],
      "execution_count": null,
      "outputs": [
        {
          "output_type": "execute_result",
          "data": {
            "text/html": [
              "<div>\n",
              "<style scoped>\n",
              "    .dataframe tbody tr th:only-of-type {\n",
              "        vertical-align: middle;\n",
              "    }\n",
              "\n",
              "    .dataframe tbody tr th {\n",
              "        vertical-align: top;\n",
              "    }\n",
              "\n",
              "    .dataframe thead th {\n",
              "        text-align: right;\n",
              "    }\n",
              "</style>\n",
              "<table border=\"1\" class=\"dataframe\">\n",
              "  <thead>\n",
              "    <tr style=\"text-align: right;\">\n",
              "      <th></th>\n",
              "      <th>train_id</th>\n",
              "      <th>name</th>\n",
              "      <th>item_condition_id</th>\n",
              "      <th>category_name</th>\n",
              "      <th>brand_name</th>\n",
              "      <th>price</th>\n",
              "      <th>shipping</th>\n",
              "      <th>item_description</th>\n",
              "      <th>cat_dae</th>\n",
              "      <th>cat_jung</th>\n",
              "      <th>cat_so</th>\n",
              "    </tr>\n",
              "  </thead>\n",
              "  <tbody>\n",
              "    <tr>\n",
              "      <th>0</th>\n",
              "      <td>0</td>\n",
              "      <td>MLB Cincinnati Reds T Shirt Size XL</td>\n",
              "      <td>3</td>\n",
              "      <td>Men/Tops/T-shirts</td>\n",
              "      <td>Other_Null</td>\n",
              "      <td>2.397895</td>\n",
              "      <td>1</td>\n",
              "      <td>No description yet</td>\n",
              "      <td>Men</td>\n",
              "      <td>Tops</td>\n",
              "      <td>T-shirts</td>\n",
              "    </tr>\n",
              "    <tr>\n",
              "      <th>1</th>\n",
              "      <td>1</td>\n",
              "      <td>Razer BlackWidow Chroma Keyboard</td>\n",
              "      <td>3</td>\n",
              "      <td>Electronics/Computers &amp; Tablets/Components &amp; P...</td>\n",
              "      <td>Razer</td>\n",
              "      <td>3.970292</td>\n",
              "      <td>0</td>\n",
              "      <td>This keyboard is in great condition and works ...</td>\n",
              "      <td>Electronics</td>\n",
              "      <td>Computers &amp; Tablets</td>\n",
              "      <td>Components &amp; Parts</td>\n",
              "    </tr>\n",
              "    <tr>\n",
              "      <th>2</th>\n",
              "      <td>2</td>\n",
              "      <td>AVA-VIV Blouse</td>\n",
              "      <td>1</td>\n",
              "      <td>Women/Tops &amp; Blouses/Blouse</td>\n",
              "      <td>Target</td>\n",
              "      <td>2.397895</td>\n",
              "      <td>1</td>\n",
              "      <td>Adorable top with a hint of lace and a key hol...</td>\n",
              "      <td>Women</td>\n",
              "      <td>Tops &amp; Blouses</td>\n",
              "      <td>Blouse</td>\n",
              "    </tr>\n",
              "  </tbody>\n",
              "</table>\n",
              "</div>"
            ],
            "text/plain": [
              "   train_id                                 name  item_condition_id  \\\n",
              "0         0  MLB Cincinnati Reds T Shirt Size XL                  3   \n",
              "1         1     Razer BlackWidow Chroma Keyboard                  3   \n",
              "2         2                       AVA-VIV Blouse                  1   \n",
              "\n",
              "                                       category_name  brand_name     price  \\\n",
              "0                                  Men/Tops/T-shirts  Other_Null  2.397895   \n",
              "1  Electronics/Computers & Tablets/Components & P...       Razer  3.970292   \n",
              "2                        Women/Tops & Blouses/Blouse      Target  2.397895   \n",
              "\n",
              "   shipping                                   item_description      cat_dae  \\\n",
              "0         1                                 No description yet          Men   \n",
              "1         0  This keyboard is in great condition and works ...  Electronics   \n",
              "2         1  Adorable top with a hint of lace and a key hol...        Women   \n",
              "\n",
              "              cat_jung              cat_so  \n",
              "0                 Tops            T-shirts  \n",
              "1  Computers & Tablets  Components & Parts  \n",
              "2       Tops & Blouses              Blouse  "
            ]
          },
          "metadata": {},
          "execution_count": 30
        }
      ]
    },
    {
      "cell_type": "code",
      "metadata": {
        "id": "eKxSnR86beJC",
        "outputId": "a666f91d-e67b-438e-d4fc-f24409161c12"
      },
      "source": [
        "print(mercari_df['name'].nunique())\n",
        "mercari_df['name'].value_counts()[:10]\n",
        "\n",
        "### 매우 종류가 많고 적은 단어 위주의 텍스트 형태로 되어 있으므로 Count기반 피쳐벡터화"
      ],
      "execution_count": null,
      "outputs": [
        {
          "output_type": "stream",
          "name": "stdout",
          "text": [
            "1225273\n"
          ]
        },
        {
          "output_type": "execute_result",
          "data": {
            "text/plain": [
              "Bundle                 2232\n",
              "Reserved                453\n",
              "Converse                445\n",
              "BUNDLE                  418\n",
              "Dress                   410\n",
              "Coach purse             404\n",
              "Lularoe TC leggings     396\n",
              "Romper                  353\n",
              "Nike                    340\n",
              "Vans                    334\n",
              "Name: name, dtype: int64"
            ]
          },
          "metadata": {},
          "execution_count": 29
        }
      ]
    },
    {
      "cell_type": "code",
      "metadata": {
        "id": "KhgxqPmubeJC",
        "outputId": "73aba236-1cf1-4c9a-968f-a7115bba0859"
      },
      "source": [
        "print(mercari_df['item_description'].str.len().mean())\n",
        "\n",
        "### 평균 문자열이 비교적 크므로 TF-IDF로 피쳐벡터화"
      ],
      "execution_count": null,
      "outputs": [
        {
          "output_type": "stream",
          "name": "stdout",
          "text": [
            "145.7113889385411\n"
          ]
        }
      ]
    },
    {
      "cell_type": "code",
      "metadata": {
        "id": "6MXmGTasbeJC",
        "outputId": "564dfd98-36cb-408e-ad1d-3905ad586513"
      },
      "source": [
        "from sklearn.feature_extraction.text import CountVectorizer, TfidfVectorizer\n",
        "cnt_vect = CountVectorizer()\n",
        "X_name = cnt_vect.fit_transform(mercari_df.name)\n",
        "\n",
        "tfidf_descp = TfidfVectorizer(max_features = 50000, ngram_range=(1,3), stop_words='english')\n",
        "X_descp = tfidf_descp.fit_transform(mercari_df['item_description'])\n",
        "\n",
        "print(X_name.shape)\n",
        "print(mercari_df.name.shape)\n",
        "print(X_descp.shape)\n",
        "print(mercari_df.item_description.shape)"
      ],
      "execution_count": null,
      "outputs": [
        {
          "output_type": "stream",
          "name": "stdout",
          "text": [
            "(1482535, 105757)\n",
            "(1482535,)\n",
            "(1482535, 50000)\n",
            "(1482535,)\n"
          ]
        }
      ]
    },
    {
      "cell_type": "code",
      "metadata": {
        "id": "_ISTPb0dbeJC",
        "outputId": "dd0c47ff-bfbe-4089-c111-d80d617f55d2"
      },
      "source": [
        "from sklearn.preprocessing import LabelBinarizer\n",
        "\n",
        "X_brand = LabelBinarizer(sparse_output=True).fit_transform(mercari_df['brand_name'])\n",
        "X_item_cond_id = LabelBinarizer(sparse_output=True).fit_transform(mercari_df['item_condition_id'])\n",
        "X_shipping = LabelBinarizer(sparse_output=True).fit_transform(mercari_df['shipping'])\n",
        "\n",
        "X_cat_dae = LabelBinarizer(sparse_output=True).fit_transform(mercari_df['cat_dae'])\n",
        "X_cat_jung = LabelBinarizer(sparse_output=True).fit_transform(mercari_df['cat_jung'])\n",
        "X_cat_so = LabelBinarizer(sparse_output=True).fit_transform(mercari_df['cat_so'])"
      ],
      "execution_count": null,
      "outputs": [
        {
          "output_type": "error",
          "ename": "NameError",
          "evalue": "name 'mercari_df' is not defined",
          "traceback": [
            "\u001b[1;31m---------------------------------------------------------------------------\u001b[0m",
            "\u001b[1;31mNameError\u001b[0m                                 Traceback (most recent call last)",
            "\u001b[1;32m<ipython-input-15-c6fecd669aa8>\u001b[0m in \u001b[0;36m<module>\u001b[1;34m\u001b[0m\n\u001b[0;32m      1\u001b[0m \u001b[1;32mfrom\u001b[0m \u001b[0msklearn\u001b[0m\u001b[1;33m.\u001b[0m\u001b[0mpreprocessing\u001b[0m \u001b[1;32mimport\u001b[0m \u001b[0mLabelBinarizer\u001b[0m\u001b[1;33m\u001b[0m\u001b[1;33m\u001b[0m\u001b[0m\n\u001b[0;32m      2\u001b[0m \u001b[1;33m\u001b[0m\u001b[0m\n\u001b[1;32m----> 3\u001b[1;33m \u001b[0mX_brand\u001b[0m \u001b[1;33m=\u001b[0m \u001b[0mLabelBinarizer\u001b[0m\u001b[1;33m(\u001b[0m\u001b[0msparse_output\u001b[0m\u001b[1;33m=\u001b[0m\u001b[1;32mTrue\u001b[0m\u001b[1;33m)\u001b[0m\u001b[1;33m.\u001b[0m\u001b[0mfit_transform\u001b[0m\u001b[1;33m(\u001b[0m\u001b[0mmercari_df\u001b[0m\u001b[1;33m[\u001b[0m\u001b[1;34m'brand_name'\u001b[0m\u001b[1;33m]\u001b[0m\u001b[1;33m)\u001b[0m\u001b[1;33m\u001b[0m\u001b[1;33m\u001b[0m\u001b[0m\n\u001b[0m\u001b[0;32m      4\u001b[0m \u001b[0mX_item_cond_id\u001b[0m \u001b[1;33m=\u001b[0m \u001b[0mLabelBinarizer\u001b[0m\u001b[1;33m(\u001b[0m\u001b[0msparse_output\u001b[0m\u001b[1;33m=\u001b[0m\u001b[1;32mTrue\u001b[0m\u001b[1;33m)\u001b[0m\u001b[1;33m.\u001b[0m\u001b[0mfit_transform\u001b[0m\u001b[1;33m(\u001b[0m\u001b[0mmercari_df\u001b[0m\u001b[1;33m[\u001b[0m\u001b[1;34m'item_condition_id'\u001b[0m\u001b[1;33m]\u001b[0m\u001b[1;33m)\u001b[0m\u001b[1;33m\u001b[0m\u001b[1;33m\u001b[0m\u001b[0m\n\u001b[0;32m      5\u001b[0m \u001b[0mX_shipping\u001b[0m \u001b[1;33m=\u001b[0m \u001b[0mLabelBinarizer\u001b[0m\u001b[1;33m(\u001b[0m\u001b[0msparse_output\u001b[0m\u001b[1;33m=\u001b[0m\u001b[1;32mTrue\u001b[0m\u001b[1;33m)\u001b[0m\u001b[1;33m.\u001b[0m\u001b[0mfit_transform\u001b[0m\u001b[1;33m(\u001b[0m\u001b[0mmercari_df\u001b[0m\u001b[1;33m[\u001b[0m\u001b[1;34m'shipping'\u001b[0m\u001b[1;33m]\u001b[0m\u001b[1;33m)\u001b[0m\u001b[1;33m\u001b[0m\u001b[1;33m\u001b[0m\u001b[0m\n",
            "\u001b[1;31mNameError\u001b[0m: name 'mercari_df' is not defined"
          ]
        }
      ]
    },
    {
      "cell_type": "code",
      "metadata": {
        "id": "O0yqsO7lbeJC",
        "outputId": "30c55525-3f56-44dd-a248-6efb381c7216"
      },
      "source": [
        "from scipy.sparse import hstack\n",
        "import gc\n",
        "\n",
        "sparse_matrix_list = (X_name, X_descp, X_brand, X_item_cond_id, X_shipping, X_cat_dae,\\\n",
        "    X_cat_jung, X_cat_so)\n",
        "\n",
        "X_features_sparse = hstack(sparse_matrix_list).tocsr()\n",
        "print(type(X_features_sparse), X_features_sparse.shape)\n",
        "\n",
        "del X_features_sparse\n",
        "gc.collect()"
      ],
      "execution_count": null,
      "outputs": [
        {
          "output_type": "stream",
          "name": "stdout",
          "text": [
            "<class 'scipy.sparse.csr.csr_matrix'> (1482535, 161569)\n"
          ]
        },
        {
          "output_type": "execute_result",
          "data": {
            "text/plain": [
              "14"
            ]
          },
          "metadata": {},
          "execution_count": 36
        }
      ]
    },
    {
      "cell_type": "markdown",
      "metadata": {
        "id": "4TFvsBkWbeJD"
      },
      "source": [
        "### 릿지 회귀 모델 구축 및 평가"
      ]
    },
    {
      "cell_type": "code",
      "metadata": {
        "id": "OM732ksibeJD"
      },
      "source": [
        "def rmsle(y, y_pred):\n",
        "    return np.sqrt(np.mean(np.power(np.log1p(y) - np.log1p(y_pred),2)))\n",
        "\n",
        "def evaluate_org_price(y_test, preds):\n",
        "    preds_exmpm = np.expm1(preds)\n",
        "    y_test_exmpm = np.expm1(y_test)\n",
        "    rsmle_result = rmsle(y_test_exmpm, preds_exmpm)\n",
        "    return rsmle_result\n",
        "\n",
        "import gc\n",
        "from scipy.sparse import hstack\n",
        "\n",
        "def model_train_predict(model, matrix_list):\n",
        "    X = hstack(matrix_list).tocsr()\n",
        "    X_train, X_test, y_train, y_test = train_test_split(X, mercari_df['price'],\\\n",
        "        test_size=0.2, random_state=156)\n",
        "    model.fit(X_train, y_train)\n",
        "    preds = model.predict(X_test)\n",
        "\n",
        "    del X, X_train, X_test, y_train\n",
        "    gc.collect()\n",
        "\n",
        "    return preds, y_test"
      ],
      "execution_count": null,
      "outputs": []
    },
    {
      "cell_type": "code",
      "metadata": {
        "id": "8z3hnMA9beJD",
        "outputId": "6d18a16c-e66a-4c13-9cfb-3c91abde940b"
      },
      "source": [
        "from sklearn.linear_model import Ridge, LogisticRegression\n",
        "from sklearn.model_selection import train_test_split, cross_val_score\n",
        "\n",
        "linear_model = Ridge(solver='lsqr', fit_intercept=False)\n",
        "\n",
        "sparse_matrix_list = (X_name, X_brand, X_item_cond_id, X_shipping, X_cat_dae,\\\n",
        "    X_cat_jung, X_cat_so)\n",
        "\n",
        "linear_preds, y_test = model_train_predict(linear_model,sparse_matrix_list)\n",
        "print(f'Item Description 제외시 rmsle : {evaluate_org_price(y_test, linear_preds)}')\n",
        "\n",
        "sparse_matrix_list = (X_descp, X_name, X_brand, X_item_cond_id, X_shipping, X_cat_dae,\\\n",
        "    X_cat_jung, X_cat_so)\n",
        "linear_preds, y_test = model_train_predict(linear_model,sparse_matrix_list)\n",
        "print(f'Item Description 포함한 rmsle : {evaluate_org_price(y_test, linear_preds)}')"
      ],
      "execution_count": null,
      "outputs": [
        {
          "output_type": "stream",
          "name": "stdout",
          "text": [
            "Item Description 제외시 rmsle : 0.5021761023600119\n",
            "Item Description 포함한 rmsle : 0.4712200395810773\n"
          ]
        }
      ]
    },
    {
      "cell_type": "markdown",
      "metadata": {
        "id": "RKNVBpjebeJD"
      },
      "source": [
        "### LightGBM 회귀 모델 구축과 앙상블을 이용한 최종 예측 평가"
      ]
    },
    {
      "cell_type": "code",
      "metadata": {
        "id": "m1kJLBKSbeJD",
        "outputId": "f0bdf86a-3504-4e2b-a040-c409c7eb66cb"
      },
      "source": [
        "from lightgbm import LGBMRegressor\n",
        "\n",
        "sparse_matrix_list = (X_descp, X_name, X_brand, X_item_cond_id, X_shipping, X_cat_dae,\\\n",
        "    X_cat_jung, X_cat_so)\n",
        "\n",
        "lgbm_model = LGBMRegressor(n_estimators=200, learning_rate=0.5, num_leaves=125, random_state=156)\n",
        "lgbm_preds, y_test = model_train_predict(lgbm_model,sparse_matrix_list)\n",
        "print(evaluate_org_price(y_test, lgbm_preds))"
      ],
      "execution_count": null,
      "outputs": [
        {
          "output_type": "stream",
          "name": "stdout",
          "text": [
            "0.4571739651352995\n"
          ]
        }
      ]
    },
    {
      "cell_type": "code",
      "metadata": {
        "id": "kcQjFfnvbeJD",
        "outputId": "d3bcc546-7c58-4a98-8ae0-0ba3beb0022e"
      },
      "source": [
        "print(f'LightGBM, Ridge를 앙상블한 rmsle : {evaluate_org_price(y_test, (lgbm_preds*0.5)+(linear_preds*0.5))}')"
      ],
      "execution_count": null,
      "outputs": [
        {
          "output_type": "stream",
          "name": "stdout",
          "text": [
            "LightGBM, Ridge를 앙상블한 rmsle : 0.449872693702581\n"
          ]
        }
      ]
    }
  ]
}