{
  "nbformat": 4,
  "nbformat_minor": 0,
  "metadata": {
    "orig_nbformat": 4,
    "language_info": {
      "name": "python",
      "version": "3.8.10",
      "mimetype": "text/x-python",
      "codemirror_mode": {
        "name": "ipython",
        "version": 3
      },
      "pygments_lexer": "ipython3",
      "nbconvert_exporter": "python",
      "file_extension": ".py"
    },
    "kernelspec": {
      "name": "python3",
      "display_name": "Python 3.8.10 64-bit ('cakd3': conda)"
    },
    "interpreter": {
      "hash": "b54ea5334ac7e30e14c15345e162e7c7584df602af4968ddc075c99bdced931e"
    },
    "colab": {
      "name": "CH3_평가.ipynb",
      "provenance": [],
      "include_colab_link": true
    }
  },
  "cells": [
    {
      "cell_type": "markdown",
      "metadata": {
        "id": "view-in-github",
        "colab_type": "text"
      },
      "source": [
        "<a href=\"https://colab.research.google.com/github/parkmina365/machine_learning_guide/blob/main/CH3_%ED%8F%89%EA%B0%80.ipynb\" target=\"_parent\"><img src=\"https://colab.research.google.com/assets/colab-badge.svg\" alt=\"Open In Colab\"/></a>"
      ]
    },
    {
      "cell_type": "markdown",
      "metadata": {
        "id": "-apIfeZba_-k"
      },
      "source": [
        "머신러닝 프로세스: 데이터 가공/변환 -> 모델학습/예측 -> 평가\\\n",
        "Classification의 성능평가지표: Accuracy, Precision, Recall, F1 score, ROC AUC, Confusion Matrix"
      ]
    },
    {
      "cell_type": "markdown",
      "metadata": {
        "id": "Zg_AB4Kya_-m"
      },
      "source": [
        "# 1. Accuracy\n",
        "- 정확도: 실제 데이터와 예측 데이터가 얼마나 같은지 판단하는 지표\n",
        "- 예측결과가 동일한 데이터 수 / 전체 예측 데이터 수\n",
        "- 모델 예측 성능을 직관적으로 나타내는 평가 지표. 이진분류는 데이터의 구성에 따라 머신러닝 모델의 성능을 왜곡할 수 있기 때문에 정확도만으로 모델의 성능 평가하지 않음(예: Positive 비율이 낮은 불균형한 데이터 세트는 Negative로 예측할 가능성이 높음)"
      ]
    },
    {
      "cell_type": "markdown",
      "metadata": {
        "id": "ZwzQy1WZa_-m"
      },
      "source": [
        "# 2. Confusion Matrix\n",
        "- 이진분류로 예측시 예측 오류가 얼마인지, 어떤 유형의 예측 오류가 발생하고 있는지 나타내는 지표\n",
        "- True/False는 예측값과 실제값의 일치여부, Negative/Positive는 예측값을 의미\n",
        "  - TN: 실제값 Negative(0), 예측값 Negative(0)\n",
        "  - FP: 실제값 Negative(0), 예측값 Positive(1) / Type 1 error\n",
        "  - FN: 실제값 Positive(1), 예측값 Negative(0) / Type 2 error\n",
        "  - TP: 실제값 Positive(1), 예측값 Positive(1)\n",
        "\n",
        "\n",
        "- Accuracy(정확도) = (TP + TN) / ( TP + TN + FP + FN)\n",
        "- Precision(정밀도) = TP / ( TP + FP)\n",
        "- Recall(재현율) = TP / (TP + FN) / 실제값이 나타날 확률\n",
        "- F1 = 2 * ( 정밀도 * 재현율) / (정밀도 + 재현율). 정밀도와 재현율이 어느 한쪽으로 치우치지 않는 수치를 나타낼때 높아짐"
      ]
    },
    {
      "cell_type": "markdown",
      "metadata": {
        "id": "XVVpmdeua_-n"
      },
      "source": [
        "# 3. Precision, Recall\n",
        "- Precision, Recall은 Positive 데이터 세트의 예측 성능에 초점을 맞춘 평가 지표\n",
        "- Precision: 예측이 Positive인 대상(TP+FP) 중 실제값이 Positive인 데이터의 비율(TP) / 예측치가 얼마나 정확한지\n",
        "- Precision이 중요 지표인 경우: 일반 메일은 스팸 메일이 아닌데(Negative) 스팸 메일로 분류(Positive)해서 업무 차질 발생\n",
        "- Recall : 실제값이 Positive인 대상(TP+FN) 중 실제값이 Positive인 데이터의 비율(TP) / 실제값을 얼마나 재현했는지\n",
        "- Recall이 중요 지표인 경우: 실제 Positive 데이터를 Negative로 잘못 판단하게 되면 업무 차질 발생(ex. 보험사기, 암진단)\n",
        "\n",
        "- 정밀도 또는 재현율이 특별히 강조돼야 할 경우 분류의 결정 임계값(Threshold)을 조정해 정밀도 또는 재현율의 수치를 높일 수 있음\n",
        "- 정밀도와 재현율은 한쪽을 높이면 다른 하나의 수치는 낮아지므로 트레이드 오프(Trade-off) 관계임"
      ]
    },
    {
      "cell_type": "markdown",
      "metadata": {
        "id": "-U3IHCcBa_-n"
      },
      "source": [
        "## 1. predict_proba\n",
        "- 개별 데이터별로 예측 확률을 반환\n",
        "- 이진분류에서는 임계값이 50%가 디폴트이며 기준값보다 크면 Positive, 작으면 Negative로 결정\n",
        "- 분류하려는 업무의 특성에 따라 임계값을 조절할때 유용하게 사용 가능\n",
        "- 임계값의 조정에 따라 Precision 혹은 Recall을 높일수 있음\n",
        "- predict() 메서드와 동일하게 사용 가능"
      ]
    },
    {
      "cell_type": "markdown",
      "metadata": {
        "id": "5-K9SHU0a_-n"
      },
      "source": [
        "## 2. Binarizer\n",
        "- sklearn.preprocessing.Binarizer\n",
        "- 임계값을 설정하여 이진분류로 변환시킴\n",
        "- Binarizer(threshold=n).fit_transform(X)"
      ]
    },
    {
      "cell_type": "code",
      "metadata": {
        "id": "glnRJPZja_-o",
        "outputId": "b4241ce2-861d-4051-c7ff-4980702f6989"
      },
      "source": [
        "from sklearn.preprocessing import Binarizer\n",
        "import numpy as np\n",
        "X = [[1,-1,2],[2,0,0],[0,1.1,1.2]]\n",
        "\n",
        "Binarizer(threshold=1.1).fit_transform(X)"
      ],
      "execution_count": null,
      "outputs": [
        {
          "output_type": "execute_result",
          "data": {
            "text/plain": [
              "array([[0., 0., 1.],\n",
              "       [1., 0., 0.],\n",
              "       [0., 0., 1.]])"
            ]
          },
          "metadata": {},
          "execution_count": 1
        }
      ]
    }
  ]
}